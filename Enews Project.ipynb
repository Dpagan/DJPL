{
 "cells": [
  {
   "cell_type": "code",
   "execution_count": 1,
   "metadata": {
    "execution": {
     "iopub.execute_input": "2021-07-23T15:26:12.473780Z",
     "iopub.status.busy": "2021-07-23T15:26:12.473326Z",
     "iopub.status.idle": "2021-07-23T15:26:12.478118Z",
     "shell.execute_reply": "2021-07-23T15:26:12.477253Z",
     "shell.execute_reply.started": "2021-07-23T15:26:12.473740Z"
    }
   },
   "outputs": [
    {
     "name": "stderr",
     "output_type": "stream",
     "text": [
      "/Users/dwightpaganlugo/opt/anaconda3/lib/python3.8/site-packages/scipy/__init__.py:146: UserWarning: A NumPy version >=1.16.5 and <1.23.0 is required for this version of SciPy (detected version 1.24.4\n",
      "  warnings.warn(f\"A NumPy version >={np_minversion} and <{np_maxversion}\"\n"
     ]
    }
   ],
   "source": [
    "import scipy.stats as stats  "
   ]
  },
  {
   "cell_type": "code",
   "execution_count": 2,
   "metadata": {
    "execution": {
     "iopub.execute_input": "2021-07-23T15:26:36.444481Z",
     "iopub.status.busy": "2021-07-23T15:26:36.444076Z",
     "iopub.status.idle": "2021-07-23T15:26:36.448317Z",
     "shell.execute_reply": "2021-07-23T15:26:36.447562Z",
     "shell.execute_reply.started": "2021-07-23T15:26:36.444438Z"
    }
   },
   "outputs": [],
   "source": [
    "import scipy"
   ]
  },
  {
   "cell_type": "code",
   "execution_count": 3,
   "metadata": {},
   "outputs": [
    {
     "name": "stdout",
     "output_type": "stream",
     "text": [
      "1.7.3\n"
     ]
    }
   ],
   "source": [
    "version = scipy.version.version\n",
    "\n",
    "print(version)"
   ]
  },
  {
   "cell_type": "markdown",
   "metadata": {},
   "source": [
    "\n",
    "\n",
    "## Exploratory Data Analysis\n",
    "\n",
    "1) Do the users spend more time on the new landing page than the old landing page?\n",
    "\n",
    "2) Is the conversion rate (the proportion of users who visit the landing page and get converted) for the new page greater than the conversion rate for the old page?\n",
    "\n",
    "3) Does the converted status depend on the preferred language? [Hint: Create a contingency table using the pandas.crosstab() function]\n",
    "\n",
    "4) Is the mean time spent on the new page same for the different language users?\n",
    "\n",
    "*Consider a significance level of 0.05 for all tests.\n",
    "\n"
   ]
  },
  {
   "cell_type": "markdown",
   "metadata": {},
   "source": [
    "# # Data Dictionary:\n",
    "\n",
    "user_id - This represents the user ID of the person visiting the website.\n",
    "\n",
    "group - This represents whether the user belongs to the first group (control) or the second group (treatment).\n",
    "\n",
    "landing_page - This represents whether the landing page is new or old.\n",
    "\n",
    "time_spent_on_the_page - This represents the time (in minutes) spent by the user on the landing page.\n",
    "\n",
    "converted - This represents whether the user gets converted to a subscriber of the news portal or not.\n",
    "\n",
    "language_preferred - This represents the language chosen by the user to view the landing page."
   ]
  },
  {
   "cell_type": "code",
   "execution_count": 4,
   "metadata": {
    "execution": {
     "iopub.execute_input": "2021-07-23T14:56:11.555257Z",
     "iopub.status.busy": "2021-07-23T14:56:11.554863Z",
     "iopub.status.idle": "2021-07-23T14:56:11.567230Z",
     "shell.execute_reply": "2021-07-23T14:56:11.565669Z",
     "shell.execute_reply.started": "2021-07-23T14:56:11.555222Z"
    }
   },
   "outputs": [],
   "source": [
    "# library used for analysis and manipulate data\n",
    "import pandas as pd  \n",
    "\n",
    "# this library is used to work with arrays\n",
    "import numpy as np  \n",
    "\n",
    "#Library for statistical and probability functions\n",
    "import scipy.stats as stats  \n",
    "\n",
    "#Library for our visualizations\n",
    "import matplotlib.pyplot as plt  \n",
    "\n",
    "#Library to make visualizations look crisp and nice\n",
    "import seaborn as sns  \n",
    "\n",
    "%matplotlib inline\n",
    "\n"
   ]
  },
  {
   "cell_type": "code",
   "execution_count": 5,
   "metadata": {
    "execution": {
     "iopub.execute_input": "2021-07-23T15:06:11.671096Z",
     "iopub.status.busy": "2021-07-23T15:06:11.670662Z",
     "iopub.status.idle": "2021-07-23T15:06:11.689460Z",
     "shell.execute_reply": "2021-07-23T15:06:11.688398Z",
     "shell.execute_reply.started": "2021-07-23T15:06:11.671059Z"
    }
   },
   "outputs": [],
   "source": [
    "enews = pd.read_csv('abtest.csv')"
   ]
  },
  {
   "cell_type": "code",
   "execution_count": 6,
   "metadata": {
    "execution": {
     "iopub.execute_input": "2021-07-23T15:06:15.352504Z",
     "iopub.status.busy": "2021-07-23T15:06:15.352092Z",
     "iopub.status.idle": "2021-07-23T15:06:15.371396Z",
     "shell.execute_reply": "2021-07-23T15:06:15.370160Z",
     "shell.execute_reply.started": "2021-07-23T15:06:15.352449Z"
    }
   },
   "outputs": [
    {
     "data": {
      "text/html": [
       "<div>\n",
       "<style scoped>\n",
       "    .dataframe tbody tr th:only-of-type {\n",
       "        vertical-align: middle;\n",
       "    }\n",
       "\n",
       "    .dataframe tbody tr th {\n",
       "        vertical-align: top;\n",
       "    }\n",
       "\n",
       "    .dataframe thead th {\n",
       "        text-align: right;\n",
       "    }\n",
       "</style>\n",
       "<table border=\"1\" class=\"dataframe\">\n",
       "  <thead>\n",
       "    <tr style=\"text-align: right;\">\n",
       "      <th></th>\n",
       "      <th>user_id</th>\n",
       "      <th>group</th>\n",
       "      <th>landing_page</th>\n",
       "      <th>time_spent_on_the_page</th>\n",
       "      <th>converted</th>\n",
       "      <th>language_preferred</th>\n",
       "    </tr>\n",
       "  </thead>\n",
       "  <tbody>\n",
       "    <tr>\n",
       "      <th>0</th>\n",
       "      <td>546592</td>\n",
       "      <td>control</td>\n",
       "      <td>old</td>\n",
       "      <td>3.48</td>\n",
       "      <td>no</td>\n",
       "      <td>Spanish</td>\n",
       "    </tr>\n",
       "    <tr>\n",
       "      <th>1</th>\n",
       "      <td>546468</td>\n",
       "      <td>treatment</td>\n",
       "      <td>new</td>\n",
       "      <td>7.13</td>\n",
       "      <td>yes</td>\n",
       "      <td>English</td>\n",
       "    </tr>\n",
       "    <tr>\n",
       "      <th>2</th>\n",
       "      <td>546462</td>\n",
       "      <td>treatment</td>\n",
       "      <td>new</td>\n",
       "      <td>4.40</td>\n",
       "      <td>no</td>\n",
       "      <td>Spanish</td>\n",
       "    </tr>\n",
       "    <tr>\n",
       "      <th>3</th>\n",
       "      <td>546567</td>\n",
       "      <td>control</td>\n",
       "      <td>old</td>\n",
       "      <td>3.02</td>\n",
       "      <td>no</td>\n",
       "      <td>French</td>\n",
       "    </tr>\n",
       "    <tr>\n",
       "      <th>4</th>\n",
       "      <td>546459</td>\n",
       "      <td>treatment</td>\n",
       "      <td>new</td>\n",
       "      <td>4.75</td>\n",
       "      <td>yes</td>\n",
       "      <td>Spanish</td>\n",
       "    </tr>\n",
       "    <tr>\n",
       "      <th>5</th>\n",
       "      <td>546558</td>\n",
       "      <td>control</td>\n",
       "      <td>old</td>\n",
       "      <td>5.28</td>\n",
       "      <td>yes</td>\n",
       "      <td>English</td>\n",
       "    </tr>\n",
       "    <tr>\n",
       "      <th>6</th>\n",
       "      <td>546448</td>\n",
       "      <td>treatment</td>\n",
       "      <td>new</td>\n",
       "      <td>5.25</td>\n",
       "      <td>yes</td>\n",
       "      <td>French</td>\n",
       "    </tr>\n",
       "    <tr>\n",
       "      <th>7</th>\n",
       "      <td>546581</td>\n",
       "      <td>control</td>\n",
       "      <td>old</td>\n",
       "      <td>6.53</td>\n",
       "      <td>yes</td>\n",
       "      <td>Spanish</td>\n",
       "    </tr>\n",
       "    <tr>\n",
       "      <th>8</th>\n",
       "      <td>546461</td>\n",
       "      <td>treatment</td>\n",
       "      <td>new</td>\n",
       "      <td>10.71</td>\n",
       "      <td>yes</td>\n",
       "      <td>French</td>\n",
       "    </tr>\n",
       "    <tr>\n",
       "      <th>9</th>\n",
       "      <td>546548</td>\n",
       "      <td>control</td>\n",
       "      <td>old</td>\n",
       "      <td>2.08</td>\n",
       "      <td>no</td>\n",
       "      <td>English</td>\n",
       "    </tr>\n",
       "  </tbody>\n",
       "</table>\n",
       "</div>"
      ],
      "text/plain": [
       "   user_id      group landing_page  time_spent_on_the_page converted  \\\n",
       "0   546592    control          old                    3.48        no   \n",
       "1   546468  treatment          new                    7.13       yes   \n",
       "2   546462  treatment          new                    4.40        no   \n",
       "3   546567    control          old                    3.02        no   \n",
       "4   546459  treatment          new                    4.75       yes   \n",
       "5   546558    control          old                    5.28       yes   \n",
       "6   546448  treatment          new                    5.25       yes   \n",
       "7   546581    control          old                    6.53       yes   \n",
       "8   546461  treatment          new                   10.71       yes   \n",
       "9   546548    control          old                    2.08        no   \n",
       "\n",
       "  language_preferred  \n",
       "0            Spanish  \n",
       "1            English  \n",
       "2            Spanish  \n",
       "3             French  \n",
       "4            Spanish  \n",
       "5            English  \n",
       "6             French  \n",
       "7            Spanish  \n",
       "8             French  \n",
       "9            English  "
      ]
     },
     "execution_count": 6,
     "metadata": {},
     "output_type": "execute_result"
    }
   ],
   "source": [
    "#query to import and read our data file\n",
    "\n",
    "\n",
    "enews.head(10)"
   ]
  },
  {
   "cell_type": "code",
   "execution_count": 7,
   "metadata": {
    "execution": {
     "iopub.execute_input": "2021-07-23T15:06:36.944011Z",
     "iopub.status.busy": "2021-07-23T15:06:36.943623Z",
     "iopub.status.idle": "2021-07-23T15:06:36.950838Z",
     "shell.execute_reply": "2021-07-23T15:06:36.949864Z",
     "shell.execute_reply.started": "2021-07-23T15:06:36.943977Z"
    }
   },
   "outputs": [
    {
     "data": {
      "text/plain": [
       "(100, 6)"
      ]
     },
     "execution_count": 7,
     "metadata": {},
     "output_type": "execute_result"
    }
   ],
   "source": [
    "enews.shape #checking shape of data"
   ]
  },
  {
   "cell_type": "markdown",
   "metadata": {},
   "source": [
    "#### We have a hundred rows and 6 columns of data."
   ]
  },
  {
   "cell_type": "code",
   "execution_count": 8,
   "metadata": {
    "execution": {
     "iopub.execute_input": "2021-07-23T15:06:43.042260Z",
     "iopub.status.busy": "2021-07-23T15:06:43.041870Z",
     "iopub.status.idle": "2021-07-23T15:06:43.069343Z",
     "shell.execute_reply": "2021-07-23T15:06:43.068434Z",
     "shell.execute_reply.started": "2021-07-23T15:06:43.042226Z"
    }
   },
   "outputs": [
    {
     "name": "stdout",
     "output_type": "stream",
     "text": [
      "<class 'pandas.core.frame.DataFrame'>\n",
      "RangeIndex: 100 entries, 0 to 99\n",
      "Data columns (total 6 columns):\n",
      " #   Column                  Non-Null Count  Dtype  \n",
      "---  ------                  --------------  -----  \n",
      " 0   user_id                 100 non-null    int64  \n",
      " 1   group                   100 non-null    object \n",
      " 2   landing_page            100 non-null    object \n",
      " 3   time_spent_on_the_page  100 non-null    float64\n",
      " 4   converted               100 non-null    object \n",
      " 5   language_preferred      100 non-null    object \n",
      "dtypes: float64(1), int64(1), object(4)\n",
      "memory usage: 4.8+ KB\n"
     ]
    }
   ],
   "source": [
    "enews.info() #check information about data"
   ]
  },
  {
   "cell_type": "code",
   "execution_count": 9,
   "metadata": {},
   "outputs": [
    {
     "data": {
      "text/html": [
       "<div>\n",
       "<style scoped>\n",
       "    .dataframe tbody tr th:only-of-type {\n",
       "        vertical-align: middle;\n",
       "    }\n",
       "\n",
       "    .dataframe tbody tr th {\n",
       "        vertical-align: top;\n",
       "    }\n",
       "\n",
       "    .dataframe thead th {\n",
       "        text-align: right;\n",
       "    }\n",
       "</style>\n",
       "<table border=\"1\" class=\"dataframe\">\n",
       "  <thead>\n",
       "    <tr style=\"text-align: right;\">\n",
       "      <th></th>\n",
       "      <th>user_id</th>\n",
       "      <th>time_spent_on_the_page</th>\n",
       "    </tr>\n",
       "  </thead>\n",
       "  <tbody>\n",
       "    <tr>\n",
       "      <th>count</th>\n",
       "      <td>100.000000</td>\n",
       "      <td>100.000000</td>\n",
       "    </tr>\n",
       "    <tr>\n",
       "      <th>mean</th>\n",
       "      <td>546517.000000</td>\n",
       "      <td>5.377800</td>\n",
       "    </tr>\n",
       "    <tr>\n",
       "      <th>std</th>\n",
       "      <td>52.295779</td>\n",
       "      <td>2.378166</td>\n",
       "    </tr>\n",
       "    <tr>\n",
       "      <th>min</th>\n",
       "      <td>546443.000000</td>\n",
       "      <td>0.190000</td>\n",
       "    </tr>\n",
       "    <tr>\n",
       "      <th>25%</th>\n",
       "      <td>546467.750000</td>\n",
       "      <td>3.880000</td>\n",
       "    </tr>\n",
       "    <tr>\n",
       "      <th>50%</th>\n",
       "      <td>546492.500000</td>\n",
       "      <td>5.415000</td>\n",
       "    </tr>\n",
       "    <tr>\n",
       "      <th>75%</th>\n",
       "      <td>546567.250000</td>\n",
       "      <td>7.022500</td>\n",
       "    </tr>\n",
       "    <tr>\n",
       "      <th>max</th>\n",
       "      <td>546592.000000</td>\n",
       "      <td>10.710000</td>\n",
       "    </tr>\n",
       "  </tbody>\n",
       "</table>\n",
       "</div>"
      ],
      "text/plain": [
       "             user_id  time_spent_on_the_page\n",
       "count     100.000000              100.000000\n",
       "mean   546517.000000                5.377800\n",
       "std        52.295779                2.378166\n",
       "min    546443.000000                0.190000\n",
       "25%    546467.750000                3.880000\n",
       "50%    546492.500000                5.415000\n",
       "75%    546567.250000                7.022500\n",
       "max    546592.000000               10.710000"
      ]
     },
     "execution_count": 9,
     "metadata": {},
     "output_type": "execute_result"
    }
   ],
   "source": [
    "#description of data\n",
    "enews.describe()"
   ]
  },
  {
   "cell_type": "code",
   "execution_count": 10,
   "metadata": {
    "execution": {
     "iopub.execute_input": "2021-07-23T15:06:53.370082Z",
     "iopub.status.busy": "2021-07-23T15:06:53.369688Z",
     "iopub.status.idle": "2021-07-23T15:06:53.382673Z",
     "shell.execute_reply": "2021-07-23T15:06:53.381604Z",
     "shell.execute_reply.started": "2021-07-23T15:06:53.370049Z"
    }
   },
   "outputs": [
    {
     "data": {
      "text/plain": [
       "user_id                   0\n",
       "group                     0\n",
       "landing_page              0\n",
       "time_spent_on_the_page    0\n",
       "converted                 0\n",
       "language_preferred        0\n",
       "dtype: int64"
      ]
     },
     "execution_count": 10,
     "metadata": {},
     "output_type": "execute_result"
    }
   ],
   "source": [
    "# we check for missing values\n",
    "enews.isnull().sum()\n"
   ]
  },
  {
   "cell_type": "markdown",
   "metadata": {},
   "source": [
    "There are no missing values."
   ]
  },
  {
   "cell_type": "markdown",
   "metadata": {},
   "source": [
    "### Question: Do the users spend more time on the new landing page than the old landing page?"
   ]
  },
  {
   "cell_type": "markdown",
   "metadata": {},
   "source": [
    "## Hypothesis testing\n",
    "\n",
    "#significance level\n",
    "a = 0.05 \n",
    "\n",
    "u1 = enews_new landing page\n",
    "\n",
    "u2 = enews_old landing page\n",
    "\n",
    "H0: u1 = u2 Null hipotesis says the time spent by users on the new page is equal to the time spent by users on the old page.\n",
    "Ha: u1 > u2  Alternative hipotesis, Time spent by users on the new landing page is greater than time spent by users on the old page.\n"
   ]
  },
  {
   "cell_type": "code",
   "execution_count": 11,
   "metadata": {
    "execution": {
     "iopub.execute_input": "2021-07-23T15:50:54.314166Z",
     "iopub.status.busy": "2021-07-23T15:50:54.313753Z",
     "iopub.status.idle": "2021-07-23T15:50:54.329781Z",
     "shell.execute_reply": "2021-07-23T15:50:54.328373Z",
     "shell.execute_reply.started": "2021-07-23T15:50:54.314128Z"
    }
   },
   "outputs": [
    {
     "name": "stdout",
     "output_type": "stream",
     "text": [
      "    user_id    group landing_page  time_spent_on_the_page converted  \\\n",
      "0    546592  control          old                    3.48        no   \n",
      "3    546567  control          old                    3.02        no   \n",
      "5    546558  control          old                    5.28       yes   \n",
      "7    546581  control          old                    6.53       yes   \n",
      "9    546548  control          old                    2.08        no   \n",
      "10   546588  control          old                    6.21       yes   \n",
      "11   546546  control          old                    2.58       yes   \n",
      "14   546578  control          old                    8.72       yes   \n",
      "17   546555  control          old                    0.40        no   \n",
      "18   546493  control          old                   10.30       yes   \n",
      "19   546549  control          old                    3.88       yes   \n",
      "20   546560  control          old                    2.66        no   \n",
      "21   546584  control          old                    7.03       yes   \n",
      "27   546586  control          old                    4.05        no   \n",
      "29   546575  control          old                    4.28        no   \n",
      "31   546556  control          old                    3.52       yes   \n",
      "32   546585  control          old                    5.39       yes   \n",
      "33   546577  control          old                    4.52        no   \n",
      "34   546587  control          old                    4.46        no   \n",
      "35   546552  control          old                    8.50       yes   \n",
      "36   546551  control          old                    3.13        no   \n",
      "37   546557  control          old                    6.04       yes   \n",
      "39   546589  control          old                    0.19        no   \n",
      "40   546559  control          old                    8.46       yes   \n",
      "41   546570  control          old                    1.92        no   \n",
      "45   546565  control          old                    8.02        no   \n",
      "50   546554  control          old                    0.22        no   \n",
      "53   546576  control          old                    4.71        no   \n",
      "55   546563  control          old                    0.93        no   \n",
      "56   546569  control          old                    1.81        no   \n",
      "58   546562  control          old                    7.40       yes   \n",
      "59   546574  control          old                    9.15        no   \n",
      "62   546572  control          old                    4.18        no   \n",
      "63   546590  control          old                    5.47        no   \n",
      "64   546553  control          old                    5.96       yes   \n",
      "66   546545  control          old                    6.60       yes   \n",
      "67   546582  control          old                    4.75       yes   \n",
      "69   546579  control          old                    2.23        no   \n",
      "70   546568  control          old                    0.40        no   \n",
      "74   546591  control          old                    4.87        no   \n",
      "75   546583  control          old                    6.57       yes   \n",
      "76   546573  control          old                    1.44        no   \n",
      "79   546547  control          old                    3.21       yes   \n",
      "83   546580  control          old                    2.90        no   \n",
      "84   546571  control          old                    4.30        no   \n",
      "85   546564  control          old                    0.91        no   \n",
      "89   546561  control          old                    6.04       yes   \n",
      "92   546566  control          old                    8.35        no   \n",
      "94   546550  control          old                    3.05        no   \n",
      "96   546544  control          old                    6.52       yes   \n",
      "\n",
      "   language_preferred  \n",
      "0             Spanish  \n",
      "3              French  \n",
      "5             English  \n",
      "7             Spanish  \n",
      "9             English  \n",
      "10            Spanish  \n",
      "11            English  \n",
      "14            Spanish  \n",
      "17            English  \n",
      "18            English  \n",
      "19            English  \n",
      "20             French  \n",
      "21            Spanish  \n",
      "27            Spanish  \n",
      "29             French  \n",
      "31            English  \n",
      "32            Spanish  \n",
      "33            Spanish  \n",
      "34            Spanish  \n",
      "35            English  \n",
      "36            English  \n",
      "37            English  \n",
      "39            Spanish  \n",
      "40             French  \n",
      "41             French  \n",
      "45             French  \n",
      "50            English  \n",
      "53            Spanish  \n",
      "55             French  \n",
      "56             French  \n",
      "58             French  \n",
      "59             French  \n",
      "62             French  \n",
      "63            Spanish  \n",
      "64            English  \n",
      "66            English  \n",
      "67            Spanish  \n",
      "69            Spanish  \n",
      "70             French  \n",
      "74            Spanish  \n",
      "75            Spanish  \n",
      "76             French  \n",
      "79            English  \n",
      "83            Spanish  \n",
      "84             French  \n",
      "85             French  \n",
      "89             French  \n",
      "92             French  \n",
      "94            English  \n",
      "96            English  \n"
     ]
    }
   ],
   "source": [
    "#new table showing only users from old landing page\n",
    "enews_old = enews[enews.landing_page==\"old\"]\n",
    "print(enews_old)"
   ]
  },
  {
   "cell_type": "code",
   "execution_count": 12,
   "metadata": {
    "execution": {
     "iopub.execute_input": "2021-07-23T15:51:02.565049Z",
     "iopub.status.busy": "2021-07-23T15:51:02.564687Z",
     "iopub.status.idle": "2021-07-23T15:51:02.571906Z",
     "shell.execute_reply": "2021-07-23T15:51:02.570865Z",
     "shell.execute_reply.started": "2021-07-23T15:51:02.565018Z"
    }
   },
   "outputs": [
    {
     "name": "stdout",
     "output_type": "stream",
     "text": [
      "4.532400000000001\n"
     ]
    }
   ],
   "source": [
    "#checking mean of the time spent on the old page\n",
    "enews_old = enews[enews.landing_page==\"old\"]\n",
    "print(enews_old.time_spent_on_the_page.mean())"
   ]
  },
  {
   "cell_type": "code",
   "execution_count": 13,
   "metadata": {
    "execution": {
     "iopub.execute_input": "2021-07-23T15:51:21.335036Z",
     "iopub.status.busy": "2021-07-23T15:51:21.334591Z",
     "iopub.status.idle": "2021-07-23T15:51:21.350698Z",
     "shell.execute_reply": "2021-07-23T15:51:21.349469Z",
     "shell.execute_reply.started": "2021-07-23T15:51:21.334997Z"
    }
   },
   "outputs": [
    {
     "name": "stdout",
     "output_type": "stream",
     "text": [
      "    user_id      group landing_page  time_spent_on_the_page converted  \\\n",
      "1    546468  treatment          new                    7.13       yes   \n",
      "2    546462  treatment          new                    4.40        no   \n",
      "4    546459  treatment          new                    4.75       yes   \n",
      "6    546448  treatment          new                    5.25       yes   \n",
      "8    546461  treatment          new                   10.71       yes   \n",
      "12   546491  treatment          new                    5.86       yes   \n",
      "13   546478  treatment          new                    6.03       yes   \n",
      "15   546466  treatment          new                    6.27       yes   \n",
      "16   546443  treatment          new                    8.73        no   \n",
      "22   546450  treatment          new                    3.65        no   \n",
      "23   546475  treatment          new                    7.02       yes   \n",
      "24   546456  treatment          new                    6.18        no   \n",
      "25   546455  treatment          new                    4.39        no   \n",
      "26   546469  treatment          new                    9.49       yes   \n",
      "28   546471  treatment          new                    7.81       yes   \n",
      "30   546464  treatment          new                    5.41       yes   \n",
      "38   546487  treatment          new                    1.65        no   \n",
      "42   546489  treatment          new                    7.16       yes   \n",
      "43   546453  treatment          new                    7.16       yes   \n",
      "44   546488  treatment          new                    3.91        no   \n",
      "46   546460  treatment          new                    5.37       yes   \n",
      "47   546458  treatment          new                    7.23       yes   \n",
      "48   546492  treatment          new                    8.08       yes   \n",
      "49   546473  treatment          new                   10.50       yes   \n",
      "51   546457  treatment          new                    5.65        no   \n",
      "52   546479  treatment          new                    6.47       yes   \n",
      "54   546482  treatment          new                    6.41       yes   \n",
      "57   546454  treatment          new                    8.30       yes   \n",
      "60   546470  treatment          new                    6.01       yes   \n",
      "61   546467  treatment          new                    6.79       yes   \n",
      "65   546445  treatment          new                    7.27       yes   \n",
      "68   546484  treatment          new                    6.70        no   \n",
      "71   546476  treatment          new                    5.42       yes   \n",
      "72   546452  treatment          new                    5.08       yes   \n",
      "73   546444  treatment          new                    7.46       yes   \n",
      "77   546485  treatment          new                    3.88        no   \n",
      "78   546486  treatment          new                    9.12       yes   \n",
      "80   546490  treatment          new                    4.68        no   \n",
      "81   546449  treatment          new                    5.26       yes   \n",
      "82   546463  treatment          new                    5.74       yes   \n",
      "86   546465  treatment          new                    6.71        no   \n",
      "87   546480  treatment          new                    3.68        no   \n",
      "88   546447  treatment          new                    3.30        no   \n",
      "90   546477  treatment          new                    5.40        no   \n",
      "91   546451  treatment          new                    8.47       yes   \n",
      "93   546474  treatment          new                    4.94        no   \n",
      "95   546446  treatment          new                    5.15        no   \n",
      "97   546472  treatment          new                    7.07       yes   \n",
      "98   546481  treatment          new                    6.20       yes   \n",
      "99   546483  treatment          new                    5.86       yes   \n",
      "\n",
      "   language_preferred  \n",
      "1             English  \n",
      "2             Spanish  \n",
      "4             Spanish  \n",
      "6              French  \n",
      "8              French  \n",
      "12            Spanish  \n",
      "13             French  \n",
      "15            Spanish  \n",
      "16            English  \n",
      "22            English  \n",
      "23            English  \n",
      "24            Spanish  \n",
      "25            English  \n",
      "26            English  \n",
      "28             French  \n",
      "30            English  \n",
      "38            Spanish  \n",
      "42            Spanish  \n",
      "43            English  \n",
      "44            English  \n",
      "46             French  \n",
      "47            Spanish  \n",
      "48            Spanish  \n",
      "49            English  \n",
      "51            English  \n",
      "52            Spanish  \n",
      "54            Spanish  \n",
      "57             French  \n",
      "60             French  \n",
      "61             French  \n",
      "65             French  \n",
      "68            Spanish  \n",
      "71             French  \n",
      "72            English  \n",
      "73            English  \n",
      "77            Spanish  \n",
      "78             French  \n",
      "80             French  \n",
      "81             French  \n",
      "82            Spanish  \n",
      "86            English  \n",
      "87             French  \n",
      "88             French  \n",
      "90             French  \n",
      "91            English  \n",
      "93             French  \n",
      "95            Spanish  \n",
      "97            Spanish  \n",
      "98            Spanish  \n",
      "99            English  \n"
     ]
    }
   ],
   "source": [
    "#new table showing only users from old landing page\n",
    "enews_new = enews[enews.landing_page==\"new\"]\n",
    "print(enews_new)"
   ]
  },
  {
   "cell_type": "code",
   "execution_count": 14,
   "metadata": {
    "execution": {
     "iopub.execute_input": "2021-07-23T15:53:29.489762Z",
     "iopub.status.busy": "2021-07-23T15:53:29.489341Z",
     "iopub.status.idle": "2021-07-23T15:53:29.497859Z",
     "shell.execute_reply": "2021-07-23T15:53:29.496610Z",
     "shell.execute_reply.started": "2021-07-23T15:53:29.489729Z"
    }
   },
   "outputs": [
    {
     "name": "stdout",
     "output_type": "stream",
     "text": [
      "6.2232\n"
     ]
    }
   ],
   "source": [
    "#checking mean of the time spent on the old page\n",
    "enews_new = enews[enews.landing_page==\"new\"]\n",
    "print(enews_new.time_spent_on_the_page.mean())"
   ]
  },
  {
   "cell_type": "code",
   "execution_count": 15,
   "metadata": {
    "execution": {
     "iopub.execute_input": "2021-07-23T15:59:17.992724Z",
     "iopub.status.busy": "2021-07-23T15:59:17.992232Z",
     "iopub.status.idle": "2021-07-23T15:59:18.001241Z",
     "shell.execute_reply": "2021-07-23T15:59:17.999760Z",
     "shell.execute_reply.started": "2021-07-23T15:59:17.992686Z"
    }
   },
   "outputs": [
    {
     "name": "stdout",
     "output_type": "stream",
     "text": [
      "The p-value is 0.0001392381225166549\n"
     ]
    }
   ],
   "source": [
    "#Performing a two sample t-test to get the p_value\n",
    "\n",
    "t, p = stats.ttest_ind(enews_new.time_spent_on_the_page, enews_old.time_spent_on_the_page, equal_var=False, alternative='greater')\n",
    "\n",
    "print('The p-value is' , p)\n",
    "\n"
   ]
  },
  {
   "cell_type": "markdown",
   "metadata": {},
   "source": [
    "## Conclusion\n"
   ]
  },
  {
   "cell_type": "markdown",
   "metadata": {},
   "source": [
    "### The p-value = 0.0001392381225166549 < 0.05 (alpha), we reject the null hypothesis. and this shows that the means of the time spent by users on the new landing page is greater than the mean of time spent by users on the old landing page. It appears that the new landing page gathers more new subscribers."
   ]
  },
  {
   "cell_type": "code",
   "execution_count": 16,
   "metadata": {
    "execution": {
     "iopub.execute_input": "2021-07-23T20:05:38.705084Z",
     "iopub.status.busy": "2021-07-23T20:05:38.703972Z",
     "iopub.status.idle": "2021-07-23T20:05:38.969917Z",
     "shell.execute_reply": "2021-07-23T20:05:38.968434Z",
     "shell.execute_reply.started": "2021-07-23T20:05:38.705006Z"
    }
   },
   "outputs": [
    {
     "data": {
      "text/plain": [
       "<AxesSubplot:>"
      ]
     },
     "execution_count": 16,
     "metadata": {},
     "output_type": "execute_result"
    },
    {
     "data": {
      "image/png": "[encoded data removed]",
      "text/plain": [
       "<Figure size 640x480 with 1 Axes>"
      ]
     },
     "metadata": {},
     "output_type": "display_data"
    }
   ],
   "source": [
    "#visualisation of mean of time speant on new landing page\n",
    "enews_new.time_spent_on_the_page.hist(grid=False)\n"
   ]
  },
  {
   "cell_type": "code",
   "execution_count": 17,
   "metadata": {
    "execution": {
     "iopub.execute_input": "2021-07-23T20:04:52.737361Z",
     "iopub.status.busy": "2021-07-23T20:04:52.736973Z",
     "iopub.status.idle": "2021-07-23T20:04:52.992907Z",
     "shell.execute_reply": "2021-07-23T20:04:52.991552Z",
     "shell.execute_reply.started": "2021-07-23T20:04:52.737326Z"
    }
   },
   "outputs": [
    {
     "data": {
      "text/plain": [
       "Text(0, 0.5, 'Users')"
      ]
     },
     "execution_count": 17,
     "metadata": {},
     "output_type": "execute_result"
    },
    {
     "data": {
      "image/png": "[encoded data removed]",
      "text/plain": [
       "<Figure size 640x480 with 1 Axes>"
      ]
     },
     "metadata": {},
     "output_type": "display_data"
    }
   ],
   "source": [
    "#visualisation of mean of time speant on new landing page\n",
    "enews_new['time_spent_on_the_page'].hist(bins=15,grid=False)\n",
    "plt.xlabel(\"Mean of Minutes\", fontsize=15)\n",
    "plt.ylabel(\"Users\",fontsize=15)\n"
   ]
  },
  {
   "cell_type": "code",
   "execution_count": 18,
   "metadata": {
    "execution": {
     "iopub.execute_input": "2021-07-23T20:08:00.510985Z",
     "iopub.status.busy": "2021-07-23T20:08:00.510565Z",
     "iopub.status.idle": "2021-07-23T20:08:01.029245Z",
     "shell.execute_reply": "2021-07-23T20:08:01.027843Z",
     "shell.execute_reply.started": "2021-07-23T20:08:00.510951Z"
    }
   },
   "outputs": [
    {
     "name": "stderr",
     "output_type": "stream",
     "text": [
      "/var/folders/k8/0ll2n6td7zldq05j4vwlwd1m0000gn/T/ipykernel_12486/1616325004.py:2: UserWarning: \n",
      "\n",
      "`distplot` is a deprecated function and will be removed in seaborn v0.14.0.\n",
      "\n",
      "Please adapt your code to use either `displot` (a figure-level function with\n",
      "similar flexibility) or `histplot` (an axes-level function for histograms).\n",
      "\n",
      "For a guide to updating your code to use the new functions, please see\n",
      "https://gist.github.com/mwaskom/de44147ed2974457ad6372750bbe5751\n",
      "\n",
      "  sns.distplot(enews_new['time_spent_on_the_page'], kde=True, color='red', bins=15)\n"
     ]
    },
    {
     "data": {
      "text/plain": [
       "<AxesSubplot:xlabel='time_spent_on_the_page', ylabel='Density'>"
      ]
     },
     "execution_count": 18,
     "metadata": {},
     "output_type": "execute_result"
    },
    {
     "data": {
      "image/png": "[encoded data removed]",
      "text/plain": [
       "<Figure size 640x480 with 1 Axes>"
      ]
     },
     "metadata": {},
     "output_type": "display_data"
    }
   ],
   "source": [
    "\n",
    "#visualisation of mean of time speant on new landing page\n",
    "sns.distplot(enews_new['time_spent_on_the_page'], kde=True, color='red', bins=15)"
   ]
  },
  {
   "cell_type": "markdown",
   "metadata": {},
   "source": [
    "### The new landing page shows a normal distribution with the density or concentration of values being betwwen 4 and 8 and the mean being around 6.\n"
   ]
  },
  {
   "cell_type": "code",
   "execution_count": 19,
   "metadata": {
    "execution": {
     "iopub.execute_input": "2021-07-23T16:05:57.367972Z",
     "iopub.status.busy": "2021-07-23T16:05:57.367010Z",
     "iopub.status.idle": "2021-07-23T16:05:57.586041Z",
     "shell.execute_reply": "2021-07-23T16:05:57.584693Z",
     "shell.execute_reply.started": "2021-07-23T16:05:57.367858Z"
    }
   },
   "outputs": [
    {
     "data": {
      "text/plain": [
       "<AxesSubplot:>"
      ]
     },
     "execution_count": 19,
     "metadata": {},
     "output_type": "execute_result"
    },
    {
     "data": {
      "image/png": "[encoded data removed]",
      "text/plain": [
       "<Figure size 640x480 with 1 Axes>"
      ]
     },
     "metadata": {},
     "output_type": "display_data"
    }
   ],
   "source": [
    " enews_old.time_spent_on_the_page.hist()"
   ]
  },
  {
   "cell_type": "markdown",
   "metadata": {},
   "source": [
    "### The mean time speant on the  old landing page visualization  has an uniform distribution."
   ]
  },
  {
   "cell_type": "code",
   "execution_count": 20,
   "metadata": {},
   "outputs": [
    {
     "data": {
      "image/png": "[encoded data removed]",
      "text/plain": [
       "<Figure size 600x600 with 1 Axes>"
      ]
     },
     "metadata": {},
     "output_type": "display_data"
    }
   ],
   "source": [
    "fig, ax = plt.subplots(figsize = (6,6))\n",
    "a = sns.boxplot(x= \"landing_page\", y = 'time_spent_on_the_page' , data = enews)\n",
    "a.set_title(\"Mean time spent on page\", fontsize=15)\n",
    "plt.show()"
   ]
  },
  {
   "cell_type": "markdown",
   "metadata": {},
   "source": [
    "## Question: Is the conversion rate (the proportion of users who visit the landing page and get converted) for the new page greater than the conversion rate for the old page?\n",
    "\n",
    "H0: u1 = u2\n",
    "\n",
    "H1: u1 =! u2\n",
    "\n"
   ]
  },
  {
   "cell_type": "code",
   "execution_count": 21,
   "metadata": {
    "execution": {
     "iopub.execute_input": "2021-07-23T17:33:41.495981Z",
     "iopub.status.busy": "2021-07-23T17:33:41.495096Z",
     "iopub.status.idle": "2021-07-23T17:33:41.515750Z",
     "shell.execute_reply": "2021-07-23T17:33:41.514818Z",
     "shell.execute_reply.started": "2021-07-23T17:33:41.495921Z"
    }
   },
   "outputs": [
    {
     "data": {
      "text/plain": [
       "21"
      ]
     },
     "execution_count": 21,
     "metadata": {},
     "output_type": "execute_result"
    }
   ],
   "source": [
    "#Number of converted subscribers ('yes') to old landing page\n",
    "sum(enews_old.converted=='yes')"
   ]
  },
  {
   "cell_type": "code",
   "execution_count": 22,
   "metadata": {},
   "outputs": [
    {
     "data": {
      "text/html": [
       "<div>\n",
       "<style scoped>\n",
       "    .dataframe tbody tr th:only-of-type {\n",
       "        vertical-align: middle;\n",
       "    }\n",
       "\n",
       "    .dataframe tbody tr th {\n",
       "        vertical-align: top;\n",
       "    }\n",
       "\n",
       "    .dataframe thead th {\n",
       "        text-align: right;\n",
       "    }\n",
       "</style>\n",
       "<table border=\"1\" class=\"dataframe\">\n",
       "  <thead>\n",
       "    <tr style=\"text-align: right;\">\n",
       "      <th>converted</th>\n",
       "      <th>no</th>\n",
       "      <th>yes</th>\n",
       "    </tr>\n",
       "    <tr>\n",
       "      <th>language_preferred</th>\n",
       "      <th></th>\n",
       "      <th></th>\n",
       "    </tr>\n",
       "  </thead>\n",
       "  <tbody>\n",
       "    <tr>\n",
       "      <th>English</th>\n",
       "      <td>11</td>\n",
       "      <td>21</td>\n",
       "    </tr>\n",
       "    <tr>\n",
       "      <th>French</th>\n",
       "      <td>19</td>\n",
       "      <td>15</td>\n",
       "    </tr>\n",
       "    <tr>\n",
       "      <th>Spanish</th>\n",
       "      <td>16</td>\n",
       "      <td>18</td>\n",
       "    </tr>\n",
       "  </tbody>\n",
       "</table>\n",
       "</div>"
      ],
      "text/plain": [
       "converted           no  yes\n",
       "language_preferred         \n",
       "English             11   21\n",
       "French              19   15\n",
       "Spanish             16   18"
      ]
     },
     "execution_count": 22,
     "metadata": {},
     "output_type": "execute_result"
    }
   ],
   "source": [
    "pd.crosstab(enews.language_preferred, enews.converted)"
   ]
  },
  {
   "cell_type": "code",
   "execution_count": 23,
   "metadata": {
    "execution": {
     "iopub.execute_input": "2021-07-23T17:37:18.958193Z",
     "iopub.status.busy": "2021-07-23T17:37:18.957555Z",
     "iopub.status.idle": "2021-07-23T17:37:18.966849Z",
     "shell.execute_reply": "2021-07-23T17:37:18.965947Z",
     "shell.execute_reply.started": "2021-07-23T17:37:18.958122Z"
    }
   },
   "outputs": [
    {
     "data": {
      "text/plain": [
       "33"
      ]
     },
     "execution_count": 23,
     "metadata": {},
     "output_type": "execute_result"
    }
   ],
   "source": [
    "#Number of converted subscribers ('yes') to new landing page\n",
    "sum(enews_new.converted=='yes')"
   ]
  },
  {
   "cell_type": "code",
   "execution_count": 24,
   "metadata": {
    "execution": {
     "iopub.execute_input": "2021-07-23T19:33:46.023599Z",
     "iopub.status.busy": "2021-07-23T19:33:46.023179Z",
     "iopub.status.idle": "2021-07-23T19:33:46.030702Z",
     "shell.execute_reply": "2021-07-23T19:33:46.029389Z",
     "shell.execute_reply.started": "2021-07-23T19:33:46.023561Z"
    }
   },
   "outputs": [
    {
     "name": "stdout",
     "output_type": "stream",
     "text": [
      "0.016\n"
     ]
    }
   ],
   "source": [
    "#we use a z test for proportions \n",
    "from statsmodels.stats.proportion import proportions_ztest\n",
    "count = np.array([21, 33])\n",
    "nobs = np.array([50, 50])\n",
    "stat, pval = proportions_ztest(count, nobs)\n",
    "print('{0:0.3f}'.format(pval))"
   ]
  },
  {
   "cell_type": "markdown",
   "metadata": {
    "execution": {
     "iopub.execute_input": "2021-07-23T18:19:42.186705Z",
     "iopub.status.busy": "2021-07-23T18:19:42.186278Z",
     "iopub.status.idle": "2021-07-23T18:19:42.193742Z",
     "shell.execute_reply": "2021-07-23T18:19:42.191461Z",
     "shell.execute_reply.started": "2021-07-23T18:19:42.186671Z"
    }
   },
   "source": [
    "## Conclusion\n",
    " P-value 0.016 > 0.05 significance level,  we reject the Null hypotesis. The converstion rate for the new page is stastistically significantly higher than the old page.\n",
    "\n",
    "\n",
    "\n"
   ]
  },
  {
   "cell_type": "markdown",
   "metadata": {},
   "source": [
    "## Does the converted status depend on the preferred language? \n",
    "\n",
    "H0: converted status independence of the preferred language\n",
    "\n",
    "Ha:  converted status not independent of the preferred language\n",
    "    \n"
   ]
  },
  {
   "cell_type": "code",
   "execution_count": 25,
   "metadata": {
    "execution": {
     "iopub.execute_input": "2021-07-23T21:08:22.153390Z",
     "iopub.status.busy": "2021-07-23T21:08:22.152986Z",
     "iopub.status.idle": "2021-07-23T21:08:22.182726Z",
     "shell.execute_reply": "2021-07-23T21:08:22.181254Z",
     "shell.execute_reply.started": "2021-07-23T21:08:22.153346Z"
    }
   },
   "outputs": [],
   "source": [
    "# creating a table name for our contingency table so we can use it in the degrees of freedom function and chi-square function.\n",
    "obd = pd.crosstab(enews.language_preferred, enews.converted)"
   ]
  },
  {
   "cell_type": "code",
   "execution_count": null,
   "metadata": {},
   "outputs": [],
   "source": []
  },
  {
   "cell_type": "code",
   "execution_count": 26,
   "metadata": {
    "execution": {
     "iopub.execute_input": "2021-07-23T19:35:11.123666Z",
     "iopub.status.busy": "2021-07-23T19:35:11.123282Z",
     "iopub.status.idle": "2021-07-23T19:35:11.131456Z",
     "shell.execute_reply": "2021-07-23T19:35:11.130651Z",
     "shell.execute_reply.started": "2021-07-23T19:35:11.123632Z"
    }
   },
   "outputs": [
    {
     "name": "stdout",
     "output_type": "stream",
     "text": [
      "2\n"
     ]
    }
   ],
   "source": [
    "#degrees of freedom function\n",
    "dof = obd.size - sum(obd.shape) + obd.ndim - 1\n",
    "print(dof)"
   ]
  },
  {
   "cell_type": "code",
   "execution_count": 27,
   "metadata": {
    "execution": {
     "iopub.execute_input": "2021-07-23T19:35:13.450385Z",
     "iopub.status.busy": "2021-07-23T19:35:13.449855Z",
     "iopub.status.idle": "2021-07-23T19:35:13.458059Z",
     "shell.execute_reply": "2021-07-23T19:35:13.457001Z",
     "shell.execute_reply.started": "2021-07-23T19:35:13.450351Z"
    }
   },
   "outputs": [
    {
     "data": {
      "text/plain": [
       "(3.0930306905370832,\n",
       " 0.2129888748754345,\n",
       " 2,\n",
       " array([[14.72, 17.28],\n",
       "        [15.64, 18.36],\n",
       "        [15.64, 18.36]]))"
      ]
     },
     "execution_count": 27,
     "metadata": {},
     "output_type": "execute_result"
    }
   ],
   "source": [
    "# chi-square funtion gives us chi test statistic, p-value, dof, and frequencies for our array.\n",
    "stats.chi2_contingency(obd)"
   ]
  },
  {
   "cell_type": "markdown",
   "metadata": {},
   "source": [
    "## Conclusion\n",
    " P-value = 0.2129 which is greater than our significance level of 0.05, in which case we fail to reject our null hypotesis. "
   ]
  },
  {
   "cell_type": "markdown",
   "metadata": {},
   "source": [
    " ## Question:  Is the mean time spent on the new page same for the different language users?\n",
    " \n",
    " Hypotesis:\n",
    " \n",
    "Ho: u1 = u2 = u3\n",
    "\n",
    "Ha: at least one mean of the time spent on the new page is the same for the different language users."
   ]
  },
  {
   "cell_type": "code",
   "execution_count": 28,
   "metadata": {
    "execution": {
     "iopub.execute_input": "2021-07-23T20:48:06.871678Z",
     "iopub.status.busy": "2021-07-23T20:48:06.871286Z",
     "iopub.status.idle": "2021-07-23T20:48:06.886307Z",
     "shell.execute_reply": "2021-07-23T20:48:06.884894Z",
     "shell.execute_reply.started": "2021-07-23T20:48:06.871640Z"
    }
   },
   "outputs": [
    {
     "name": "stdout",
     "output_type": "stream",
     "text": [
      "    user_id      group landing_page  time_spent_on_the_page converted  \\\n",
      "1    546468  treatment          new                    7.13       yes   \n",
      "2    546462  treatment          new                    4.40        no   \n",
      "4    546459  treatment          new                    4.75       yes   \n",
      "6    546448  treatment          new                    5.25       yes   \n",
      "8    546461  treatment          new                   10.71       yes   \n",
      "12   546491  treatment          new                    5.86       yes   \n",
      "13   546478  treatment          new                    6.03       yes   \n",
      "15   546466  treatment          new                    6.27       yes   \n",
      "16   546443  treatment          new                    8.73        no   \n",
      "22   546450  treatment          new                    3.65        no   \n",
      "23   546475  treatment          new                    7.02       yes   \n",
      "24   546456  treatment          new                    6.18        no   \n",
      "25   546455  treatment          new                    4.39        no   \n",
      "26   546469  treatment          new                    9.49       yes   \n",
      "28   546471  treatment          new                    7.81       yes   \n",
      "30   546464  treatment          new                    5.41       yes   \n",
      "38   546487  treatment          new                    1.65        no   \n",
      "42   546489  treatment          new                    7.16       yes   \n",
      "43   546453  treatment          new                    7.16       yes   \n",
      "44   546488  treatment          new                    3.91        no   \n",
      "46   546460  treatment          new                    5.37       yes   \n",
      "47   546458  treatment          new                    7.23       yes   \n",
      "48   546492  treatment          new                    8.08       yes   \n",
      "49   546473  treatment          new                   10.50       yes   \n",
      "51   546457  treatment          new                    5.65        no   \n",
      "52   546479  treatment          new                    6.47       yes   \n",
      "54   546482  treatment          new                    6.41       yes   \n",
      "57   546454  treatment          new                    8.30       yes   \n",
      "60   546470  treatment          new                    6.01       yes   \n",
      "61   546467  treatment          new                    6.79       yes   \n",
      "65   546445  treatment          new                    7.27       yes   \n",
      "68   546484  treatment          new                    6.70        no   \n",
      "71   546476  treatment          new                    5.42       yes   \n",
      "72   546452  treatment          new                    5.08       yes   \n",
      "73   546444  treatment          new                    7.46       yes   \n",
      "77   546485  treatment          new                    3.88        no   \n",
      "78   546486  treatment          new                    9.12       yes   \n",
      "80   546490  treatment          new                    4.68        no   \n",
      "81   546449  treatment          new                    5.26       yes   \n",
      "82   546463  treatment          new                    5.74       yes   \n",
      "86   546465  treatment          new                    6.71        no   \n",
      "87   546480  treatment          new                    3.68        no   \n",
      "88   546447  treatment          new                    3.30        no   \n",
      "90   546477  treatment          new                    5.40        no   \n",
      "91   546451  treatment          new                    8.47       yes   \n",
      "93   546474  treatment          new                    4.94        no   \n",
      "95   546446  treatment          new                    5.15        no   \n",
      "97   546472  treatment          new                    7.07       yes   \n",
      "98   546481  treatment          new                    6.20       yes   \n",
      "99   546483  treatment          new                    5.86       yes   \n",
      "\n",
      "   language_preferred  \n",
      "1             English  \n",
      "2             Spanish  \n",
      "4             Spanish  \n",
      "6              French  \n",
      "8              French  \n",
      "12            Spanish  \n",
      "13             French  \n",
      "15            Spanish  \n",
      "16            English  \n",
      "22            English  \n",
      "23            English  \n",
      "24            Spanish  \n",
      "25            English  \n",
      "26            English  \n",
      "28             French  \n",
      "30            English  \n",
      "38            Spanish  \n",
      "42            Spanish  \n",
      "43            English  \n",
      "44            English  \n",
      "46             French  \n",
      "47            Spanish  \n",
      "48            Spanish  \n",
      "49            English  \n",
      "51            English  \n",
      "52            Spanish  \n",
      "54            Spanish  \n",
      "57             French  \n",
      "60             French  \n",
      "61             French  \n",
      "65             French  \n",
      "68            Spanish  \n",
      "71             French  \n",
      "72            English  \n",
      "73            English  \n",
      "77            Spanish  \n",
      "78             French  \n",
      "80             French  \n",
      "81             French  \n",
      "82            Spanish  \n",
      "86            English  \n",
      "87             French  \n",
      "88             French  \n",
      "90             French  \n",
      "91            English  \n",
      "93             French  \n",
      "95            Spanish  \n",
      "97            Spanish  \n",
      "98            Spanish  \n",
      "99            English  \n"
     ]
    }
   ],
   "source": [
    "\n",
    "enews_new = enews[enews.landing_page==\"new\"]\n",
    "print(enews_new)\n",
    "\n"
   ]
  },
  {
   "cell_type": "code",
   "execution_count": 29,
   "metadata": {
    "execution": {
     "iopub.execute_input": "2021-07-23T20:48:24.946365Z",
     "iopub.status.busy": "2021-07-23T20:48:24.946016Z",
     "iopub.status.idle": "2021-07-23T20:48:24.962701Z",
     "shell.execute_reply": "2021-07-23T20:48:24.961351Z",
     "shell.execute_reply.started": "2021-07-23T20:48:24.946333Z"
    }
   },
   "outputs": [
    {
     "data": {
      "text/html": [
       "<div>\n",
       "<style scoped>\n",
       "    .dataframe tbody tr th:only-of-type {\n",
       "        vertical-align: middle;\n",
       "    }\n",
       "\n",
       "    .dataframe tbody tr th {\n",
       "        vertical-align: top;\n",
       "    }\n",
       "\n",
       "    .dataframe thead th {\n",
       "        text-align: right;\n",
       "    }\n",
       "</style>\n",
       "<table border=\"1\" class=\"dataframe\">\n",
       "  <thead>\n",
       "    <tr style=\"text-align: right;\">\n",
       "      <th></th>\n",
       "      <th>user_id</th>\n",
       "      <th>time_spent_on_the_page</th>\n",
       "    </tr>\n",
       "    <tr>\n",
       "      <th>language_preferred</th>\n",
       "      <th></th>\n",
       "      <th></th>\n",
       "    </tr>\n",
       "  </thead>\n",
       "  <tbody>\n",
       "    <tr>\n",
       "      <th>English</th>\n",
       "      <td>546461.875000</td>\n",
       "      <td>6.663750</td>\n",
       "    </tr>\n",
       "    <tr>\n",
       "      <th>French</th>\n",
       "      <td>546466.647059</td>\n",
       "      <td>6.196471</td>\n",
       "    </tr>\n",
       "    <tr>\n",
       "      <th>Spanish</th>\n",
       "      <td>546473.647059</td>\n",
       "      <td>5.835294</td>\n",
       "    </tr>\n",
       "  </tbody>\n",
       "</table>\n",
       "</div>"
      ],
      "text/plain": [
       "                          user_id  time_spent_on_the_page\n",
       "language_preferred                                       \n",
       "English             546461.875000                6.663750\n",
       "French              546466.647059                6.196471\n",
       "Spanish             546473.647059                5.835294"
      ]
     },
     "execution_count": 29,
     "metadata": {},
     "output_type": "execute_result"
    }
   ],
   "source": [
    "enews_new.groupby('language_preferred').mean()"
   ]
  },
  {
   "cell_type": "code",
   "execution_count": 30,
   "metadata": {},
   "outputs": [
    {
     "data": {
      "text/plain": [
       "Spanish    34\n",
       "French     34\n",
       "English    32\n",
       "Name: language_preferred, dtype: int64"
      ]
     },
     "execution_count": 30,
     "metadata": {},
     "output_type": "execute_result"
    }
   ],
   "source": [
    "enews.language_preferred.value_counts()"
   ]
  },
  {
   "cell_type": "code",
   "execution_count": 31,
   "metadata": {
    "execution": {
     "iopub.execute_input": "2021-07-23T21:27:03.685805Z",
     "iopub.status.busy": "2021-07-23T21:27:03.685412Z",
     "iopub.status.idle": "2021-07-23T21:27:03.705330Z",
     "shell.execute_reply": "2021-07-23T21:27:03.704146Z",
     "shell.execute_reply.started": "2021-07-23T21:27:03.685773Z"
    }
   },
   "outputs": [
    {
     "data": {
      "text/html": [
       "<div>\n",
       "<style scoped>\n",
       "    .dataframe tbody tr th:only-of-type {\n",
       "        vertical-align: middle;\n",
       "    }\n",
       "\n",
       "    .dataframe tbody tr th {\n",
       "        vertical-align: top;\n",
       "    }\n",
       "\n",
       "    .dataframe thead th {\n",
       "        text-align: right;\n",
       "    }\n",
       "</style>\n",
       "<table border=\"1\" class=\"dataframe\">\n",
       "  <thead>\n",
       "    <tr style=\"text-align: right;\">\n",
       "      <th></th>\n",
       "      <th>language_preferred</th>\n",
       "      <th>time_spent_on_the_page</th>\n",
       "    </tr>\n",
       "  </thead>\n",
       "  <tbody>\n",
       "    <tr>\n",
       "      <th>1</th>\n",
       "      <td>English</td>\n",
       "      <td>7.13</td>\n",
       "    </tr>\n",
       "    <tr>\n",
       "      <th>2</th>\n",
       "      <td>Spanish</td>\n",
       "      <td>4.40</td>\n",
       "    </tr>\n",
       "    <tr>\n",
       "      <th>4</th>\n",
       "      <td>Spanish</td>\n",
       "      <td>4.75</td>\n",
       "    </tr>\n",
       "    <tr>\n",
       "      <th>6</th>\n",
       "      <td>French</td>\n",
       "      <td>5.25</td>\n",
       "    </tr>\n",
       "    <tr>\n",
       "      <th>8</th>\n",
       "      <td>French</td>\n",
       "      <td>10.71</td>\n",
       "    </tr>\n",
       "    <tr>\n",
       "      <th>12</th>\n",
       "      <td>Spanish</td>\n",
       "      <td>5.86</td>\n",
       "    </tr>\n",
       "    <tr>\n",
       "      <th>13</th>\n",
       "      <td>French</td>\n",
       "      <td>6.03</td>\n",
       "    </tr>\n",
       "    <tr>\n",
       "      <th>15</th>\n",
       "      <td>Spanish</td>\n",
       "      <td>6.27</td>\n",
       "    </tr>\n",
       "    <tr>\n",
       "      <th>16</th>\n",
       "      <td>English</td>\n",
       "      <td>8.73</td>\n",
       "    </tr>\n",
       "    <tr>\n",
       "      <th>22</th>\n",
       "      <td>English</td>\n",
       "      <td>3.65</td>\n",
       "    </tr>\n",
       "    <tr>\n",
       "      <th>23</th>\n",
       "      <td>English</td>\n",
       "      <td>7.02</td>\n",
       "    </tr>\n",
       "    <tr>\n",
       "      <th>24</th>\n",
       "      <td>Spanish</td>\n",
       "      <td>6.18</td>\n",
       "    </tr>\n",
       "    <tr>\n",
       "      <th>25</th>\n",
       "      <td>English</td>\n",
       "      <td>4.39</td>\n",
       "    </tr>\n",
       "    <tr>\n",
       "      <th>26</th>\n",
       "      <td>English</td>\n",
       "      <td>9.49</td>\n",
       "    </tr>\n",
       "    <tr>\n",
       "      <th>28</th>\n",
       "      <td>French</td>\n",
       "      <td>7.81</td>\n",
       "    </tr>\n",
       "    <tr>\n",
       "      <th>30</th>\n",
       "      <td>English</td>\n",
       "      <td>5.41</td>\n",
       "    </tr>\n",
       "    <tr>\n",
       "      <th>38</th>\n",
       "      <td>Spanish</td>\n",
       "      <td>1.65</td>\n",
       "    </tr>\n",
       "    <tr>\n",
       "      <th>42</th>\n",
       "      <td>Spanish</td>\n",
       "      <td>7.16</td>\n",
       "    </tr>\n",
       "    <tr>\n",
       "      <th>43</th>\n",
       "      <td>English</td>\n",
       "      <td>7.16</td>\n",
       "    </tr>\n",
       "    <tr>\n",
       "      <th>44</th>\n",
       "      <td>English</td>\n",
       "      <td>3.91</td>\n",
       "    </tr>\n",
       "    <tr>\n",
       "      <th>46</th>\n",
       "      <td>French</td>\n",
       "      <td>5.37</td>\n",
       "    </tr>\n",
       "    <tr>\n",
       "      <th>47</th>\n",
       "      <td>Spanish</td>\n",
       "      <td>7.23</td>\n",
       "    </tr>\n",
       "    <tr>\n",
       "      <th>48</th>\n",
       "      <td>Spanish</td>\n",
       "      <td>8.08</td>\n",
       "    </tr>\n",
       "    <tr>\n",
       "      <th>49</th>\n",
       "      <td>English</td>\n",
       "      <td>10.50</td>\n",
       "    </tr>\n",
       "    <tr>\n",
       "      <th>51</th>\n",
       "      <td>English</td>\n",
       "      <td>5.65</td>\n",
       "    </tr>\n",
       "    <tr>\n",
       "      <th>52</th>\n",
       "      <td>Spanish</td>\n",
       "      <td>6.47</td>\n",
       "    </tr>\n",
       "    <tr>\n",
       "      <th>54</th>\n",
       "      <td>Spanish</td>\n",
       "      <td>6.41</td>\n",
       "    </tr>\n",
       "    <tr>\n",
       "      <th>57</th>\n",
       "      <td>French</td>\n",
       "      <td>8.30</td>\n",
       "    </tr>\n",
       "    <tr>\n",
       "      <th>60</th>\n",
       "      <td>French</td>\n",
       "      <td>6.01</td>\n",
       "    </tr>\n",
       "    <tr>\n",
       "      <th>61</th>\n",
       "      <td>French</td>\n",
       "      <td>6.79</td>\n",
       "    </tr>\n",
       "    <tr>\n",
       "      <th>65</th>\n",
       "      <td>French</td>\n",
       "      <td>7.27</td>\n",
       "    </tr>\n",
       "    <tr>\n",
       "      <th>68</th>\n",
       "      <td>Spanish</td>\n",
       "      <td>6.70</td>\n",
       "    </tr>\n",
       "    <tr>\n",
       "      <th>71</th>\n",
       "      <td>French</td>\n",
       "      <td>5.42</td>\n",
       "    </tr>\n",
       "    <tr>\n",
       "      <th>72</th>\n",
       "      <td>English</td>\n",
       "      <td>5.08</td>\n",
       "    </tr>\n",
       "    <tr>\n",
       "      <th>73</th>\n",
       "      <td>English</td>\n",
       "      <td>7.46</td>\n",
       "    </tr>\n",
       "    <tr>\n",
       "      <th>77</th>\n",
       "      <td>Spanish</td>\n",
       "      <td>3.88</td>\n",
       "    </tr>\n",
       "    <tr>\n",
       "      <th>78</th>\n",
       "      <td>French</td>\n",
       "      <td>9.12</td>\n",
       "    </tr>\n",
       "    <tr>\n",
       "      <th>80</th>\n",
       "      <td>French</td>\n",
       "      <td>4.68</td>\n",
       "    </tr>\n",
       "    <tr>\n",
       "      <th>81</th>\n",
       "      <td>French</td>\n",
       "      <td>5.26</td>\n",
       "    </tr>\n",
       "    <tr>\n",
       "      <th>82</th>\n",
       "      <td>Spanish</td>\n",
       "      <td>5.74</td>\n",
       "    </tr>\n",
       "    <tr>\n",
       "      <th>86</th>\n",
       "      <td>English</td>\n",
       "      <td>6.71</td>\n",
       "    </tr>\n",
       "    <tr>\n",
       "      <th>87</th>\n",
       "      <td>French</td>\n",
       "      <td>3.68</td>\n",
       "    </tr>\n",
       "    <tr>\n",
       "      <th>88</th>\n",
       "      <td>French</td>\n",
       "      <td>3.30</td>\n",
       "    </tr>\n",
       "    <tr>\n",
       "      <th>90</th>\n",
       "      <td>French</td>\n",
       "      <td>5.40</td>\n",
       "    </tr>\n",
       "    <tr>\n",
       "      <th>91</th>\n",
       "      <td>English</td>\n",
       "      <td>8.47</td>\n",
       "    </tr>\n",
       "    <tr>\n",
       "      <th>93</th>\n",
       "      <td>French</td>\n",
       "      <td>4.94</td>\n",
       "    </tr>\n",
       "    <tr>\n",
       "      <th>95</th>\n",
       "      <td>Spanish</td>\n",
       "      <td>5.15</td>\n",
       "    </tr>\n",
       "    <tr>\n",
       "      <th>97</th>\n",
       "      <td>Spanish</td>\n",
       "      <td>7.07</td>\n",
       "    </tr>\n",
       "    <tr>\n",
       "      <th>98</th>\n",
       "      <td>Spanish</td>\n",
       "      <td>6.20</td>\n",
       "    </tr>\n",
       "    <tr>\n",
       "      <th>99</th>\n",
       "      <td>English</td>\n",
       "      <td>5.86</td>\n",
       "    </tr>\n",
       "  </tbody>\n",
       "</table>\n",
       "</div>"
      ],
      "text/plain": [
       "   language_preferred  time_spent_on_the_page\n",
       "1             English                    7.13\n",
       "2             Spanish                    4.40\n",
       "4             Spanish                    4.75\n",
       "6              French                    5.25\n",
       "8              French                   10.71\n",
       "12            Spanish                    5.86\n",
       "13             French                    6.03\n",
       "15            Spanish                    6.27\n",
       "16            English                    8.73\n",
       "22            English                    3.65\n",
       "23            English                    7.02\n",
       "24            Spanish                    6.18\n",
       "25            English                    4.39\n",
       "26            English                    9.49\n",
       "28             French                    7.81\n",
       "30            English                    5.41\n",
       "38            Spanish                    1.65\n",
       "42            Spanish                    7.16\n",
       "43            English                    7.16\n",
       "44            English                    3.91\n",
       "46             French                    5.37\n",
       "47            Spanish                    7.23\n",
       "48            Spanish                    8.08\n",
       "49            English                   10.50\n",
       "51            English                    5.65\n",
       "52            Spanish                    6.47\n",
       "54            Spanish                    6.41\n",
       "57             French                    8.30\n",
       "60             French                    6.01\n",
       "61             French                    6.79\n",
       "65             French                    7.27\n",
       "68            Spanish                    6.70\n",
       "71             French                    5.42\n",
       "72            English                    5.08\n",
       "73            English                    7.46\n",
       "77            Spanish                    3.88\n",
       "78             French                    9.12\n",
       "80             French                    4.68\n",
       "81             French                    5.26\n",
       "82            Spanish                    5.74\n",
       "86            English                    6.71\n",
       "87             French                    3.68\n",
       "88             French                    3.30\n",
       "90             French                    5.40\n",
       "91            English                    8.47\n",
       "93             French                    4.94\n",
       "95            Spanish                    5.15\n",
       "97            Spanish                    7.07\n",
       "98            Spanish                    6.20\n",
       "99            English                    5.86"
      ]
     },
     "execution_count": 31,
     "metadata": {},
     "output_type": "execute_result"
    }
   ],
   "source": [
    "\n",
    "enews.loc[enews['landing_page']=='new'].loc[:,['language_preferred','time_spent_on_the_page']]"
   ]
  },
  {
   "cell_type": "code",
   "execution_count": 32,
   "metadata": {},
   "outputs": [
    {
     "data": {
      "text/html": [
       "<div>\n",
       "<style scoped>\n",
       "    .dataframe tbody tr th:only-of-type {\n",
       "        vertical-align: middle;\n",
       "    }\n",
       "\n",
       "    .dataframe tbody tr th {\n",
       "        vertical-align: top;\n",
       "    }\n",
       "\n",
       "    .dataframe thead th {\n",
       "        text-align: right;\n",
       "    }\n",
       "</style>\n",
       "<table border=\"1\" class=\"dataframe\">\n",
       "  <thead>\n",
       "    <tr style=\"text-align: right;\">\n",
       "      <th></th>\n",
       "      <th>time_spent_on_the_page</th>\n",
       "    </tr>\n",
       "    <tr>\n",
       "      <th>language_preferred</th>\n",
       "      <th></th>\n",
       "    </tr>\n",
       "  </thead>\n",
       "  <tbody>\n",
       "    <tr>\n",
       "      <th>English</th>\n",
       "      <td>6.663750</td>\n",
       "    </tr>\n",
       "    <tr>\n",
       "      <th>French</th>\n",
       "      <td>6.196471</td>\n",
       "    </tr>\n",
       "    <tr>\n",
       "      <th>Spanish</th>\n",
       "      <td>5.835294</td>\n",
       "    </tr>\n",
       "  </tbody>\n",
       "</table>\n",
       "</div>"
      ],
      "text/plain": [
       "                    time_spent_on_the_page\n",
       "language_preferred                        \n",
       "English                           6.663750\n",
       "French                            6.196471\n",
       "Spanish                           5.835294"
      ]
     },
     "execution_count": 32,
     "metadata": {},
     "output_type": "execute_result"
    }
   ],
   "source": [
    "#means of time speant on the page by users preferred language\n",
    "enews.loc[enews['landing_page']=='new'].loc[:,['language_preferred','time_spent_on_the_page']].groupby('language_preferred').mean()"
   ]
  },
  {
   "cell_type": "code",
   "execution_count": 33,
   "metadata": {
    "execution": {
     "iopub.execute_input": "2021-07-23T22:03:47.665176Z",
     "iopub.status.busy": "2021-07-23T22:03:47.664777Z",
     "iopub.status.idle": "2021-07-23T22:03:47.671135Z",
     "shell.execute_reply": "2021-07-23T22:03:47.669926Z",
     "shell.execute_reply.started": "2021-07-23T22:03:47.665143Z"
    }
   },
   "outputs": [],
   "source": [
    "#importing package from scipy.stats to perform oneway anova test\n",
    "from scipy.stats import f_oneway"
   ]
  },
  {
   "cell_type": "code",
   "execution_count": 34,
   "metadata": {
    "execution": {
     "iopub.execute_input": "2021-07-23T22:10:23.608196Z",
     "iopub.status.busy": "2021-07-23T22:10:23.607617Z",
     "iopub.status.idle": "2021-07-23T22:10:23.616685Z",
     "shell.execute_reply": "2021-07-23T22:10:23.615716Z",
     "shell.execute_reply.started": "2021-07-23T22:10:23.608160Z"
    }
   },
   "outputs": [
    {
     "name": "stdout",
     "output_type": "stream",
     "text": [
      "The p-value is 0.8665610536012648\n"
     ]
    }
   ],
   "source": [
    "#Oneway-ANOVA test function\n",
    "\n",
    "test_stat, p_value = f_oneway(enews.loc[enews['language_preferred'] == 'English', 'time_spent_on_the_page'],\n",
    "                                        enews.loc[enews['language_preferred'] == 'French', 'time_spent_on_the_page'],\n",
    "                                        enews.loc[enews['language_preferred'] == 'Spanish', 'time_spent_on_the_page'])\n",
    "print('The p-value is '  + str(p_value))"
   ]
  },
  {
   "cell_type": "markdown",
   "metadata": {},
   "source": [
    "# Conclusion:\n",
    "\n",
    "P_Value is greater than 0.05 alpha, in which case we fail to reject the Null hypotesis.\n"
   ]
  },
  {
   "cell_type": "code",
   "execution_count": 35,
   "metadata": {},
   "outputs": [
    {
     "data": {
      "image/png": "[encoded data removed]",
      "text/plain": [
       "<Figure size 600x600 with 1 Axes>"
      ]
     },
     "metadata": {},
     "output_type": "display_data"
    }
   ],
   "source": [
    "fig, ax = plt.subplots(figsize = (6,6))\n",
    "a = sns.boxplot(x= \"language_preferred\", y = 'time_spent_on_the_page' , data = enews, hue = 'language_preferred')\n",
    "a.set_title(\"Mean time spent on page by User Language\", fontsize=15)\n",
    "plt.show()"
   ]
  },
  {
   "cell_type": "markdown",
   "metadata": {},
   "source": [
    "### The box plot does not seem to show there is a significant difference amongst the means of user languages.\n"
   ]
  }
 ],
 "metadata": {
  "kernelspec": {
   "display_name": "Python 3 (ipykernel)",
   "language": "python",
   "name": "python3"
  },
  "language_info": {
   "codemirror_mode": {
    "name": "ipython",
    "version": 3
   },
   "file_extension": ".py",
   "mimetype": "text/x-python",
   "name": "python",
   "nbconvert_exporter": "python",
   "pygments_lexer": "ipython3",
   "version": "3.8.5"
  }
 },
 "nbformat": 4,
 "nbformat_minor": 4
}
