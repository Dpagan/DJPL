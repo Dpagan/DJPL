{
 "cells": [
  {
   "cell_type": "markdown",
   "metadata": {
    "id": "AT5OogJVFbwu"
   },
   "source": [
    "# Star Hotels Project\n",
    "\n",
    "## Context\n",
    "\n",
    "A significant number of hotel bookings are called-off due to cancellations or no-shows. The typical reasons for cancellations include change of plans, scheduling conflicts, etc. This is often made easier by the option to do so free of charge or preferably at a low cost which is beneficial to hotel guests but it is a less desirable and possibly revenue-diminishing factor for hotels to deal with. Such losses are particularly high on last-minute cancellations. \n",
    "\n",
    "The new technologies involving online booking channels have dramatically changed customers’ booking possibilities and behavior. This adds a further dimension to the challenge of how hotels handle cancellations, which are no longer limited to traditional booking and guest characteristics. \n",
    "\n",
    "The cancellation of bookings impact a hotel on various fronts:\n",
    "* Loss of resources (revenue) when the hotel cannot resell the room.\n",
    "* Additional costs of distribution channels by increasing commissions or paying for publicity to help sell these rooms.\n",
    "* Lowering prices last minute, so the hotel can resell a room, resulting in reducing the profit margin.\n",
    "* Human resources to make arrangements for the guests.\n",
    "\n",
    "## Objective\n",
    "The increasing number of cancellations calls for a Machine Learning based solution that can help in predicting which booking is likely to be canceled. Star Hotels Group has a chain of hotels in Portugal, they are facing problems with the high number of booking cancellations and have reached out to your firm for data-driven solutions. You as a data scientist have to analyze the data provided to find which factors have a high influence on booking cancellations, build a predictive model that can predict which booking is going to be canceled in advance, and help in formulating profitable policies for cancellations and refunds.\n",
    "\n",
    "## Data Description\n",
    "The data contains the different attributes of customers' booking details. The detailed data dictionary is given below.\n",
    "\n",
    "\n",
    "**Data Dictionary**\n",
    "\n",
    "* no_of_adults: Number of adults\n",
    "* no_of_children: Number of Children\n",
    "* no_of_weekend_nights: Number of weekend nights (Saturday or Sunday) the guest stayed or booked to stay at the hotel\n",
    "* no_of_week_nights: Number of week nights (Monday to Friday) the guest stayed or booked to stay at the hotel\n",
    "* type_of_meal_plan: Type of meal plan booked by the customer:\n",
    "    * Not Selected – No meal plan selected\n",
    "    * Meal Plan 1 – Breakfast\n",
    "    * Meal Plan 2 – Half board (breakfast and one other meal)\n",
    "    * Meal Plan 3 – Full board (breakfast, lunch, and dinner)\n",
    "* required_car_parking_space: Does the customer require a car parking space? (0 - No, 1- Yes)\n",
    "* room_type_reserved: Type of room reserved by the customer. The values are ciphered (encoded) by Star Hotels.\n",
    "* lead_time: Number of days between the date of booking and the arrival date\n",
    "* arrival_year: Year of arrival date\n",
    "* arrival_month: Month of arrival date\n",
    "* arrival_date: Date of the month\n",
    "* market_segment_type: Market segment designation.\n",
    "* repeated_guest: Is the customer a repeated guest? (0 - No, 1- Yes)\n",
    "* no_of_previous_cancellations: Number of previous bookings that were canceled by the customer prior to the current booking\n",
    "* no_of_previous_bookings_not_canceled: Number of previous bookings not canceled by the customer prior to the current booking\n",
    "* avg_price_per_room: Average price per day of the reservation; prices of the rooms are dynamic. (in euros)\n",
    "* no_of_special_requests: Total number of special requests made by the customer (e.g. high floor, view from the room, etc)\n",
    "* booking_status: Flag indicating if the booking was canceled or not."
   ]
  },
  {
   "cell_type": "markdown",
   "metadata": {
    "id": "dirty-island"
   },
   "source": [
    "## Importing necessary libraries and data"
   ]
  },
  {
   "cell_type": "code",
   "execution_count": 2,
   "metadata": {
    "execution": {
     "iopub.execute_input": "2021-09-17T21:20:18.613333Z",
     "iopub.status.busy": "2021-09-17T21:20:18.612969Z",
     "iopub.status.idle": "2021-09-17T21:20:18.643075Z",
     "shell.execute_reply": "2021-09-17T21:20:18.642109Z",
     "shell.execute_reply.started": "2021-09-17T21:20:18.613235Z"
    },
    "id": "statewide-still"
   },
   "outputs": [],
   "source": [
    "# This Python 3 environment comes with many helpful analytics libraries installed\n",
    "# It is defined by the kaggle/python Docker image: https://github.com/kaggle/docker-python\n",
    "# For example, here's several helpful packages to load\n",
    "\n",
    "import numpy as np # linear algebra\n",
    "import pandas as pd # data processing, CSV file I/O (e.g. pd.read_csv)\n",
    "\n",
    "# Input data files are available in the read-only \"../input/\" directory\n",
    "# For example, running this (by clicking run or pressing Shift+Enter) will list all files under the input directory\n",
    "\n",
    "import os\n",
    "for dirname, _, filenames in os.walk('/kaggle/input'):\n",
    "    for filename in filenames:\n",
    "        print(os.path.join(dirname, filename))\n",
    "\n",
    "# You can write up to 20GB to the current directory (/kaggle/working/) that gets preserved as output when you create a version using \"Save & Run All\" \n",
    "# You can also write temporary files to /kaggle/temp/, but they won't be saved outside of the current session"
   ]
  },
  {
   "cell_type": "code",
   "execution_count": 3,
   "metadata": {
    "execution": {
     "iopub.execute_input": "2021-09-17T21:20:18.644617Z",
     "iopub.status.busy": "2021-09-17T21:20:18.644391Z",
     "iopub.status.idle": "2021-09-17T21:20:19.83669Z",
     "shell.execute_reply": "2021-09-17T21:20:19.835812Z",
     "shell.execute_reply.started": "2021-09-17T21:20:18.644577Z"
    }
   },
   "outputs": [],
   "source": [
    "\n",
    "\n",
    "# Library to suppress warnings or deprecation notes\n",
    "import warnings\n",
    "\n",
    "warnings.filterwarnings(\"ignore\")\n",
    "\n",
    "# Libraries to help with reading and manipulating data\n",
    "\n",
    "import pandas as pd\n",
    "import numpy as np\n",
    "\n",
    "# Library to split data\n",
    "from sklearn.model_selection import train_test_split\n",
    "\n",
    "# libaries to help with data visualization\n",
    "import matplotlib.pyplot as plt\n",
    "import seaborn as sns\n",
    "\n",
    "# Removes the limit for the number of displayed columns\n",
    "pd.set_option(\"display.max_columns\", None)\n",
    "# Sets the limit for the number of displayed rows\n",
    "pd.set_option(\"display.max_rows\", 200)\n",
    "\n",
    "# Libraries to build decision tree classifier\n",
    "from sklearn.tree import DecisionTreeClassifier\n",
    "from sklearn import tree\n",
    "\n",
    "# To tune different models\n",
    "from sklearn.model_selection import GridSearchCV\n",
    "\n",
    "# To get diferent metric scores\n",
    "from sklearn.metrics import (\n",
    "    f1_score,\n",
    "    accuracy_score,\n",
    "    recall_score,\n",
    "    precision_score,\n",
    "    confusion_matrix,\n",
    "    plot_confusion_matrix,\n",
    "    make_scorer,\n",
    ")"
   ]
  },
  {
   "cell_type": "code",
   "execution_count": 4,
   "metadata": {
    "execution": {
     "iopub.execute_input": "2021-09-17T21:20:19.83853Z",
     "iopub.status.busy": "2021-09-17T21:20:19.8383Z",
     "iopub.status.idle": "2021-09-17T21:20:19.846186Z",
     "shell.execute_reply": "2021-09-17T21:20:19.84537Z",
     "shell.execute_reply.started": "2021-09-17T21:20:19.838504Z"
    }
   },
   "outputs": [],
   "source": [
    "# This Python 3 environment comes with many helpful analytics libraries installed\n",
    "# It is defined by the kaggle/python Docker image: https://github.com/kaggle/docker-python\n",
    "# For example, here's several helpful packages to load\n",
    "\n",
    "import numpy as np # linear algebra\n",
    "import pandas as pd # data processing, CSV file I/O (e.g. pd.read_csv)\n",
    "\n",
    "# Input data files are available in the read-only \"../input/\" directory\n",
    "# For example, running this (by clicking run or pressing Shift+Enter) will list all files under the input directory\n",
    "\n",
    "import os\n",
    "for dirname, _, filenames in os.walk('/kaggle/input'):\n",
    "    for filename in filenames:\n",
    "        print(os.path.join(dirname, filename))\n",
    "\n",
    "# You can write up to 20GB to the current directory (/kaggle/working/) that gets preserved as output when you create a version using \"Save & Run All\" \n",
    "# You can also write temporary files to /kaggle/temp/, but they won't be saved outside of the current session"
   ]
  },
  {
   "cell_type": "code",
   "execution_count": 5,
   "metadata": {
    "execution": {
     "iopub.execute_input": "2021-09-17T21:20:19.847758Z",
     "iopub.status.busy": "2021-09-17T21:20:19.847498Z",
     "iopub.status.idle": "2021-09-17T21:20:19.860755Z",
     "shell.execute_reply": "2021-09-17T21:20:19.859874Z",
     "shell.execute_reply.started": "2021-09-17T21:20:19.847705Z"
    }
   },
   "outputs": [],
   "source": [
    "# Loading the dataset file.\n",
    "data = pd.read_csv(\"StarHotelsGroup.csv\")"
   ]
  },
  {
   "cell_type": "code",
   "execution_count": null,
   "metadata": {
    "execution": {
     "iopub.execute_input": "2021-09-17T21:20:19.862274Z",
     "iopub.status.busy": "2021-09-17T21:20:19.862018Z",
     "iopub.status.idle": "2021-09-17T21:20:20.013008Z",
     "shell.execute_reply": "2021-09-17T21:20:20.011996Z",
     "shell.execute_reply.started": "2021-09-17T21:20:19.86225Z"
    }
   },
   "outputs": [],
   "source": []
  },
  {
   "cell_type": "markdown",
   "metadata": {
    "id": "desperate-infection"
   },
   "source": [
    "## Data Overview\n",
    "\n",
    "- Observations\n",
    "- Sanity checks"
   ]
  },
  {
   "cell_type": "code",
   "execution_count": 6,
   "metadata": {
    "execution": {
     "iopub.execute_input": "2021-09-17T21:20:20.014769Z",
     "iopub.status.busy": "2021-09-17T21:20:20.014423Z",
     "iopub.status.idle": "2021-09-17T21:20:20.039066Z",
     "shell.execute_reply": "2021-09-17T21:20:20.038238Z",
     "shell.execute_reply.started": "2021-09-17T21:20:20.014728Z"
    },
    "id": "persistent-juice"
   },
   "outputs": [
    {
     "data": {
      "text/html": [
       "<div>\n",
       "<style scoped>\n",
       "    .dataframe tbody tr th:only-of-type {\n",
       "        vertical-align: middle;\n",
       "    }\n",
       "\n",
       "    .dataframe tbody tr th {\n",
       "        vertical-align: top;\n",
       "    }\n",
       "\n",
       "    .dataframe thead th {\n",
       "        text-align: right;\n",
       "    }\n",
       "</style>\n",
       "<table border=\"1\" class=\"dataframe\">\n",
       "  <thead>\n",
       "    <tr style=\"text-align: right;\">\n",
       "      <th></th>\n",
       "      <th>no_of_adults</th>\n",
       "      <th>no_of_children</th>\n",
       "      <th>no_of_weekend_nights</th>\n",
       "      <th>no_of_week_nights</th>\n",
       "      <th>type_of_meal_plan</th>\n",
       "      <th>required_car_parking_space</th>\n",
       "      <th>room_type_reserved</th>\n",
       "      <th>lead_time</th>\n",
       "      <th>arrival_year</th>\n",
       "      <th>arrival_month</th>\n",
       "      <th>arrival_date</th>\n",
       "      <th>market_segment_type</th>\n",
       "      <th>repeated_guest</th>\n",
       "      <th>no_of_previous_cancellations</th>\n",
       "      <th>no_of_previous_bookings_not_canceled</th>\n",
       "      <th>avg_price_per_room</th>\n",
       "      <th>no_of_special_requests</th>\n",
       "      <th>booking_status</th>\n",
       "    </tr>\n",
       "  </thead>\n",
       "  <tbody>\n",
       "    <tr>\n",
       "      <th>0</th>\n",
       "      <td>2</td>\n",
       "      <td>0</td>\n",
       "      <td>1</td>\n",
       "      <td>2</td>\n",
       "      <td>Meal Plan 1</td>\n",
       "      <td>0</td>\n",
       "      <td>Room_Type 1</td>\n",
       "      <td>224</td>\n",
       "      <td>2017</td>\n",
       "      <td>10</td>\n",
       "      <td>2</td>\n",
       "      <td>Offline</td>\n",
       "      <td>0</td>\n",
       "      <td>0</td>\n",
       "      <td>0</td>\n",
       "      <td>65.00</td>\n",
       "      <td>0</td>\n",
       "      <td>Not_Canceled</td>\n",
       "    </tr>\n",
       "    <tr>\n",
       "      <th>1</th>\n",
       "      <td>2</td>\n",
       "      <td>0</td>\n",
       "      <td>2</td>\n",
       "      <td>3</td>\n",
       "      <td>Not Selected</td>\n",
       "      <td>0</td>\n",
       "      <td>Room_Type 1</td>\n",
       "      <td>5</td>\n",
       "      <td>2018</td>\n",
       "      <td>11</td>\n",
       "      <td>6</td>\n",
       "      <td>Online</td>\n",
       "      <td>0</td>\n",
       "      <td>0</td>\n",
       "      <td>0</td>\n",
       "      <td>106.68</td>\n",
       "      <td>1</td>\n",
       "      <td>Not_Canceled</td>\n",
       "    </tr>\n",
       "    <tr>\n",
       "      <th>2</th>\n",
       "      <td>1</td>\n",
       "      <td>0</td>\n",
       "      <td>2</td>\n",
       "      <td>1</td>\n",
       "      <td>Meal Plan 1</td>\n",
       "      <td>0</td>\n",
       "      <td>Room_Type 1</td>\n",
       "      <td>1</td>\n",
       "      <td>2018</td>\n",
       "      <td>2</td>\n",
       "      <td>28</td>\n",
       "      <td>Online</td>\n",
       "      <td>0</td>\n",
       "      <td>0</td>\n",
       "      <td>0</td>\n",
       "      <td>60.00</td>\n",
       "      <td>0</td>\n",
       "      <td>Canceled</td>\n",
       "    </tr>\n",
       "    <tr>\n",
       "      <th>3</th>\n",
       "      <td>2</td>\n",
       "      <td>0</td>\n",
       "      <td>0</td>\n",
       "      <td>2</td>\n",
       "      <td>Meal Plan 1</td>\n",
       "      <td>0</td>\n",
       "      <td>Room_Type 1</td>\n",
       "      <td>211</td>\n",
       "      <td>2018</td>\n",
       "      <td>5</td>\n",
       "      <td>20</td>\n",
       "      <td>Online</td>\n",
       "      <td>0</td>\n",
       "      <td>0</td>\n",
       "      <td>0</td>\n",
       "      <td>100.00</td>\n",
       "      <td>0</td>\n",
       "      <td>Canceled</td>\n",
       "    </tr>\n",
       "    <tr>\n",
       "      <th>4</th>\n",
       "      <td>3</td>\n",
       "      <td>0</td>\n",
       "      <td>0</td>\n",
       "      <td>3</td>\n",
       "      <td>Not Selected</td>\n",
       "      <td>0</td>\n",
       "      <td>Room_Type 1</td>\n",
       "      <td>277</td>\n",
       "      <td>2019</td>\n",
       "      <td>7</td>\n",
       "      <td>13</td>\n",
       "      <td>Online</td>\n",
       "      <td>0</td>\n",
       "      <td>0</td>\n",
       "      <td>0</td>\n",
       "      <td>89.10</td>\n",
       "      <td>2</td>\n",
       "      <td>Canceled</td>\n",
       "    </tr>\n",
       "  </tbody>\n",
       "</table>\n",
       "</div>"
      ],
      "text/plain": [
       "   no_of_adults  no_of_children  no_of_weekend_nights  no_of_week_nights  \\\n",
       "0             2               0                     1                  2   \n",
       "1             2               0                     2                  3   \n",
       "2             1               0                     2                  1   \n",
       "3             2               0                     0                  2   \n",
       "4             3               0                     0                  3   \n",
       "\n",
       "  type_of_meal_plan  required_car_parking_space room_type_reserved  lead_time  \\\n",
       "0       Meal Plan 1                           0        Room_Type 1        224   \n",
       "1      Not Selected                           0        Room_Type 1          5   \n",
       "2       Meal Plan 1                           0        Room_Type 1          1   \n",
       "3       Meal Plan 1                           0        Room_Type 1        211   \n",
       "4      Not Selected                           0        Room_Type 1        277   \n",
       "\n",
       "   arrival_year  arrival_month  arrival_date market_segment_type  \\\n",
       "0          2017             10             2             Offline   \n",
       "1          2018             11             6              Online   \n",
       "2          2018              2            28              Online   \n",
       "3          2018              5            20              Online   \n",
       "4          2019              7            13              Online   \n",
       "\n",
       "   repeated_guest  no_of_previous_cancellations  \\\n",
       "0               0                             0   \n",
       "1               0                             0   \n",
       "2               0                             0   \n",
       "3               0                             0   \n",
       "4               0                             0   \n",
       "\n",
       "   no_of_previous_bookings_not_canceled  avg_price_per_room  \\\n",
       "0                                     0               65.00   \n",
       "1                                     0              106.68   \n",
       "2                                     0               60.00   \n",
       "3                                     0              100.00   \n",
       "4                                     0               89.10   \n",
       "\n",
       "   no_of_special_requests booking_status  \n",
       "0                       0   Not_Canceled  \n",
       "1                       1   Not_Canceled  \n",
       "2                       0       Canceled  \n",
       "3                       0       Canceled  \n",
       "4                       2       Canceled  "
      ]
     },
     "execution_count": 6,
     "metadata": {},
     "output_type": "execute_result"
    }
   ],
   "source": [
    "data.head()"
   ]
  },
  {
   "cell_type": "code",
   "execution_count": 7,
   "metadata": {
    "execution": {
     "iopub.execute_input": "2021-09-17T21:20:20.040287Z",
     "iopub.status.busy": "2021-09-17T21:20:20.040072Z",
     "iopub.status.idle": "2021-09-17T21:20:20.055723Z",
     "shell.execute_reply": "2021-09-17T21:20:20.054963Z",
     "shell.execute_reply.started": "2021-09-17T21:20:20.040261Z"
    }
   },
   "outputs": [
    {
     "data": {
      "text/html": [
       "<div>\n",
       "<style scoped>\n",
       "    .dataframe tbody tr th:only-of-type {\n",
       "        vertical-align: middle;\n",
       "    }\n",
       "\n",
       "    .dataframe tbody tr th {\n",
       "        vertical-align: top;\n",
       "    }\n",
       "\n",
       "    .dataframe thead th {\n",
       "        text-align: right;\n",
       "    }\n",
       "</style>\n",
       "<table border=\"1\" class=\"dataframe\">\n",
       "  <thead>\n",
       "    <tr style=\"text-align: right;\">\n",
       "      <th></th>\n",
       "      <th>no_of_adults</th>\n",
       "      <th>no_of_children</th>\n",
       "      <th>no_of_weekend_nights</th>\n",
       "      <th>no_of_week_nights</th>\n",
       "      <th>type_of_meal_plan</th>\n",
       "      <th>required_car_parking_space</th>\n",
       "      <th>room_type_reserved</th>\n",
       "      <th>lead_time</th>\n",
       "      <th>arrival_year</th>\n",
       "      <th>arrival_month</th>\n",
       "      <th>arrival_date</th>\n",
       "      <th>market_segment_type</th>\n",
       "      <th>repeated_guest</th>\n",
       "      <th>no_of_previous_cancellations</th>\n",
       "      <th>no_of_previous_bookings_not_canceled</th>\n",
       "      <th>avg_price_per_room</th>\n",
       "      <th>no_of_special_requests</th>\n",
       "      <th>booking_status</th>\n",
       "    </tr>\n",
       "  </thead>\n",
       "  <tbody>\n",
       "    <tr>\n",
       "      <th>56921</th>\n",
       "      <td>2</td>\n",
       "      <td>1</td>\n",
       "      <td>0</td>\n",
       "      <td>1</td>\n",
       "      <td>Meal Plan 2</td>\n",
       "      <td>0</td>\n",
       "      <td>Room_Type 4</td>\n",
       "      <td>45</td>\n",
       "      <td>2019</td>\n",
       "      <td>6</td>\n",
       "      <td>15</td>\n",
       "      <td>Online</td>\n",
       "      <td>0</td>\n",
       "      <td>0</td>\n",
       "      <td>0</td>\n",
       "      <td>163.88</td>\n",
       "      <td>1</td>\n",
       "      <td>Not_Canceled</td>\n",
       "    </tr>\n",
       "    <tr>\n",
       "      <th>56922</th>\n",
       "      <td>2</td>\n",
       "      <td>0</td>\n",
       "      <td>1</td>\n",
       "      <td>1</td>\n",
       "      <td>Meal Plan 1</td>\n",
       "      <td>0</td>\n",
       "      <td>Room_Type 1</td>\n",
       "      <td>320</td>\n",
       "      <td>2019</td>\n",
       "      <td>5</td>\n",
       "      <td>15</td>\n",
       "      <td>Offline</td>\n",
       "      <td>0</td>\n",
       "      <td>0</td>\n",
       "      <td>0</td>\n",
       "      <td>90.00</td>\n",
       "      <td>1</td>\n",
       "      <td>Canceled</td>\n",
       "    </tr>\n",
       "    <tr>\n",
       "      <th>56923</th>\n",
       "      <td>2</td>\n",
       "      <td>0</td>\n",
       "      <td>0</td>\n",
       "      <td>3</td>\n",
       "      <td>Not Selected</td>\n",
       "      <td>0</td>\n",
       "      <td>Room_Type 1</td>\n",
       "      <td>63</td>\n",
       "      <td>2018</td>\n",
       "      <td>4</td>\n",
       "      <td>21</td>\n",
       "      <td>Online</td>\n",
       "      <td>0</td>\n",
       "      <td>0</td>\n",
       "      <td>0</td>\n",
       "      <td>94.50</td>\n",
       "      <td>0</td>\n",
       "      <td>Canceled</td>\n",
       "    </tr>\n",
       "    <tr>\n",
       "      <th>56924</th>\n",
       "      <td>2</td>\n",
       "      <td>0</td>\n",
       "      <td>2</td>\n",
       "      <td>2</td>\n",
       "      <td>Not Selected</td>\n",
       "      <td>0</td>\n",
       "      <td>Room_Type 1</td>\n",
       "      <td>6</td>\n",
       "      <td>2019</td>\n",
       "      <td>4</td>\n",
       "      <td>28</td>\n",
       "      <td>Online</td>\n",
       "      <td>0</td>\n",
       "      <td>0</td>\n",
       "      <td>0</td>\n",
       "      <td>162.50</td>\n",
       "      <td>2</td>\n",
       "      <td>Not_Canceled</td>\n",
       "    </tr>\n",
       "    <tr>\n",
       "      <th>56925</th>\n",
       "      <td>2</td>\n",
       "      <td>0</td>\n",
       "      <td>1</td>\n",
       "      <td>2</td>\n",
       "      <td>Meal Plan 1</td>\n",
       "      <td>0</td>\n",
       "      <td>Room_Type 1</td>\n",
       "      <td>207</td>\n",
       "      <td>2018</td>\n",
       "      <td>12</td>\n",
       "      <td>30</td>\n",
       "      <td>Offline</td>\n",
       "      <td>0</td>\n",
       "      <td>0</td>\n",
       "      <td>0</td>\n",
       "      <td>161.67</td>\n",
       "      <td>0</td>\n",
       "      <td>Not_Canceled</td>\n",
       "    </tr>\n",
       "  </tbody>\n",
       "</table>\n",
       "</div>"
      ],
      "text/plain": [
       "       no_of_adults  no_of_children  no_of_weekend_nights  no_of_week_nights  \\\n",
       "56921             2               1                     0                  1   \n",
       "56922             2               0                     1                  1   \n",
       "56923             2               0                     0                  3   \n",
       "56924             2               0                     2                  2   \n",
       "56925             2               0                     1                  2   \n",
       "\n",
       "      type_of_meal_plan  required_car_parking_space room_type_reserved  \\\n",
       "56921       Meal Plan 2                           0        Room_Type 4   \n",
       "56922       Meal Plan 1                           0        Room_Type 1   \n",
       "56923      Not Selected                           0        Room_Type 1   \n",
       "56924      Not Selected                           0        Room_Type 1   \n",
       "56925       Meal Plan 1                           0        Room_Type 1   \n",
       "\n",
       "       lead_time  arrival_year  arrival_month  arrival_date  \\\n",
       "56921         45          2019              6            15   \n",
       "56922        320          2019              5            15   \n",
       "56923         63          2018              4            21   \n",
       "56924          6          2019              4            28   \n",
       "56925        207          2018             12            30   \n",
       "\n",
       "      market_segment_type  repeated_guest  no_of_previous_cancellations  \\\n",
       "56921              Online               0                             0   \n",
       "56922             Offline               0                             0   \n",
       "56923              Online               0                             0   \n",
       "56924              Online               0                             0   \n",
       "56925             Offline               0                             0   \n",
       "\n",
       "       no_of_previous_bookings_not_canceled  avg_price_per_room  \\\n",
       "56921                                     0              163.88   \n",
       "56922                                     0               90.00   \n",
       "56923                                     0               94.50   \n",
       "56924                                     0              162.50   \n",
       "56925                                     0              161.67   \n",
       "\n",
       "       no_of_special_requests booking_status  \n",
       "56921                       1   Not_Canceled  \n",
       "56922                       1       Canceled  \n",
       "56923                       0       Canceled  \n",
       "56924                       2   Not_Canceled  \n",
       "56925                       0   Not_Canceled  "
      ]
     },
     "execution_count": 7,
     "metadata": {},
     "output_type": "execute_result"
    }
   ],
   "source": [
    "data.tail()"
   ]
  },
  {
   "cell_type": "code",
   "execution_count": 8,
   "metadata": {
    "execution": {
     "iopub.execute_input": "2021-09-17T21:20:20.057699Z",
     "iopub.status.busy": "2021-09-17T21:20:20.05721Z",
     "iopub.status.idle": "2021-09-17T21:20:20.068986Z",
     "shell.execute_reply": "2021-09-17T21:20:20.068117Z",
     "shell.execute_reply.started": "2021-09-17T21:20:20.057657Z"
    }
   },
   "outputs": [
    {
     "data": {
      "text/plain": [
       "(56926, 18)"
      ]
     },
     "execution_count": 8,
     "metadata": {},
     "output_type": "execute_result"
    }
   ],
   "source": [
    "data.shape"
   ]
  },
  {
   "cell_type": "markdown",
   "metadata": {},
   "source": [
    "* The data set contains 56,926 rows and 18 columns."
   ]
  },
  {
   "cell_type": "code",
   "execution_count": 9,
   "metadata": {
    "execution": {
     "iopub.execute_input": "2021-09-17T21:20:20.070875Z",
     "iopub.status.busy": "2021-09-17T21:20:20.070167Z",
     "iopub.status.idle": "2021-09-17T21:20:20.13787Z",
     "shell.execute_reply": "2021-09-17T21:20:20.136957Z",
     "shell.execute_reply.started": "2021-09-17T21:20:20.070798Z"
    }
   },
   "outputs": [
    {
     "data": {
      "text/plain": [
       "no_of_adults                            14350\n",
       "no_of_children                          14350\n",
       "no_of_weekend_nights                    14350\n",
       "no_of_week_nights                       14350\n",
       "type_of_meal_plan                       14350\n",
       "required_car_parking_space              14350\n",
       "room_type_reserved                      14350\n",
       "lead_time                               14350\n",
       "arrival_year                            14350\n",
       "arrival_month                           14350\n",
       "arrival_date                            14350\n",
       "market_segment_type                     14350\n",
       "repeated_guest                          14350\n",
       "no_of_previous_cancellations            14350\n",
       "no_of_previous_bookings_not_canceled    14350\n",
       "avg_price_per_room                      14350\n",
       "no_of_special_requests                  14350\n",
       "booking_status                          14350\n",
       "dtype: int64"
      ]
     },
     "execution_count": 9,
     "metadata": {},
     "output_type": "execute_result"
    }
   ],
   "source": [
    "#check for duplicates\n",
    "data[data.duplicated()].count()"
   ]
  },
  {
   "cell_type": "markdown",
   "metadata": {},
   "source": []
  },
  {
   "cell_type": "markdown",
   "metadata": {},
   "source": [
    "* There are 14,350 duplicates in our dataset."
   ]
  },
  {
   "cell_type": "code",
   "execution_count": 10,
   "metadata": {
    "execution": {
     "iopub.execute_input": "2021-09-17T21:20:20.139208Z",
     "iopub.status.busy": "2021-09-17T21:20:20.139003Z",
     "iopub.status.idle": "2021-09-17T21:20:20.183166Z",
     "shell.execute_reply": "2021-09-17T21:20:20.182216Z",
     "shell.execute_reply.started": "2021-09-17T21:20:20.139184Z"
    }
   },
   "outputs": [],
   "source": [
    "#Dropping duplicate values\n",
    "data.drop_duplicates(inplace=True)"
   ]
  },
  {
   "cell_type": "code",
   "execution_count": 11,
   "metadata": {
    "execution": {
     "iopub.execute_input": "2021-09-17T21:20:20.186703Z",
     "iopub.status.busy": "2021-09-17T21:20:20.186299Z",
     "iopub.status.idle": "2021-09-17T21:20:20.216736Z",
     "shell.execute_reply": "2021-09-17T21:20:20.215896Z",
     "shell.execute_reply.started": "2021-09-17T21:20:20.186668Z"
    }
   },
   "outputs": [
    {
     "name": "stdout",
     "output_type": "stream",
     "text": [
      "<class 'pandas.core.frame.DataFrame'>\n",
      "Int64Index: 42576 entries, 0 to 56924\n",
      "Data columns (total 18 columns):\n",
      " #   Column                                Non-Null Count  Dtype  \n",
      "---  ------                                --------------  -----  \n",
      " 0   no_of_adults                          42576 non-null  int64  \n",
      " 1   no_of_children                        42576 non-null  int64  \n",
      " 2   no_of_weekend_nights                  42576 non-null  int64  \n",
      " 3   no_of_week_nights                     42576 non-null  int64  \n",
      " 4   type_of_meal_plan                     42576 non-null  object \n",
      " 5   required_car_parking_space            42576 non-null  int64  \n",
      " 6   room_type_reserved                    42576 non-null  object \n",
      " 7   lead_time                             42576 non-null  int64  \n",
      " 8   arrival_year                          42576 non-null  int64  \n",
      " 9   arrival_month                         42576 non-null  int64  \n",
      " 10  arrival_date                          42576 non-null  int64  \n",
      " 11  market_segment_type                   42576 non-null  object \n",
      " 12  repeated_guest                        42576 non-null  int64  \n",
      " 13  no_of_previous_cancellations          42576 non-null  int64  \n",
      " 14  no_of_previous_bookings_not_canceled  42576 non-null  int64  \n",
      " 15  avg_price_per_room                    42576 non-null  float64\n",
      " 16  no_of_special_requests                42576 non-null  int64  \n",
      " 17  booking_status                        42576 non-null  object \n",
      "dtypes: float64(1), int64(13), object(4)\n",
      "memory usage: 6.2+ MB\n"
     ]
    }
   ],
   "source": [
    "#Checking data types\n",
    "data.info()"
   ]
  },
  {
   "cell_type": "markdown",
   "metadata": {},
   "source": [
    "* There are 3 different data tyoes: object, float64 and int64. The mojority of our values/columns are of data type int64 or numerical. \n",
    "* booking status, market_segment_type, room_type_reserved and type_of_meal_plan are Object data type."
   ]
  },
  {
   "cell_type": "code",
   "execution_count": 12,
   "metadata": {
    "execution": {
     "iopub.execute_input": "2021-09-17T21:20:20.218198Z",
     "iopub.status.busy": "2021-09-17T21:20:20.217975Z",
     "iopub.status.idle": "2021-09-17T21:20:20.237414Z",
     "shell.execute_reply": "2021-09-17T21:20:20.236613Z",
     "shell.execute_reply.started": "2021-09-17T21:20:20.218174Z"
    }
   },
   "outputs": [
    {
     "data": {
      "text/plain": [
       "no_of_adults                            0\n",
       "no_of_children                          0\n",
       "no_of_weekend_nights                    0\n",
       "no_of_week_nights                       0\n",
       "type_of_meal_plan                       0\n",
       "required_car_parking_space              0\n",
       "room_type_reserved                      0\n",
       "lead_time                               0\n",
       "arrival_year                            0\n",
       "arrival_month                           0\n",
       "arrival_date                            0\n",
       "market_segment_type                     0\n",
       "repeated_guest                          0\n",
       "no_of_previous_cancellations            0\n",
       "no_of_previous_bookings_not_canceled    0\n",
       "avg_price_per_room                      0\n",
       "no_of_special_requests                  0\n",
       "booking_status                          0\n",
       "dtype: int64"
      ]
     },
     "execution_count": 12,
     "metadata": {},
     "output_type": "execute_result"
    }
   ],
   "source": [
    "#Check for missing values\n",
    "data.isnull().sum()"
   ]
  },
  {
   "cell_type": "markdown",
   "metadata": {},
   "source": [
    "* There are no missing values"
   ]
  },
  {
   "cell_type": "code",
   "execution_count": 13,
   "metadata": {
    "execution": {
     "iopub.execute_input": "2021-09-17T21:20:20.238903Z",
     "iopub.status.busy": "2021-09-17T21:20:20.238689Z",
     "iopub.status.idle": "2021-09-17T21:20:20.301362Z",
     "shell.execute_reply": "2021-09-17T21:20:20.300547Z",
     "shell.execute_reply.started": "2021-09-17T21:20:20.238874Z"
    }
   },
   "outputs": [
    {
     "data": {
      "text/html": [
       "<div>\n",
       "<style scoped>\n",
       "    .dataframe tbody tr th:only-of-type {\n",
       "        vertical-align: middle;\n",
       "    }\n",
       "\n",
       "    .dataframe tbody tr th {\n",
       "        vertical-align: top;\n",
       "    }\n",
       "\n",
       "    .dataframe thead th {\n",
       "        text-align: right;\n",
       "    }\n",
       "</style>\n",
       "<table border=\"1\" class=\"dataframe\">\n",
       "  <thead>\n",
       "    <tr style=\"text-align: right;\">\n",
       "      <th></th>\n",
       "      <th>count</th>\n",
       "      <th>mean</th>\n",
       "      <th>std</th>\n",
       "      <th>min</th>\n",
       "      <th>25%</th>\n",
       "      <th>50%</th>\n",
       "      <th>75%</th>\n",
       "      <th>max</th>\n",
       "    </tr>\n",
       "  </thead>\n",
       "  <tbody>\n",
       "    <tr>\n",
       "      <th>no_of_adults</th>\n",
       "      <td>42576.0</td>\n",
       "      <td>1.916737</td>\n",
       "      <td>0.527524</td>\n",
       "      <td>0.0</td>\n",
       "      <td>2.0</td>\n",
       "      <td>2.0</td>\n",
       "      <td>2.0</td>\n",
       "      <td>4.0</td>\n",
       "    </tr>\n",
       "    <tr>\n",
       "      <th>no_of_children</th>\n",
       "      <td>42576.0</td>\n",
       "      <td>0.142146</td>\n",
       "      <td>0.459920</td>\n",
       "      <td>0.0</td>\n",
       "      <td>0.0</td>\n",
       "      <td>0.0</td>\n",
       "      <td>0.0</td>\n",
       "      <td>10.0</td>\n",
       "    </tr>\n",
       "    <tr>\n",
       "      <th>no_of_weekend_nights</th>\n",
       "      <td>42576.0</td>\n",
       "      <td>0.895270</td>\n",
       "      <td>0.887864</td>\n",
       "      <td>0.0</td>\n",
       "      <td>0.0</td>\n",
       "      <td>1.0</td>\n",
       "      <td>2.0</td>\n",
       "      <td>8.0</td>\n",
       "    </tr>\n",
       "    <tr>\n",
       "      <th>no_of_week_nights</th>\n",
       "      <td>42576.0</td>\n",
       "      <td>2.321167</td>\n",
       "      <td>1.519328</td>\n",
       "      <td>0.0</td>\n",
       "      <td>1.0</td>\n",
       "      <td>2.0</td>\n",
       "      <td>3.0</td>\n",
       "      <td>17.0</td>\n",
       "    </tr>\n",
       "    <tr>\n",
       "      <th>required_car_parking_space</th>\n",
       "      <td>42576.0</td>\n",
       "      <td>0.034362</td>\n",
       "      <td>0.182160</td>\n",
       "      <td>0.0</td>\n",
       "      <td>0.0</td>\n",
       "      <td>0.0</td>\n",
       "      <td>0.0</td>\n",
       "      <td>1.0</td>\n",
       "    </tr>\n",
       "    <tr>\n",
       "      <th>lead_time</th>\n",
       "      <td>42576.0</td>\n",
       "      <td>77.315953</td>\n",
       "      <td>77.279616</td>\n",
       "      <td>0.0</td>\n",
       "      <td>16.0</td>\n",
       "      <td>53.0</td>\n",
       "      <td>118.0</td>\n",
       "      <td>521.0</td>\n",
       "    </tr>\n",
       "    <tr>\n",
       "      <th>arrival_year</th>\n",
       "      <td>42576.0</td>\n",
       "      <td>2018.297891</td>\n",
       "      <td>0.626126</td>\n",
       "      <td>2017.0</td>\n",
       "      <td>2018.0</td>\n",
       "      <td>2018.0</td>\n",
       "      <td>2019.0</td>\n",
       "      <td>2019.0</td>\n",
       "    </tr>\n",
       "    <tr>\n",
       "      <th>arrival_month</th>\n",
       "      <td>42576.0</td>\n",
       "      <td>6.365488</td>\n",
       "      <td>3.051924</td>\n",
       "      <td>1.0</td>\n",
       "      <td>4.0</td>\n",
       "      <td>6.0</td>\n",
       "      <td>9.0</td>\n",
       "      <td>12.0</td>\n",
       "    </tr>\n",
       "    <tr>\n",
       "      <th>arrival_date</th>\n",
       "      <td>42576.0</td>\n",
       "      <td>15.682873</td>\n",
       "      <td>8.813991</td>\n",
       "      <td>1.0</td>\n",
       "      <td>8.0</td>\n",
       "      <td>16.0</td>\n",
       "      <td>23.0</td>\n",
       "      <td>31.0</td>\n",
       "    </tr>\n",
       "    <tr>\n",
       "      <th>repeated_guest</th>\n",
       "      <td>42576.0</td>\n",
       "      <td>0.030886</td>\n",
       "      <td>0.173011</td>\n",
       "      <td>0.0</td>\n",
       "      <td>0.0</td>\n",
       "      <td>0.0</td>\n",
       "      <td>0.0</td>\n",
       "      <td>1.0</td>\n",
       "    </tr>\n",
       "    <tr>\n",
       "      <th>no_of_previous_cancellations</th>\n",
       "      <td>42576.0</td>\n",
       "      <td>0.025413</td>\n",
       "      <td>0.358194</td>\n",
       "      <td>0.0</td>\n",
       "      <td>0.0</td>\n",
       "      <td>0.0</td>\n",
       "      <td>0.0</td>\n",
       "      <td>13.0</td>\n",
       "    </tr>\n",
       "    <tr>\n",
       "      <th>no_of_previous_bookings_not_canceled</th>\n",
       "      <td>42576.0</td>\n",
       "      <td>0.222731</td>\n",
       "      <td>2.242308</td>\n",
       "      <td>0.0</td>\n",
       "      <td>0.0</td>\n",
       "      <td>0.0</td>\n",
       "      <td>0.0</td>\n",
       "      <td>72.0</td>\n",
       "    </tr>\n",
       "    <tr>\n",
       "      <th>avg_price_per_room</th>\n",
       "      <td>42576.0</td>\n",
       "      <td>112.375800</td>\n",
       "      <td>40.865896</td>\n",
       "      <td>0.0</td>\n",
       "      <td>85.5</td>\n",
       "      <td>107.0</td>\n",
       "      <td>135.0</td>\n",
       "      <td>540.0</td>\n",
       "    </tr>\n",
       "    <tr>\n",
       "      <th>no_of_special_requests</th>\n",
       "      <td>42576.0</td>\n",
       "      <td>0.768109</td>\n",
       "      <td>0.837264</td>\n",
       "      <td>0.0</td>\n",
       "      <td>0.0</td>\n",
       "      <td>1.0</td>\n",
       "      <td>1.0</td>\n",
       "      <td>5.0</td>\n",
       "    </tr>\n",
       "  </tbody>\n",
       "</table>\n",
       "</div>"
      ],
      "text/plain": [
       "                                        count         mean        std     min  \\\n",
       "no_of_adults                          42576.0     1.916737   0.527524     0.0   \n",
       "no_of_children                        42576.0     0.142146   0.459920     0.0   \n",
       "no_of_weekend_nights                  42576.0     0.895270   0.887864     0.0   \n",
       "no_of_week_nights                     42576.0     2.321167   1.519328     0.0   \n",
       "required_car_parking_space            42576.0     0.034362   0.182160     0.0   \n",
       "lead_time                             42576.0    77.315953  77.279616     0.0   \n",
       "arrival_year                          42576.0  2018.297891   0.626126  2017.0   \n",
       "arrival_month                         42576.0     6.365488   3.051924     1.0   \n",
       "arrival_date                          42576.0    15.682873   8.813991     1.0   \n",
       "repeated_guest                        42576.0     0.030886   0.173011     0.0   \n",
       "no_of_previous_cancellations          42576.0     0.025413   0.358194     0.0   \n",
       "no_of_previous_bookings_not_canceled  42576.0     0.222731   2.242308     0.0   \n",
       "avg_price_per_room                    42576.0   112.375800  40.865896     0.0   \n",
       "no_of_special_requests                42576.0     0.768109   0.837264     0.0   \n",
       "\n",
       "                                         25%     50%     75%     max  \n",
       "no_of_adults                             2.0     2.0     2.0     4.0  \n",
       "no_of_children                           0.0     0.0     0.0    10.0  \n",
       "no_of_weekend_nights                     0.0     1.0     2.0     8.0  \n",
       "no_of_week_nights                        1.0     2.0     3.0    17.0  \n",
       "required_car_parking_space               0.0     0.0     0.0     1.0  \n",
       "lead_time                               16.0    53.0   118.0   521.0  \n",
       "arrival_year                          2018.0  2018.0  2019.0  2019.0  \n",
       "arrival_month                            4.0     6.0     9.0    12.0  \n",
       "arrival_date                             8.0    16.0    23.0    31.0  \n",
       "repeated_guest                           0.0     0.0     0.0     1.0  \n",
       "no_of_previous_cancellations             0.0     0.0     0.0    13.0  \n",
       "no_of_previous_bookings_not_canceled     0.0     0.0     0.0    72.0  \n",
       "avg_price_per_room                      85.5   107.0   135.0   540.0  \n",
       "no_of_special_requests                   0.0     1.0     1.0     5.0  "
      ]
     },
     "execution_count": 13,
     "metadata": {},
     "output_type": "execute_result"
    }
   ],
   "source": [
    "# Data description\n",
    "data.describe().T"
   ]
  },
  {
   "cell_type": "markdown",
   "metadata": {},
   "source": [
    "* Average price per room mean seems to be around $112\n",
    "* The majority of guest seem to be adults\n",
    "* 2018 seems to be the year with the most guests arrivals\n",
    "* The numbers for repeated guests are really low"
   ]
  },
  {
   "cell_type": "code",
   "execution_count": 14,
   "metadata": {
    "execution": {
     "iopub.execute_input": "2021-09-17T21:20:20.30264Z",
     "iopub.status.busy": "2021-09-17T21:20:20.302411Z",
     "iopub.status.idle": "2021-09-17T21:20:20.340044Z",
     "shell.execute_reply": "2021-09-17T21:20:20.339083Z",
     "shell.execute_reply.started": "2021-09-17T21:20:20.302614Z"
    }
   },
   "outputs": [
    {
     "data": {
      "text/html": [
       "<div>\n",
       "<style scoped>\n",
       "    .dataframe tbody tr th:only-of-type {\n",
       "        vertical-align: middle;\n",
       "    }\n",
       "\n",
       "    .dataframe tbody tr th {\n",
       "        vertical-align: top;\n",
       "    }\n",
       "\n",
       "    .dataframe thead th {\n",
       "        text-align: right;\n",
       "    }\n",
       "</style>\n",
       "<table border=\"1\" class=\"dataframe\">\n",
       "  <thead>\n",
       "    <tr style=\"text-align: right;\">\n",
       "      <th></th>\n",
       "      <th>type_of_meal_plan</th>\n",
       "      <th>room_type_reserved</th>\n",
       "      <th>market_segment_type</th>\n",
       "      <th>booking_status</th>\n",
       "    </tr>\n",
       "  </thead>\n",
       "  <tbody>\n",
       "    <tr>\n",
       "      <th>count</th>\n",
       "      <td>42576</td>\n",
       "      <td>42576</td>\n",
       "      <td>42576</td>\n",
       "      <td>42576</td>\n",
       "    </tr>\n",
       "    <tr>\n",
       "      <th>unique</th>\n",
       "      <td>4</td>\n",
       "      <td>7</td>\n",
       "      <td>5</td>\n",
       "      <td>2</td>\n",
       "    </tr>\n",
       "    <tr>\n",
       "      <th>top</th>\n",
       "      <td>Meal Plan 1</td>\n",
       "      <td>Room_Type 1</td>\n",
       "      <td>Online</td>\n",
       "      <td>Not_Canceled</td>\n",
       "    </tr>\n",
       "    <tr>\n",
       "      <th>freq</th>\n",
       "      <td>31863</td>\n",
       "      <td>29730</td>\n",
       "      <td>34169</td>\n",
       "      <td>28089</td>\n",
       "    </tr>\n",
       "  </tbody>\n",
       "</table>\n",
       "</div>"
      ],
      "text/plain": [
       "       type_of_meal_plan room_type_reserved market_segment_type booking_status\n",
       "count              42576              42576               42576          42576\n",
       "unique                 4                  7                   5              2\n",
       "top          Meal Plan 1        Room_Type 1              Online   Not_Canceled\n",
       "freq               31863              29730               34169          28089"
      ]
     },
     "execution_count": 14,
     "metadata": {},
     "output_type": "execute_result"
    }
   ],
   "source": [
    "data.describe(include=[\"object\"])"
   ]
  },
  {
   "cell_type": "code",
   "execution_count": 15,
   "metadata": {
    "execution": {
     "iopub.execute_input": "2021-09-17T21:20:20.341365Z",
     "iopub.status.busy": "2021-09-17T21:20:20.341138Z",
     "iopub.status.idle": "2021-09-17T21:20:20.3622Z",
     "shell.execute_reply": "2021-09-17T21:20:20.361182Z",
     "shell.execute_reply.started": "2021-09-17T21:20:20.341337Z"
    }
   },
   "outputs": [
    {
     "name": "stdout",
     "output_type": "stream",
     "text": [
      "Meal Plan 1     31863\n",
      "Not Selected     8716\n",
      "Meal Plan 2      1989\n",
      "Meal Plan 3         8\n",
      "Name: type_of_meal_plan, dtype: int64\n",
      "**************************************************\n",
      "Room_Type 1    29730\n",
      "Room_Type 4     9369\n",
      "Room_Type 6     1540\n",
      "Room_Type 5      906\n",
      "Room_Type 2      718\n",
      "Room_Type 7      307\n",
      "Room_Type 3        6\n",
      "Name: room_type_reserved, dtype: int64\n",
      "**************************************************\n",
      "Online           34169\n",
      "Offline           5777\n",
      "Corporate         1939\n",
      "Complementary      496\n",
      "Aviation           195\n",
      "Name: market_segment_type, dtype: int64\n",
      "**************************************************\n",
      "Not_Canceled    28089\n",
      "Canceled        14487\n",
      "Name: booking_status, dtype: int64\n",
      "**************************************************\n"
     ]
    }
   ],
   "source": [
    "cat_columns = [\"type_of_meal_plan\", \"room_type_reserved\", \"market_segment_type\", \"booking_status\"]\n",
    "for i in cat_columns:\n",
    "    print(data[i].value_counts())\n",
    "    print(\"*\" * 50)"
   ]
  },
  {
   "cell_type": "markdown",
   "metadata": {},
   "source": [
    "* Most customers choose Room_type 1 and Meal plan 1. \n",
    "* The majority of customers make their reservations online. "
   ]
  },
  {
   "cell_type": "markdown",
   "metadata": {},
   "source": []
  },
  {
   "cell_type": "markdown",
   "metadata": {
    "id": "seasonal-calibration"
   },
   "source": [
    "## Exploratory Data Analysis (EDA)\n",
    "\n",
    "- EDA is an important part of any project involving data.\n",
    "- It is important to investigate and understand the data better before building a model with it.\n",
    "- A few questions have been mentioned below which will help you approach the analysis in the right manner and generate insights from the data.\n",
    "- A thorough analysis of the data, in addition to the questions mentioned below, should be done."
   ]
  },
  {
   "cell_type": "markdown",
   "metadata": {
    "id": "classified-traveler"
   },
   "source": [
    "**Questions**:\n",
    "1. What are the busiest months in the hotel?\n",
    "2. Which market segment do most of the guests come from?\n",
    "3. Hotel rates are dynamic and change according to demand and customer demographics. What are the differences in room prices in different market segments?\n",
    "4. What percentage of bookings are canceled? \n",
    "5. Repeating guests are the guests who stay in the hotel often and are important to brand equity. What percentage of repeating guests cancel?\n",
    "6. Many guests have special requirements when booking a hotel room. Do these requirements affect booking cancellation?"
   ]
  },
  {
   "cell_type": "code",
   "execution_count": 16,
   "metadata": {
    "execution": {
     "iopub.execute_input": "2021-09-17T21:20:20.363633Z",
     "iopub.status.busy": "2021-09-17T21:20:20.363349Z",
     "iopub.status.idle": "2021-09-17T21:20:20.37506Z",
     "shell.execute_reply": "2021-09-17T21:20:20.374233Z",
     "shell.execute_reply.started": "2021-09-17T21:20:20.363567Z"
    },
    "id": "mechanical-interference"
   },
   "outputs": [],
   "source": [
    "def histogram_boxplot(data, feature, figsize=(15, 10), kde=False, bins=None):\n",
    "    \"\"\"\n",
    "    Boxplot and histogram combined\n",
    "\n",
    "    data: dataframe\n",
    "    feature: dataframe column\n",
    "    figsize: size of figure (default (15,10))\n",
    "    kde: whether to show the density curve (default False)\n",
    "    bins: number of bins for histogram (default None)\n",
    "    \"\"\"\n",
    "    f2, (ax_box2, ax_hist2) = plt.subplots(\n",
    "        nrows=2,  # Number of rows of the subplot grid= 2\n",
    "        sharex=True,  # x-axis will be shared among all subplots\n",
    "        gridspec_kw={\"height_ratios\": (0.25, 0.75)},\n",
    "        figsize=figsize,\n",
    "    )  # creating the 2 subplots\n",
    "    sns.boxplot(\n",
    "        data=data, x=feature, ax=ax_box2, showmeans=True, color=\"violet\"\n",
    "    )  # boxplot will be created and a star will indicate the mean value of the column\n",
    "    sns.histplot(\n",
    "        data=data, x=feature, kde=kde, ax=ax_hist2, bins=bins, palette=\"winter\"\n",
    "    ) if bins else sns.histplot(\n",
    "        data=data, x=feature, kde=kde, ax=ax_hist2\n",
    "    )  # For histogram\n",
    "    ax_hist2.axvline(\n",
    "        data[feature].mean(), color=\"green\", linestyle=\"--\"\n",
    "    )  # Add mean to the histogram\n",
    "    ax_hist2.axvline(\n",
    "        data[feature].median(), color=\"black\", linestyle=\"-\"\n",
    "    )  # Add median to the histogram"
   ]
  },
  {
   "cell_type": "code",
   "execution_count": 17,
   "metadata": {
    "execution": {
     "iopub.execute_input": "2021-09-17T21:20:20.376494Z",
     "iopub.status.busy": "2021-09-17T21:20:20.376253Z",
     "iopub.status.idle": "2021-09-17T21:20:20.967893Z",
     "shell.execute_reply": "2021-09-17T21:20:20.966936Z",
     "shell.execute_reply.started": "2021-09-17T21:20:20.376462Z"
    }
   },
   "outputs": [
    {
     "data": {
      "image/png": "[encoded data removed]",
      "text/plain": [
       "<Figure size 1080x720 with 2 Axes>"
      ]
     },
     "metadata": {
      "needs_background": "light"
     },
     "output_type": "display_data"
    }
   ],
   "source": [
    "#Univariate analysis\n",
    "histogram_boxplot(data, \"arrival_month\", bins=40)"
   ]
  },
  {
   "cell_type": "code",
   "execution_count": 18,
   "metadata": {
    "execution": {
     "iopub.execute_input": "2021-09-17T21:20:20.969607Z",
     "iopub.status.busy": "2021-09-17T21:20:20.969223Z",
     "iopub.status.idle": "2021-09-17T21:20:21.031077Z",
     "shell.execute_reply": "2021-09-17T21:20:21.030209Z",
     "shell.execute_reply.started": "2021-09-17T21:20:20.969568Z"
    }
   },
   "outputs": [
    {
     "data": {
      "text/html": [
       "<div>\n",
       "<style scoped>\n",
       "    .dataframe tbody tr th:only-of-type {\n",
       "        vertical-align: middle;\n",
       "    }\n",
       "\n",
       "    .dataframe tbody tr th {\n",
       "        vertical-align: top;\n",
       "    }\n",
       "\n",
       "    .dataframe thead th {\n",
       "        text-align: right;\n",
       "    }\n",
       "</style>\n",
       "<table border=\"1\" class=\"dataframe\">\n",
       "  <thead>\n",
       "    <tr style=\"text-align: right;\">\n",
       "      <th></th>\n",
       "      <th>count</th>\n",
       "      <th>mean</th>\n",
       "      <th>std</th>\n",
       "      <th>min</th>\n",
       "      <th>25%</th>\n",
       "      <th>50%</th>\n",
       "      <th>75%</th>\n",
       "      <th>max</th>\n",
       "    </tr>\n",
       "  </thead>\n",
       "  <tbody>\n",
       "    <tr>\n",
       "      <th>no_of_adults</th>\n",
       "      <td>42576.0</td>\n",
       "      <td>1.916737</td>\n",
       "      <td>0.527524</td>\n",
       "      <td>0.0</td>\n",
       "      <td>2.0</td>\n",
       "      <td>2.0</td>\n",
       "      <td>2.0</td>\n",
       "      <td>4.0</td>\n",
       "    </tr>\n",
       "    <tr>\n",
       "      <th>no_of_children</th>\n",
       "      <td>42576.0</td>\n",
       "      <td>0.142146</td>\n",
       "      <td>0.459920</td>\n",
       "      <td>0.0</td>\n",
       "      <td>0.0</td>\n",
       "      <td>0.0</td>\n",
       "      <td>0.0</td>\n",
       "      <td>10.0</td>\n",
       "    </tr>\n",
       "    <tr>\n",
       "      <th>no_of_weekend_nights</th>\n",
       "      <td>42576.0</td>\n",
       "      <td>0.895270</td>\n",
       "      <td>0.887864</td>\n",
       "      <td>0.0</td>\n",
       "      <td>0.0</td>\n",
       "      <td>1.0</td>\n",
       "      <td>2.0</td>\n",
       "      <td>8.0</td>\n",
       "    </tr>\n",
       "    <tr>\n",
       "      <th>no_of_week_nights</th>\n",
       "      <td>42576.0</td>\n",
       "      <td>2.321167</td>\n",
       "      <td>1.519328</td>\n",
       "      <td>0.0</td>\n",
       "      <td>1.0</td>\n",
       "      <td>2.0</td>\n",
       "      <td>3.0</td>\n",
       "      <td>17.0</td>\n",
       "    </tr>\n",
       "    <tr>\n",
       "      <th>required_car_parking_space</th>\n",
       "      <td>42576.0</td>\n",
       "      <td>0.034362</td>\n",
       "      <td>0.182160</td>\n",
       "      <td>0.0</td>\n",
       "      <td>0.0</td>\n",
       "      <td>0.0</td>\n",
       "      <td>0.0</td>\n",
       "      <td>1.0</td>\n",
       "    </tr>\n",
       "    <tr>\n",
       "      <th>lead_time</th>\n",
       "      <td>42576.0</td>\n",
       "      <td>77.315953</td>\n",
       "      <td>77.279616</td>\n",
       "      <td>0.0</td>\n",
       "      <td>16.0</td>\n",
       "      <td>53.0</td>\n",
       "      <td>118.0</td>\n",
       "      <td>521.0</td>\n",
       "    </tr>\n",
       "    <tr>\n",
       "      <th>arrival_year</th>\n",
       "      <td>42576.0</td>\n",
       "      <td>2018.297891</td>\n",
       "      <td>0.626126</td>\n",
       "      <td>2017.0</td>\n",
       "      <td>2018.0</td>\n",
       "      <td>2018.0</td>\n",
       "      <td>2019.0</td>\n",
       "      <td>2019.0</td>\n",
       "    </tr>\n",
       "    <tr>\n",
       "      <th>arrival_month</th>\n",
       "      <td>42576.0</td>\n",
       "      <td>6.365488</td>\n",
       "      <td>3.051924</td>\n",
       "      <td>1.0</td>\n",
       "      <td>4.0</td>\n",
       "      <td>6.0</td>\n",
       "      <td>9.0</td>\n",
       "      <td>12.0</td>\n",
       "    </tr>\n",
       "    <tr>\n",
       "      <th>arrival_date</th>\n",
       "      <td>42576.0</td>\n",
       "      <td>15.682873</td>\n",
       "      <td>8.813991</td>\n",
       "      <td>1.0</td>\n",
       "      <td>8.0</td>\n",
       "      <td>16.0</td>\n",
       "      <td>23.0</td>\n",
       "      <td>31.0</td>\n",
       "    </tr>\n",
       "    <tr>\n",
       "      <th>repeated_guest</th>\n",
       "      <td>42576.0</td>\n",
       "      <td>0.030886</td>\n",
       "      <td>0.173011</td>\n",
       "      <td>0.0</td>\n",
       "      <td>0.0</td>\n",
       "      <td>0.0</td>\n",
       "      <td>0.0</td>\n",
       "      <td>1.0</td>\n",
       "    </tr>\n",
       "    <tr>\n",
       "      <th>no_of_previous_cancellations</th>\n",
       "      <td>42576.0</td>\n",
       "      <td>0.025413</td>\n",
       "      <td>0.358194</td>\n",
       "      <td>0.0</td>\n",
       "      <td>0.0</td>\n",
       "      <td>0.0</td>\n",
       "      <td>0.0</td>\n",
       "      <td>13.0</td>\n",
       "    </tr>\n",
       "    <tr>\n",
       "      <th>no_of_previous_bookings_not_canceled</th>\n",
       "      <td>42576.0</td>\n",
       "      <td>0.222731</td>\n",
       "      <td>2.242308</td>\n",
       "      <td>0.0</td>\n",
       "      <td>0.0</td>\n",
       "      <td>0.0</td>\n",
       "      <td>0.0</td>\n",
       "      <td>72.0</td>\n",
       "    </tr>\n",
       "    <tr>\n",
       "      <th>avg_price_per_room</th>\n",
       "      <td>42576.0</td>\n",
       "      <td>112.375800</td>\n",
       "      <td>40.865896</td>\n",
       "      <td>0.0</td>\n",
       "      <td>85.5</td>\n",
       "      <td>107.0</td>\n",
       "      <td>135.0</td>\n",
       "      <td>540.0</td>\n",
       "    </tr>\n",
       "    <tr>\n",
       "      <th>no_of_special_requests</th>\n",
       "      <td>42576.0</td>\n",
       "      <td>0.768109</td>\n",
       "      <td>0.837264</td>\n",
       "      <td>0.0</td>\n",
       "      <td>0.0</td>\n",
       "      <td>1.0</td>\n",
       "      <td>1.0</td>\n",
       "      <td>5.0</td>\n",
       "    </tr>\n",
       "  </tbody>\n",
       "</table>\n",
       "</div>"
      ],
      "text/plain": [
       "                                        count         mean        std     min  \\\n",
       "no_of_adults                          42576.0     1.916737   0.527524     0.0   \n",
       "no_of_children                        42576.0     0.142146   0.459920     0.0   \n",
       "no_of_weekend_nights                  42576.0     0.895270   0.887864     0.0   \n",
       "no_of_week_nights                     42576.0     2.321167   1.519328     0.0   \n",
       "required_car_parking_space            42576.0     0.034362   0.182160     0.0   \n",
       "lead_time                             42576.0    77.315953  77.279616     0.0   \n",
       "arrival_year                          42576.0  2018.297891   0.626126  2017.0   \n",
       "arrival_month                         42576.0     6.365488   3.051924     1.0   \n",
       "arrival_date                          42576.0    15.682873   8.813991     1.0   \n",
       "repeated_guest                        42576.0     0.030886   0.173011     0.0   \n",
       "no_of_previous_cancellations          42576.0     0.025413   0.358194     0.0   \n",
       "no_of_previous_bookings_not_canceled  42576.0     0.222731   2.242308     0.0   \n",
       "avg_price_per_room                    42576.0   112.375800  40.865896     0.0   \n",
       "no_of_special_requests                42576.0     0.768109   0.837264     0.0   \n",
       "\n",
       "                                         25%     50%     75%     max  \n",
       "no_of_adults                             2.0     2.0     2.0     4.0  \n",
       "no_of_children                           0.0     0.0     0.0    10.0  \n",
       "no_of_weekend_nights                     0.0     1.0     2.0     8.0  \n",
       "no_of_week_nights                        1.0     2.0     3.0    17.0  \n",
       "required_car_parking_space               0.0     0.0     0.0     1.0  \n",
       "lead_time                               16.0    53.0   118.0   521.0  \n",
       "arrival_year                          2018.0  2018.0  2019.0  2019.0  \n",
       "arrival_month                            4.0     6.0     9.0    12.0  \n",
       "arrival_date                             8.0    16.0    23.0    31.0  \n",
       "repeated_guest                           0.0     0.0     0.0     1.0  \n",
       "no_of_previous_cancellations             0.0     0.0     0.0    13.0  \n",
       "no_of_previous_bookings_not_canceled     0.0     0.0     0.0    72.0  \n",
       "avg_price_per_room                      85.5   107.0   135.0   540.0  \n",
       "no_of_special_requests                   0.0     1.0     1.0     5.0  "
      ]
     },
     "execution_count": 18,
     "metadata": {},
     "output_type": "execute_result"
    }
   ],
   "source": [
    "data.describe().T\n"
   ]
  },
  {
   "cell_type": "markdown",
   "metadata": {},
   "source": [
    "The average month of arrival of the Stars Hotel customers is June."
   ]
  },
  {
   "cell_type": "code",
   "execution_count": 19,
   "metadata": {
    "execution": {
     "iopub.execute_input": "2021-09-17T21:20:21.032836Z",
     "iopub.status.busy": "2021-09-17T21:20:21.032416Z",
     "iopub.status.idle": "2021-09-17T21:20:21.041962Z",
     "shell.execute_reply": "2021-09-17T21:20:21.041094Z",
     "shell.execute_reply.started": "2021-09-17T21:20:21.032804Z"
    }
   },
   "outputs": [],
   "source": [
    "# function to create labeled barplots\n",
    "\n",
    "\n",
    "def labeled_barplot(data, feature, perc=False, n=None):\n",
    "    \"\"\"\n",
    "    Barplot with percentage at the top\n",
    "\n",
    "    data: dataframe\n",
    "    feature: dataframe column\n",
    "    perc: whether to display percentages instead of count (default is False)\n",
    "    n: displays the top n category levels (default is None, i.e., display all levels)\n",
    "    \"\"\"\n",
    "\n",
    "    total = len(data[feature])  # length of the column\n",
    "    count = data[feature].nunique()\n",
    "    if n is None:\n",
    "        plt.figure(figsize=(count + 1, 5))\n",
    "    else:\n",
    "        plt.figure(figsize=(n + 1, 5))\n",
    "\n",
    "    plt.xticks(rotation=90, fontsize=15)\n",
    "    ax = sns.countplot(\n",
    "        data=data,\n",
    "        x=feature,\n",
    "        palette=\"Paired\",\n",
    "        order=data[feature].value_counts().index[:n].sort_values(),\n",
    "    )\n",
    "\n",
    "    for p in ax.patches:\n",
    "        if perc == True:\n",
    "            label = \"{:.1f}%\".format(\n",
    "                100 * p.get_height() / total\n",
    "            )  # percentage of each class of the category\n",
    "        else:\n",
    "            label = p.get_height()  # count of each level of the category\n",
    "\n",
    "        x = p.get_x() + p.get_width() / 2  # width of the plot\n",
    "        y = p.get_height()  # height of the plot\n",
    "\n",
    "        ax.annotate(\n",
    "            label,\n",
    "            (x, y),\n",
    "            ha=\"center\",\n",
    "            va=\"center\",\n",
    "            size=12,\n",
    "            xytext=(0, 5),\n",
    "            textcoords=\"offset points\",\n",
    "        )  # annotate the percentage\n",
    "\n",
    "    plt.show()  # show the plot"
   ]
  },
  {
   "cell_type": "code",
   "execution_count": 20,
   "metadata": {
    "execution": {
     "iopub.execute_input": "2021-09-17T21:20:21.043908Z",
     "iopub.status.busy": "2021-09-17T21:20:21.043584Z",
     "iopub.status.idle": "2021-09-17T21:20:21.322384Z",
     "shell.execute_reply": "2021-09-17T21:20:21.321516Z",
     "shell.execute_reply.started": "2021-09-17T21:20:21.04387Z"
    }
   },
   "outputs": [
    {
     "data": {
      "image/png": "[encoded data removed]",
      "text/plain": [
       "<Figure size 936x360 with 1 Axes>"
      ]
     },
     "metadata": {
      "needs_background": "light"
     },
     "output_type": "display_data"
    }
   ],
   "source": [
    "labeled_barplot(data, \"arrival_month\", perc=True)"
   ]
  },
  {
   "cell_type": "markdown",
   "metadata": {},
   "source": [
    "**August and July are the busiest, followed by May and June.**"
   ]
  },
  {
   "cell_type": "markdown",
   "metadata": {},
   "source": []
  },
  {
   "cell_type": "code",
   "execution_count": 21,
   "metadata": {
    "execution": {
     "iopub.execute_input": "2021-09-17T21:20:21.324126Z",
     "iopub.status.busy": "2021-09-17T21:20:21.323825Z",
     "iopub.status.idle": "2021-09-17T21:20:21.499336Z",
     "shell.execute_reply": "2021-09-17T21:20:21.498306Z",
     "shell.execute_reply.started": "2021-09-17T21:20:21.32408Z"
    }
   },
   "outputs": [
    {
     "data": {
      "image/png": "[encoded data removed]",
      "text/plain": [
       "<Figure size 288x360 with 1 Axes>"
      ]
     },
     "metadata": {
      "needs_background": "light"
     },
     "output_type": "display_data"
    }
   ],
   "source": [
    "labeled_barplot(data, \"arrival_year\", perc=True)"
   ]
  },
  {
   "cell_type": "markdown",
   "metadata": {},
   "source": [
    "**2018 is the arrival year with the highest numbers of arrivals.**"
   ]
  },
  {
   "cell_type": "code",
   "execution_count": 22,
   "metadata": {
    "execution": {
     "iopub.execute_input": "2021-09-17T21:20:21.501198Z",
     "iopub.status.busy": "2021-09-17T21:20:21.500887Z",
     "iopub.status.idle": "2021-09-17T21:20:21.745365Z",
     "shell.execute_reply": "2021-09-17T21:20:21.744496Z",
     "shell.execute_reply.started": "2021-09-17T21:20:21.50116Z"
    }
   },
   "outputs": [
    {
     "data": {
      "image/png": "[encoded data removed]",
      "text/plain": [
       "<Figure size 432x360 with 1 Axes>"
      ]
     },
     "metadata": {
      "needs_background": "light"
     },
     "output_type": "display_data"
    }
   ],
   "source": [
    "labeled_barplot(data, \"market_segment_type\", perc=True)"
   ]
  },
  {
   "cell_type": "markdown",
   "metadata": {},
   "source": [
    "* Only 3.1% of guests came back and stayed at Stars Hotel."
   ]
  },
  {
   "cell_type": "markdown",
   "metadata": {},
   "source": [
    "**Most guest come from the online market segment.**"
   ]
  },
  {
   "cell_type": "code",
   "execution_count": 23,
   "metadata": {
    "execution": {
     "iopub.execute_input": "2021-09-17T21:20:21.7468Z",
     "iopub.status.busy": "2021-09-17T21:20:21.746547Z",
     "iopub.status.idle": "2021-09-17T21:20:21.994191Z",
     "shell.execute_reply": "2021-09-17T21:20:21.993343Z",
     "shell.execute_reply.started": "2021-09-17T21:20:21.746771Z"
    }
   },
   "outputs": [
    {
     "data": {
      "image/png": "[encoded data removed]",
      "text/plain": [
       "<Figure size 720x360 with 1 Axes>"
      ]
     },
     "metadata": {
      "needs_background": "light"
     },
     "output_type": "display_data"
    }
   ],
   "source": [
    "labeled_barplot(data, \"no_of_previous_cancellations\", perc=True)"
   ]
  },
  {
   "cell_type": "markdown",
   "metadata": {},
   "source": [
    "**0.6% of customers cancelled prior to current booking**"
   ]
  },
  {
   "cell_type": "code",
   "execution_count": 24,
   "metadata": {
    "execution": {
     "iopub.execute_input": "2021-09-17T21:20:21.995618Z",
     "iopub.status.busy": "2021-09-17T21:20:21.995353Z",
     "iopub.status.idle": "2021-09-17T21:20:22.199141Z",
     "shell.execute_reply": "2021-09-17T21:20:22.198255Z",
     "shell.execute_reply.started": "2021-09-17T21:20:21.995575Z"
    }
   },
   "outputs": [
    {
     "data": {
      "image/png": "[encoded data removed]",
      "text/plain": [
       "<Figure size 216x360 with 1 Axes>"
      ]
     },
     "metadata": {
      "needs_background": "light"
     },
     "output_type": "display_data"
    }
   ],
   "source": [
    "labeled_barplot(data, \"booking_status\", perc=True)"
   ]
  },
  {
   "cell_type": "markdown",
   "metadata": {},
   "source": [
    "**34% of bookings got cancelled**"
   ]
  },
  {
   "cell_type": "code",
   "execution_count": 25,
   "metadata": {
    "execution": {
     "iopub.execute_input": "2021-09-17T21:20:22.200669Z",
     "iopub.status.busy": "2021-09-17T21:20:22.200432Z",
     "iopub.status.idle": "2021-09-17T21:20:22.224263Z",
     "shell.execute_reply": "2021-09-17T21:20:22.223386Z",
     "shell.execute_reply.started": "2021-09-17T21:20:22.200642Z"
    }
   },
   "outputs": [
    {
     "name": "stdout",
     "output_type": "stream",
     "text": [
      "<class 'pandas.core.frame.DataFrame'>\n",
      "Int64Index: 42576 entries, 0 to 56924\n",
      "Data columns (total 18 columns):\n",
      " #   Column                                Non-Null Count  Dtype  \n",
      "---  ------                                --------------  -----  \n",
      " 0   no_of_adults                          42576 non-null  int64  \n",
      " 1   no_of_children                        42576 non-null  int64  \n",
      " 2   no_of_weekend_nights                  42576 non-null  int64  \n",
      " 3   no_of_week_nights                     42576 non-null  int64  \n",
      " 4   type_of_meal_plan                     42576 non-null  object \n",
      " 5   required_car_parking_space            42576 non-null  int64  \n",
      " 6   room_type_reserved                    42576 non-null  object \n",
      " 7   lead_time                             42576 non-null  int64  \n",
      " 8   arrival_year                          42576 non-null  int64  \n",
      " 9   arrival_month                         42576 non-null  int64  \n",
      " 10  arrival_date                          42576 non-null  int64  \n",
      " 11  market_segment_type                   42576 non-null  object \n",
      " 12  repeated_guest                        42576 non-null  int64  \n",
      " 13  no_of_previous_cancellations          42576 non-null  int64  \n",
      " 14  no_of_previous_bookings_not_canceled  42576 non-null  int64  \n",
      " 15  avg_price_per_room                    42576 non-null  float64\n",
      " 16  no_of_special_requests                42576 non-null  int64  \n",
      " 17  booking_status                        42576 non-null  object \n",
      "dtypes: float64(1), int64(13), object(4)\n",
      "memory usage: 7.4+ MB\n"
     ]
    }
   ],
   "source": [
    "data.info()"
   ]
  },
  {
   "cell_type": "markdown",
   "metadata": {},
   "source": [
    "* Only 3.1% of guests came back and stayed at Stars Hotel."
   ]
  },
  {
   "cell_type": "code",
   "execution_count": 26,
   "metadata": {
    "execution": {
     "iopub.execute_input": "2021-09-17T21:20:22.225977Z",
     "iopub.status.busy": "2021-09-17T21:20:22.225506Z",
     "iopub.status.idle": "2021-09-17T21:20:22.560072Z",
     "shell.execute_reply": "2021-09-17T21:20:22.559149Z",
     "shell.execute_reply.started": "2021-09-17T21:20:22.225944Z"
    }
   },
   "outputs": [
    {
     "data": {
      "image/png": "[encoded data removed]",
      "text/plain": [
       "<Figure size 1368x360 with 1 Axes>"
      ]
     },
     "metadata": {
      "needs_background": "light"
     },
     "output_type": "display_data"
    }
   ],
   "source": [
    "labeled_barplot(data, \"no_of_week_nights\", perc=True)"
   ]
  },
  {
   "cell_type": "markdown",
   "metadata": {},
   "source": [
    "* Guest who stay during week nights tend to book 1 to 3 week nights for a 75% of  week nights bookings."
   ]
  },
  {
   "cell_type": "markdown",
   "metadata": {},
   "source": [
    "Questions:\n",
    "\n",
    "* What are the busiest months in the hotel?\n",
    "**August and July are the busiest, followed by May and June.**\n",
    "* Which market segment do most of the guests come from? Most guest come from the online market segment.\n",
    "* Hotel rates are dynamic and change according to demand and customer demographics. What are the     differences in room prices in different market segments?\n",
    "* What percentage of bookings are canceled?\n",
    "* Repeating guests are the guests who stay in the hotel often and are important to brand             equity. What percentage of repeating guests cancel?\n",
    "* Many guests have special requirements when booking a hotel room. Do these requirements affect     booking cancellation?"
   ]
  },
  {
   "cell_type": "code",
   "execution_count": 27,
   "metadata": {
    "execution": {
     "iopub.execute_input": "2021-09-17T21:20:22.562153Z",
     "iopub.status.busy": "2021-09-17T21:20:22.561366Z",
     "iopub.status.idle": "2021-09-17T21:20:23.842752Z",
     "shell.execute_reply": "2021-09-17T21:20:23.841761Z",
     "shell.execute_reply.started": "2021-09-17T21:20:22.562111Z"
    }
   },
   "outputs": [
    {
     "data": {
      "image/png": "[encoded data removed]",
      "text/plain": [
       "<Figure size 1080x504 with 2 Axes>"
      ]
     },
     "metadata": {
      "needs_background": "light"
     },
     "output_type": "display_data"
    }
   ],
   "source": [
    "plt.figure(figsize=(15, 7))\n",
    "sns.heatmap(data.corr(), annot=True, vmin=-1, vmax=1, cmap=\"Spectral\")\n",
    "plt.show()"
   ]
  },
  {
   "cell_type": "code",
   "execution_count": 28,
   "metadata": {
    "execution": {
     "iopub.execute_input": "2021-09-17T21:20:23.844297Z",
     "iopub.status.busy": "2021-09-17T21:20:23.844084Z",
     "iopub.status.idle": "2021-09-17T21:20:24.253628Z",
     "shell.execute_reply": "2021-09-17T21:20:24.252421Z",
     "shell.execute_reply.started": "2021-09-17T21:20:23.844274Z"
    }
   },
   "outputs": [
    {
     "data": {
      "image/png": "[encoded data removed]",
      "text/plain": [
       "<Figure size 432x288 with 1 Axes>"
      ]
     },
     "metadata": {
      "needs_background": "light"
     },
     "output_type": "display_data"
    }
   ],
   "source": [
    "sns.stripplot(data['market_segment_type'], data['avg_price_per_room'])\n",
    "plt.show()"
   ]
  },
  {
   "cell_type": "code",
   "execution_count": 29,
   "metadata": {
    "execution": {
     "iopub.execute_input": "2021-09-17T21:20:24.260541Z",
     "iopub.status.busy": "2021-09-17T21:20:24.260002Z",
     "iopub.status.idle": "2021-09-17T21:20:24.271917Z",
     "shell.execute_reply": "2021-09-17T21:20:24.271085Z",
     "shell.execute_reply.started": "2021-09-17T21:20:24.260495Z"
    }
   },
   "outputs": [],
   "source": [
    "datagroup = data.groupby(\"market_segment_type\").avg_price_per_room.mean()\n",
    "Marketprice = pd.DataFrame({'market_segment_type':datagroup.index, 'avg_price_per_room':datagroup.values})"
   ]
  },
  {
   "cell_type": "code",
   "execution_count": 30,
   "metadata": {
    "execution": {
     "iopub.execute_input": "2021-09-17T21:20:24.276835Z",
     "iopub.status.busy": "2021-09-17T21:20:24.276605Z",
     "iopub.status.idle": "2021-09-17T21:20:24.303352Z",
     "shell.execute_reply": "2021-09-17T21:20:24.302474Z",
     "shell.execute_reply.started": "2021-09-17T21:20:24.27681Z"
    }
   },
   "outputs": [
    {
     "name": "stdout",
     "output_type": "stream",
     "text": [
      "<class 'pandas.core.frame.DataFrame'>\n",
      "Int64Index: 42576 entries, 0 to 56924\n",
      "Data columns (total 18 columns):\n",
      " #   Column                                Non-Null Count  Dtype  \n",
      "---  ------                                --------------  -----  \n",
      " 0   no_of_adults                          42576 non-null  int64  \n",
      " 1   no_of_children                        42576 non-null  int64  \n",
      " 2   no_of_weekend_nights                  42576 non-null  int64  \n",
      " 3   no_of_week_nights                     42576 non-null  int64  \n",
      " 4   type_of_meal_plan                     42576 non-null  object \n",
      " 5   required_car_parking_space            42576 non-null  int64  \n",
      " 6   room_type_reserved                    42576 non-null  object \n",
      " 7   lead_time                             42576 non-null  int64  \n",
      " 8   arrival_year                          42576 non-null  int64  \n",
      " 9   arrival_month                         42576 non-null  int64  \n",
      " 10  arrival_date                          42576 non-null  int64  \n",
      " 11  market_segment_type                   42576 non-null  object \n",
      " 12  repeated_guest                        42576 non-null  int64  \n",
      " 13  no_of_previous_cancellations          42576 non-null  int64  \n",
      " 14  no_of_previous_bookings_not_canceled  42576 non-null  int64  \n",
      " 15  avg_price_per_room                    42576 non-null  float64\n",
      " 16  no_of_special_requests                42576 non-null  int64  \n",
      " 17  booking_status                        42576 non-null  object \n",
      "dtypes: float64(1), int64(13), object(4)\n",
      "memory usage: 7.4+ MB\n"
     ]
    }
   ],
   "source": [
    "data.info()"
   ]
  },
  {
   "cell_type": "code",
   "execution_count": 31,
   "metadata": {
    "execution": {
     "iopub.execute_input": "2021-09-17T21:20:24.304803Z",
     "iopub.status.busy": "2021-09-17T21:20:24.304545Z",
     "iopub.status.idle": "2021-09-17T21:20:24.492448Z",
     "shell.execute_reply": "2021-09-17T21:20:24.491657Z",
     "shell.execute_reply.started": "2021-09-17T21:20:24.304777Z"
    }
   },
   "outputs": [
    {
     "data": {
      "image/png": "[encoded data removed]",
      "text/plain": [
       "<Figure size 432x288 with 1 Axes>"
      ]
     },
     "metadata": {
      "needs_background": "light"
     },
     "output_type": "display_data"
    }
   ],
   "source": [
    "sns.barplot(x =\"market_segment_type\",y = \"avg_price_per_room\", data = Marketprice)\n",
    "plt.show()\n"
   ]
  },
  {
   "cell_type": "markdown",
   "metadata": {},
   "source": [
    "* The average price per room for Online bookings seems to be the highest. "
   ]
  },
  {
   "cell_type": "markdown",
   "metadata": {
    "id": "alleged-spirituality"
   },
   "source": [
    "## Data Preprocessing\n",
    "\n",
    "- Missing value treatment (if needed)\n",
    "- Feature engineering (if needed)\n",
    "- Outlier detection and treatment (if needed)\n",
    "- Preparing data for modeling \n",
    "- Any other preprocessing steps (if needed)"
   ]
  },
  {
   "cell_type": "code",
   "execution_count": 32,
   "metadata": {
    "execution": {
     "iopub.execute_input": "2021-09-17T21:20:24.494093Z",
     "iopub.status.busy": "2021-09-17T21:20:24.493883Z",
     "iopub.status.idle": "2021-09-17T21:20:24.514747Z",
     "shell.execute_reply": "2021-09-17T21:20:24.513801Z",
     "shell.execute_reply.started": "2021-09-17T21:20:24.494069Z"
    }
   },
   "outputs": [
    {
     "name": "stdout",
     "output_type": "stream",
     "text": [
      "<class 'pandas.core.frame.DataFrame'>\n",
      "Int64Index: 42576 entries, 0 to 56924\n",
      "Data columns (total 18 columns):\n",
      " #   Column                                Non-Null Count  Dtype  \n",
      "---  ------                                --------------  -----  \n",
      " 0   no_of_adults                          42576 non-null  int64  \n",
      " 1   no_of_children                        42576 non-null  int64  \n",
      " 2   no_of_weekend_nights                  42576 non-null  int64  \n",
      " 3   no_of_week_nights                     42576 non-null  int64  \n",
      " 4   type_of_meal_plan                     42576 non-null  object \n",
      " 5   required_car_parking_space            42576 non-null  int64  \n",
      " 6   room_type_reserved                    42576 non-null  object \n",
      " 7   lead_time                             42576 non-null  int64  \n",
      " 8   arrival_year                          42576 non-null  int64  \n",
      " 9   arrival_month                         42576 non-null  int64  \n",
      " 10  arrival_date                          42576 non-null  int64  \n",
      " 11  market_segment_type                   42576 non-null  object \n",
      " 12  repeated_guest                        42576 non-null  int64  \n",
      " 13  no_of_previous_cancellations          42576 non-null  int64  \n",
      " 14  no_of_previous_bookings_not_canceled  42576 non-null  int64  \n",
      " 15  avg_price_per_room                    42576 non-null  float64\n",
      " 16  no_of_special_requests                42576 non-null  int64  \n",
      " 17  booking_status                        42576 non-null  object \n",
      "dtypes: float64(1), int64(13), object(4)\n",
      "memory usage: 7.4+ MB\n"
     ]
    }
   ],
   "source": [
    "data.info()"
   ]
  },
  {
   "cell_type": "code",
   "execution_count": 33,
   "metadata": {
    "execution": {
     "iopub.execute_input": "2021-09-17T21:20:24.516627Z",
     "iopub.status.busy": "2021-09-17T21:20:24.5163Z",
     "iopub.status.idle": "2021-09-17T21:20:24.543611Z",
     "shell.execute_reply": "2021-09-17T21:20:24.542857Z",
     "shell.execute_reply.started": "2021-09-17T21:20:24.516569Z"
    }
   },
   "outputs": [],
   "source": [
    "#coverting data type object to categorical\n",
    "data[\"booking_status\"] = data[\"booking_status\"].astype(\"category\")\n",
    "data[\"market_segment_type\"] = data[\"market_segment_type\"].astype(\"category\")\n",
    "data[\"type_of_meal_plan\"] = data[\"type_of_meal_plan\"].astype(\"category\")\n",
    "data[\"room_type_reserved\"] = data[\"room_type_reserved\"].astype(\"category\")"
   ]
  },
  {
   "cell_type": "code",
   "execution_count": 34,
   "metadata": {
    "execution": {
     "iopub.execute_input": "2021-09-17T21:20:24.545023Z",
     "iopub.status.busy": "2021-09-17T21:20:24.54475Z",
     "iopub.status.idle": "2021-09-17T21:20:24.549451Z",
     "shell.execute_reply": "2021-09-17T21:20:24.548682Z",
     "shell.execute_reply.started": "2021-09-17T21:20:24.544995Z"
    }
   },
   "outputs": [],
   "source": [
    "catfeatures = [\"booking_status\",\"market_segment_type\",\"type_of_meal_plan\", \"room_type_reserved\"]\n",
    "numeric_columns = [feature for feature in data.columns if feature not in catfeatures]"
   ]
  },
  {
   "cell_type": "code",
   "execution_count": 35,
   "metadata": {
    "execution": {
     "iopub.execute_input": "2021-09-17T21:20:24.551553Z",
     "iopub.status.busy": "2021-09-17T21:20:24.551095Z",
     "iopub.status.idle": "2021-09-17T21:20:24.57204Z",
     "shell.execute_reply": "2021-09-17T21:20:24.571362Z",
     "shell.execute_reply.started": "2021-09-17T21:20:24.551513Z"
    }
   },
   "outputs": [
    {
     "name": "stdout",
     "output_type": "stream",
     "text": [
      "<class 'pandas.core.frame.DataFrame'>\n",
      "Int64Index: 42576 entries, 0 to 56924\n",
      "Data columns (total 18 columns):\n",
      " #   Column                                Non-Null Count  Dtype   \n",
      "---  ------                                --------------  -----   \n",
      " 0   no_of_adults                          42576 non-null  int64   \n",
      " 1   no_of_children                        42576 non-null  int64   \n",
      " 2   no_of_weekend_nights                  42576 non-null  int64   \n",
      " 3   no_of_week_nights                     42576 non-null  int64   \n",
      " 4   type_of_meal_plan                     42576 non-null  category\n",
      " 5   required_car_parking_space            42576 non-null  int64   \n",
      " 6   room_type_reserved                    42576 non-null  category\n",
      " 7   lead_time                             42576 non-null  int64   \n",
      " 8   arrival_year                          42576 non-null  int64   \n",
      " 9   arrival_month                         42576 non-null  int64   \n",
      " 10  arrival_date                          42576 non-null  int64   \n",
      " 11  market_segment_type                   42576 non-null  category\n",
      " 12  repeated_guest                        42576 non-null  int64   \n",
      " 13  no_of_previous_cancellations          42576 non-null  int64   \n",
      " 14  no_of_previous_bookings_not_canceled  42576 non-null  int64   \n",
      " 15  avg_price_per_room                    42576 non-null  float64 \n",
      " 16  no_of_special_requests                42576 non-null  int64   \n",
      " 17  booking_status                        42576 non-null  category\n",
      "dtypes: category(4), float64(1), int64(13)\n",
      "memory usage: 6.3 MB\n"
     ]
    }
   ],
   "source": [
    "data.info()"
   ]
  },
  {
   "cell_type": "code",
   "execution_count": 36,
   "metadata": {
    "execution": {
     "iopub.execute_input": "2021-09-17T21:20:24.573457Z",
     "iopub.status.busy": "2021-09-17T21:20:24.573088Z",
     "iopub.status.idle": "2021-09-17T21:20:27.42882Z",
     "shell.execute_reply": "2021-09-17T21:20:27.42821Z",
     "shell.execute_reply.started": "2021-09-17T21:20:24.57342Z"
    },
    "id": "increasing-louisiana"
   },
   "outputs": [
    {
     "data": {
      "image/png": "[encoded data removed]",
      "text/plain": [
       "<Figure size 1440x2160 with 14 Axes>"
      ]
     },
     "metadata": {
      "needs_background": "light"
     },
     "output_type": "display_data"
    }
   ],
   "source": [
    "# let's plot the boxplots of all columns to check for outliers\n",
    "plt.figure(figsize=(20, 30))\n",
    "\n",
    "for i, variable in enumerate(numeric_columns):\n",
    "    plt.subplot(5, 4, i + 1)\n",
    "    plt.boxplot(data[variable], whis=1.5)\n",
    "    plt.tight_layout()\n",
    "    plt.title(variable)\n",
    "\n",
    "plt.show()"
   ]
  },
  {
   "cell_type": "markdown",
   "metadata": {
    "id": "difficult-union"
   },
   "source": [
    "## EDA\n",
    "\n",
    "- It is a good idea to explore the data once again after manipulating it."
   ]
  },
  {
   "cell_type": "code",
   "execution_count": 37,
   "metadata": {
    "execution": {
     "iopub.execute_input": "2021-09-17T21:20:27.430432Z",
     "iopub.status.busy": "2021-09-17T21:20:27.429784Z",
     "iopub.status.idle": "2021-09-17T21:20:27.437188Z",
     "shell.execute_reply": "2021-09-17T21:20:27.436353Z",
     "shell.execute_reply.started": "2021-09-17T21:20:27.4304Z"
    },
    "id": "interested-talent"
   },
   "outputs": [],
   "source": [
    "# function to plot stacked bar chart\n",
    "\n",
    "\n",
    "def stacked_barplot(data, predictor, target):\n",
    "    \"\"\"\n",
    "    Print the category counts and plot a stacked bar chart\n",
    "\n",
    "    data: dataframe\n",
    "    predictor: independent variable\n",
    "    target: target variable\n",
    "    \"\"\"\n",
    "    count = data[predictor].nunique()\n",
    "    sorter = data[target].value_counts().index[-1]\n",
    "    tab1 = pd.crosstab(data[predictor], data[target], margins=True).sort_values(\n",
    "        by=sorter, ascending=False\n",
    "    )\n",
    "    print(tab1)\n",
    "    print(\"-\" * 120)\n",
    "    tab = pd.crosstab(data[predictor], data[target], normalize=\"index\").sort_values(\n",
    "        by=sorter, ascending=False\n",
    "    )\n",
    "    tab.plot(kind=\"bar\", stacked=True, figsize=(count + 5, 6))\n",
    "    plt.legend(\n",
    "        loc=\"lower left\", frameon=False,\n",
    "    )\n",
    "    plt.legend(loc=\"upper left\", bbox_to_anchor=(1, 1))\n",
    "    plt.show()"
   ]
  },
  {
   "cell_type": "code",
   "execution_count": 38,
   "metadata": {
    "execution": {
     "iopub.execute_input": "2021-09-17T21:20:27.438804Z",
     "iopub.status.busy": "2021-09-17T21:20:27.438095Z",
     "iopub.status.idle": "2021-09-17T21:20:27.662344Z",
     "shell.execute_reply": "2021-09-17T21:20:27.661395Z",
     "shell.execute_reply.started": "2021-09-17T21:20:27.438772Z"
    }
   },
   "outputs": [
    {
     "data": {
      "text/plain": [
       "<AxesSubplot:xlabel='avg_price_per_room', ylabel='booking_status'>"
      ]
     },
     "execution_count": 38,
     "metadata": {},
     "output_type": "execute_result"
    },
    {
     "data": {
      "image/png": "[encoded data removed]",
      "text/plain": [
       "<Figure size 720x360 with 1 Axes>"
      ]
     },
     "metadata": {
      "needs_background": "light"
     },
     "output_type": "display_data"
    }
   ],
   "source": [
    "plt.figure(figsize=(10, 5))\n",
    "sns.boxplot(data[\"avg_price_per_room\"], data[\"booking_status\"])\n"
   ]
  },
  {
   "cell_type": "markdown",
   "metadata": {},
   "source": [
    "labeled_barplot(data, \"\", perc=True)"
   ]
  },
  {
   "cell_type": "code",
   "execution_count": 39,
   "metadata": {
    "execution": {
     "iopub.execute_input": "2021-09-17T21:20:27.664061Z",
     "iopub.status.busy": "2021-09-17T21:20:27.663749Z",
     "iopub.status.idle": "2021-09-17T21:20:27.68413Z",
     "shell.execute_reply": "2021-09-17T21:20:27.682977Z",
     "shell.execute_reply.started": "2021-09-17T21:20:27.664019Z"
    }
   },
   "outputs": [
    {
     "data": {
      "text/html": [
       "<div>\n",
       "<style scoped>\n",
       "    .dataframe tbody tr th:only-of-type {\n",
       "        vertical-align: middle;\n",
       "    }\n",
       "\n",
       "    .dataframe tbody tr th {\n",
       "        vertical-align: top;\n",
       "    }\n",
       "\n",
       "    .dataframe thead th {\n",
       "        text-align: right;\n",
       "    }\n",
       "</style>\n",
       "<table border=\"1\" class=\"dataframe\">\n",
       "  <thead>\n",
       "    <tr style=\"text-align: right;\">\n",
       "      <th></th>\n",
       "      <th>no_of_adults</th>\n",
       "      <th>no_of_children</th>\n",
       "      <th>no_of_weekend_nights</th>\n",
       "      <th>no_of_week_nights</th>\n",
       "      <th>type_of_meal_plan</th>\n",
       "      <th>required_car_parking_space</th>\n",
       "      <th>room_type_reserved</th>\n",
       "      <th>lead_time</th>\n",
       "      <th>arrival_year</th>\n",
       "      <th>arrival_month</th>\n",
       "      <th>arrival_date</th>\n",
       "      <th>market_segment_type</th>\n",
       "      <th>repeated_guest</th>\n",
       "      <th>no_of_previous_cancellations</th>\n",
       "      <th>no_of_previous_bookings_not_canceled</th>\n",
       "      <th>avg_price_per_room</th>\n",
       "      <th>no_of_special_requests</th>\n",
       "      <th>booking_status</th>\n",
       "    </tr>\n",
       "  </thead>\n",
       "  <tbody>\n",
       "    <tr>\n",
       "      <th>0</th>\n",
       "      <td>2</td>\n",
       "      <td>0</td>\n",
       "      <td>1</td>\n",
       "      <td>2</td>\n",
       "      <td>Meal Plan 1</td>\n",
       "      <td>0</td>\n",
       "      <td>Room_Type 1</td>\n",
       "      <td>224</td>\n",
       "      <td>2017</td>\n",
       "      <td>10</td>\n",
       "      <td>2</td>\n",
       "      <td>Offline</td>\n",
       "      <td>0</td>\n",
       "      <td>0</td>\n",
       "      <td>0</td>\n",
       "      <td>65.00</td>\n",
       "      <td>0</td>\n",
       "      <td>Not_Canceled</td>\n",
       "    </tr>\n",
       "    <tr>\n",
       "      <th>1</th>\n",
       "      <td>2</td>\n",
       "      <td>0</td>\n",
       "      <td>2</td>\n",
       "      <td>3</td>\n",
       "      <td>Not Selected</td>\n",
       "      <td>0</td>\n",
       "      <td>Room_Type 1</td>\n",
       "      <td>5</td>\n",
       "      <td>2018</td>\n",
       "      <td>11</td>\n",
       "      <td>6</td>\n",
       "      <td>Online</td>\n",
       "      <td>0</td>\n",
       "      <td>0</td>\n",
       "      <td>0</td>\n",
       "      <td>106.68</td>\n",
       "      <td>1</td>\n",
       "      <td>Not_Canceled</td>\n",
       "    </tr>\n",
       "    <tr>\n",
       "      <th>2</th>\n",
       "      <td>1</td>\n",
       "      <td>0</td>\n",
       "      <td>2</td>\n",
       "      <td>1</td>\n",
       "      <td>Meal Plan 1</td>\n",
       "      <td>0</td>\n",
       "      <td>Room_Type 1</td>\n",
       "      <td>1</td>\n",
       "      <td>2018</td>\n",
       "      <td>2</td>\n",
       "      <td>28</td>\n",
       "      <td>Online</td>\n",
       "      <td>0</td>\n",
       "      <td>0</td>\n",
       "      <td>0</td>\n",
       "      <td>60.00</td>\n",
       "      <td>0</td>\n",
       "      <td>Canceled</td>\n",
       "    </tr>\n",
       "    <tr>\n",
       "      <th>3</th>\n",
       "      <td>2</td>\n",
       "      <td>0</td>\n",
       "      <td>0</td>\n",
       "      <td>2</td>\n",
       "      <td>Meal Plan 1</td>\n",
       "      <td>0</td>\n",
       "      <td>Room_Type 1</td>\n",
       "      <td>211</td>\n",
       "      <td>2018</td>\n",
       "      <td>5</td>\n",
       "      <td>20</td>\n",
       "      <td>Online</td>\n",
       "      <td>0</td>\n",
       "      <td>0</td>\n",
       "      <td>0</td>\n",
       "      <td>100.00</td>\n",
       "      <td>0</td>\n",
       "      <td>Canceled</td>\n",
       "    </tr>\n",
       "    <tr>\n",
       "      <th>4</th>\n",
       "      <td>3</td>\n",
       "      <td>0</td>\n",
       "      <td>0</td>\n",
       "      <td>3</td>\n",
       "      <td>Not Selected</td>\n",
       "      <td>0</td>\n",
       "      <td>Room_Type 1</td>\n",
       "      <td>277</td>\n",
       "      <td>2019</td>\n",
       "      <td>7</td>\n",
       "      <td>13</td>\n",
       "      <td>Online</td>\n",
       "      <td>0</td>\n",
       "      <td>0</td>\n",
       "      <td>0</td>\n",
       "      <td>89.10</td>\n",
       "      <td>2</td>\n",
       "      <td>Canceled</td>\n",
       "    </tr>\n",
       "  </tbody>\n",
       "</table>\n",
       "</div>"
      ],
      "text/plain": [
       "   no_of_adults  no_of_children  no_of_weekend_nights  no_of_week_nights  \\\n",
       "0             2               0                     1                  2   \n",
       "1             2               0                     2                  3   \n",
       "2             1               0                     2                  1   \n",
       "3             2               0                     0                  2   \n",
       "4             3               0                     0                  3   \n",
       "\n",
       "  type_of_meal_plan  required_car_parking_space room_type_reserved  lead_time  \\\n",
       "0       Meal Plan 1                           0        Room_Type 1        224   \n",
       "1      Not Selected                           0        Room_Type 1          5   \n",
       "2       Meal Plan 1                           0        Room_Type 1          1   \n",
       "3       Meal Plan 1                           0        Room_Type 1        211   \n",
       "4      Not Selected                           0        Room_Type 1        277   \n",
       "\n",
       "   arrival_year  arrival_month  arrival_date market_segment_type  \\\n",
       "0          2017             10             2             Offline   \n",
       "1          2018             11             6              Online   \n",
       "2          2018              2            28              Online   \n",
       "3          2018              5            20              Online   \n",
       "4          2019              7            13              Online   \n",
       "\n",
       "   repeated_guest  no_of_previous_cancellations  \\\n",
       "0               0                             0   \n",
       "1               0                             0   \n",
       "2               0                             0   \n",
       "3               0                             0   \n",
       "4               0                             0   \n",
       "\n",
       "   no_of_previous_bookings_not_canceled  avg_price_per_room  \\\n",
       "0                                     0               65.00   \n",
       "1                                     0              106.68   \n",
       "2                                     0               60.00   \n",
       "3                                     0              100.00   \n",
       "4                                     0               89.10   \n",
       "\n",
       "   no_of_special_requests booking_status  \n",
       "0                       0   Not_Canceled  \n",
       "1                       1   Not_Canceled  \n",
       "2                       0       Canceled  \n",
       "3                       0       Canceled  \n",
       "4                       2       Canceled  "
      ]
     },
     "execution_count": 39,
     "metadata": {},
     "output_type": "execute_result"
    }
   ],
   "source": [
    "data.head()"
   ]
  },
  {
   "cell_type": "code",
   "execution_count": 40,
   "metadata": {
    "execution": {
     "iopub.execute_input": "2021-09-17T21:20:27.686408Z",
     "iopub.status.busy": "2021-09-17T21:20:27.685825Z",
     "iopub.status.idle": "2021-09-17T21:20:27.695097Z",
     "shell.execute_reply": "2021-09-17T21:20:27.694171Z",
     "shell.execute_reply.started": "2021-09-17T21:20:27.686364Z"
    }
   },
   "outputs": [],
   "source": [
    "# function to plot stacked bar chart\n",
    "\n",
    "\n",
    "def stacked_barplot(data, predictor, target):\n",
    "    \"\"\"\n",
    "    Print the category counts and plot a stacked bar chart\n",
    "\n",
    "    data: dataframe\n",
    "    predictor: independent variable\n",
    "    target: target variable\n",
    "    \"\"\"\n",
    "    count = data[predictor].nunique()\n",
    "    sorter = data[target].value_counts().index[-1]\n",
    "    tab1 = pd.crosstab(data[predictor], data[target], margins=True).sort_values(\n",
    "        by=sorter, ascending=False\n",
    "    )\n",
    "    print(tab1)\n",
    "    print(\"-\" * 120)\n",
    "    tab = pd.crosstab(data[predictor], data[target], normalize=\"index\").sort_values(\n",
    "        by=sorter, ascending=False\n",
    "    )\n",
    "    tab.plot(kind=\"bar\", stacked=True, figsize=(count + 5, 6))\n",
    "    plt.legend(\n",
    "        loc=\"lower left\", frameon=False,\n",
    "    )\n",
    "    plt.legend(loc=\"upper left\", bbox_to_anchor=(1, 1))\n",
    "    plt.show()"
   ]
  },
  {
   "cell_type": "code",
   "execution_count": 41,
   "metadata": {
    "execution": {
     "iopub.execute_input": "2021-09-17T21:20:27.697054Z",
     "iopub.status.busy": "2021-09-17T21:20:27.696737Z",
     "iopub.status.idle": "2021-09-17T21:20:27.733648Z",
     "shell.execute_reply": "2021-09-17T21:20:27.732784Z",
     "shell.execute_reply.started": "2021-09-17T21:20:27.697015Z"
    }
   },
   "outputs": [
    {
     "data": {
      "text/html": [
       "<div>\n",
       "<style scoped>\n",
       "    .dataframe tbody tr th:only-of-type {\n",
       "        vertical-align: middle;\n",
       "    }\n",
       "\n",
       "    .dataframe tbody tr th {\n",
       "        vertical-align: top;\n",
       "    }\n",
       "\n",
       "    .dataframe thead th {\n",
       "        text-align: right;\n",
       "    }\n",
       "</style>\n",
       "<table border=\"1\" class=\"dataframe\">\n",
       "  <thead>\n",
       "    <tr style=\"text-align: right;\">\n",
       "      <th></th>\n",
       "      <th>no_of_adults</th>\n",
       "      <th>no_of_children</th>\n",
       "      <th>no_of_weekend_nights</th>\n",
       "      <th>no_of_week_nights</th>\n",
       "      <th>type_of_meal_plan</th>\n",
       "      <th>required_car_parking_space</th>\n",
       "      <th>room_type_reserved</th>\n",
       "      <th>lead_time</th>\n",
       "      <th>arrival_year</th>\n",
       "      <th>arrival_month</th>\n",
       "      <th>arrival_date</th>\n",
       "      <th>market_segment_type</th>\n",
       "      <th>repeated_guest</th>\n",
       "      <th>no_of_previous_cancellations</th>\n",
       "      <th>no_of_previous_bookings_not_canceled</th>\n",
       "      <th>avg_price_per_room</th>\n",
       "      <th>no_of_special_requests</th>\n",
       "      <th>booking_status</th>\n",
       "    </tr>\n",
       "  </thead>\n",
       "  <tbody>\n",
       "    <tr>\n",
       "      <th>0</th>\n",
       "      <td>2</td>\n",
       "      <td>0</td>\n",
       "      <td>1</td>\n",
       "      <td>2</td>\n",
       "      <td>Meal Plan 1</td>\n",
       "      <td>0</td>\n",
       "      <td>Room_Type 1</td>\n",
       "      <td>224</td>\n",
       "      <td>2017</td>\n",
       "      <td>10</td>\n",
       "      <td>2</td>\n",
       "      <td>Offline</td>\n",
       "      <td>0</td>\n",
       "      <td>0</td>\n",
       "      <td>0</td>\n",
       "      <td>65.00</td>\n",
       "      <td>0</td>\n",
       "      <td>Not_Canceled</td>\n",
       "    </tr>\n",
       "    <tr>\n",
       "      <th>1</th>\n",
       "      <td>2</td>\n",
       "      <td>0</td>\n",
       "      <td>2</td>\n",
       "      <td>3</td>\n",
       "      <td>Not Selected</td>\n",
       "      <td>0</td>\n",
       "      <td>Room_Type 1</td>\n",
       "      <td>5</td>\n",
       "      <td>2018</td>\n",
       "      <td>11</td>\n",
       "      <td>6</td>\n",
       "      <td>Online</td>\n",
       "      <td>0</td>\n",
       "      <td>0</td>\n",
       "      <td>0</td>\n",
       "      <td>106.68</td>\n",
       "      <td>1</td>\n",
       "      <td>Not_Canceled</td>\n",
       "    </tr>\n",
       "    <tr>\n",
       "      <th>2</th>\n",
       "      <td>1</td>\n",
       "      <td>0</td>\n",
       "      <td>2</td>\n",
       "      <td>1</td>\n",
       "      <td>Meal Plan 1</td>\n",
       "      <td>0</td>\n",
       "      <td>Room_Type 1</td>\n",
       "      <td>1</td>\n",
       "      <td>2018</td>\n",
       "      <td>2</td>\n",
       "      <td>28</td>\n",
       "      <td>Online</td>\n",
       "      <td>0</td>\n",
       "      <td>0</td>\n",
       "      <td>0</td>\n",
       "      <td>60.00</td>\n",
       "      <td>0</td>\n",
       "      <td>Canceled</td>\n",
       "    </tr>\n",
       "    <tr>\n",
       "      <th>3</th>\n",
       "      <td>2</td>\n",
       "      <td>0</td>\n",
       "      <td>0</td>\n",
       "      <td>2</td>\n",
       "      <td>Meal Plan 1</td>\n",
       "      <td>0</td>\n",
       "      <td>Room_Type 1</td>\n",
       "      <td>211</td>\n",
       "      <td>2018</td>\n",
       "      <td>5</td>\n",
       "      <td>20</td>\n",
       "      <td>Online</td>\n",
       "      <td>0</td>\n",
       "      <td>0</td>\n",
       "      <td>0</td>\n",
       "      <td>100.00</td>\n",
       "      <td>0</td>\n",
       "      <td>Canceled</td>\n",
       "    </tr>\n",
       "    <tr>\n",
       "      <th>4</th>\n",
       "      <td>3</td>\n",
       "      <td>0</td>\n",
       "      <td>0</td>\n",
       "      <td>3</td>\n",
       "      <td>Not Selected</td>\n",
       "      <td>0</td>\n",
       "      <td>Room_Type 1</td>\n",
       "      <td>277</td>\n",
       "      <td>2019</td>\n",
       "      <td>7</td>\n",
       "      <td>13</td>\n",
       "      <td>Online</td>\n",
       "      <td>0</td>\n",
       "      <td>0</td>\n",
       "      <td>0</td>\n",
       "      <td>89.10</td>\n",
       "      <td>2</td>\n",
       "      <td>Canceled</td>\n",
       "    </tr>\n",
       "  </tbody>\n",
       "</table>\n",
       "</div>"
      ],
      "text/plain": [
       "   no_of_adults  no_of_children  no_of_weekend_nights  no_of_week_nights  \\\n",
       "0             2               0                     1                  2   \n",
       "1             2               0                     2                  3   \n",
       "2             1               0                     2                  1   \n",
       "3             2               0                     0                  2   \n",
       "4             3               0                     0                  3   \n",
       "\n",
       "  type_of_meal_plan  required_car_parking_space room_type_reserved  lead_time  \\\n",
       "0       Meal Plan 1                           0        Room_Type 1        224   \n",
       "1      Not Selected                           0        Room_Type 1          5   \n",
       "2       Meal Plan 1                           0        Room_Type 1          1   \n",
       "3       Meal Plan 1                           0        Room_Type 1        211   \n",
       "4      Not Selected                           0        Room_Type 1        277   \n",
       "\n",
       "   arrival_year  arrival_month  arrival_date market_segment_type  \\\n",
       "0          2017             10             2             Offline   \n",
       "1          2018             11             6              Online   \n",
       "2          2018              2            28              Online   \n",
       "3          2018              5            20              Online   \n",
       "4          2019              7            13              Online   \n",
       "\n",
       "   repeated_guest  no_of_previous_cancellations  \\\n",
       "0               0                             0   \n",
       "1               0                             0   \n",
       "2               0                             0   \n",
       "3               0                             0   \n",
       "4               0                             0   \n",
       "\n",
       "   no_of_previous_bookings_not_canceled  avg_price_per_room  \\\n",
       "0                                     0               65.00   \n",
       "1                                     0              106.68   \n",
       "2                                     0               60.00   \n",
       "3                                     0              100.00   \n",
       "4                                     0               89.10   \n",
       "\n",
       "   no_of_special_requests booking_status  \n",
       "0                       0   Not_Canceled  \n",
       "1                       1   Not_Canceled  \n",
       "2                       0       Canceled  \n",
       "3                       0       Canceled  \n",
       "4                       2       Canceled  "
      ]
     },
     "execution_count": 41,
     "metadata": {},
     "output_type": "execute_result"
    }
   ],
   "source": [
    "data.head()"
   ]
  },
  {
   "cell_type": "markdown",
   "metadata": {
    "id": "third-projection"
   },
   "source": [
    "## Checking Multicollinearity\n",
    "\n",
    "- In order to make statistical inferences from a logistic regression model, it is important to ensure that there is no multicollinearity present in the data."
   ]
  },
  {
   "cell_type": "code",
   "execution_count": 42,
   "metadata": {
    "execution": {
     "iopub.execute_input": "2021-09-17T21:20:27.735255Z",
     "iopub.status.busy": "2021-09-17T21:20:27.734921Z",
     "iopub.status.idle": "2021-09-17T21:20:27.84499Z",
     "shell.execute_reply": "2021-09-17T21:20:27.843937Z",
     "shell.execute_reply.started": "2021-09-17T21:20:27.735223Z"
    },
    "id": "antique-payroll"
   },
   "outputs": [],
   "source": [
    "from statsmodels.stats.outliers_influence import variance_inflation_factor\n",
    "\n",
    "# we will define a function to check VIF\n",
    "def checking_vif(predictors):\n",
    "    vif = pd.DataFrame()\n",
    "    vif[\"feature\"] = predictors.columns\n",
    "\n",
    "    # calculating VIF for each feature\n",
    "    vif[\"VIF\"] = [\n",
    "        variance_inflation_factor(predictors.values, i)\n",
    "        for i in range(len(predictors.columns))\n",
    "    ]\n",
    "    return vif"
   ]
  },
  {
   "cell_type": "code",
   "execution_count": 43,
   "metadata": {
    "execution": {
     "iopub.execute_input": "2021-09-17T21:20:27.846744Z",
     "iopub.status.busy": "2021-09-17T21:20:27.846437Z",
     "iopub.status.idle": "2021-09-17T21:20:28.757484Z",
     "shell.execute_reply": "2021-09-17T21:20:28.756632Z",
     "shell.execute_reply.started": "2021-09-17T21:20:27.846707Z"
    },
    "scrolled": true
   },
   "outputs": [
    {
     "data": {
      "text/html": [
       "<div>\n",
       "<style scoped>\n",
       "    .dataframe tbody tr th:only-of-type {\n",
       "        vertical-align: middle;\n",
       "    }\n",
       "\n",
       "    .dataframe tbody tr th {\n",
       "        vertical-align: top;\n",
       "    }\n",
       "\n",
       "    .dataframe thead th {\n",
       "        text-align: right;\n",
       "    }\n",
       "</style>\n",
       "<table border=\"1\" class=\"dataframe\">\n",
       "  <thead>\n",
       "    <tr style=\"text-align: right;\">\n",
       "      <th></th>\n",
       "      <th>feature</th>\n",
       "      <th>VIF</th>\n",
       "    </tr>\n",
       "  </thead>\n",
       "  <tbody>\n",
       "    <tr>\n",
       "      <th>0</th>\n",
       "      <td>no_of_adults</td>\n",
       "      <td>18.216279</td>\n",
       "    </tr>\n",
       "    <tr>\n",
       "      <th>1</th>\n",
       "      <td>no_of_children</td>\n",
       "      <td>1.301258</td>\n",
       "    </tr>\n",
       "    <tr>\n",
       "      <th>2</th>\n",
       "      <td>no_of_weekend_nights</td>\n",
       "      <td>2.162324</td>\n",
       "    </tr>\n",
       "    <tr>\n",
       "      <th>3</th>\n",
       "      <td>no_of_week_nights</td>\n",
       "      <td>3.703983</td>\n",
       "    </tr>\n",
       "    <tr>\n",
       "      <th>4</th>\n",
       "      <td>required_car_parking_space</td>\n",
       "      <td>1.062375</td>\n",
       "    </tr>\n",
       "    <tr>\n",
       "      <th>5</th>\n",
       "      <td>lead_time</td>\n",
       "      <td>2.214606</td>\n",
       "    </tr>\n",
       "    <tr>\n",
       "      <th>6</th>\n",
       "      <td>arrival_year</td>\n",
       "      <td>27.499693</td>\n",
       "    </tr>\n",
       "    <tr>\n",
       "      <th>7</th>\n",
       "      <td>arrival_month</td>\n",
       "      <td>5.473227</td>\n",
       "    </tr>\n",
       "    <tr>\n",
       "      <th>8</th>\n",
       "      <td>arrival_date</td>\n",
       "      <td>4.176621</td>\n",
       "    </tr>\n",
       "    <tr>\n",
       "      <th>9</th>\n",
       "      <td>repeated_guest</td>\n",
       "      <td>1.637942</td>\n",
       "    </tr>\n",
       "    <tr>\n",
       "      <th>10</th>\n",
       "      <td>no_of_previous_cancellations</td>\n",
       "      <td>1.542279</td>\n",
       "    </tr>\n",
       "    <tr>\n",
       "      <th>11</th>\n",
       "      <td>no_of_previous_bookings_not_canceled</td>\n",
       "      <td>1.891992</td>\n",
       "    </tr>\n",
       "    <tr>\n",
       "      <th>12</th>\n",
       "      <td>avg_price_per_room</td>\n",
       "      <td>11.916591</td>\n",
       "    </tr>\n",
       "    <tr>\n",
       "      <th>13</th>\n",
       "      <td>no_of_special_requests</td>\n",
       "      <td>1.908055</td>\n",
       "    </tr>\n",
       "  </tbody>\n",
       "</table>\n",
       "</div>"
      ],
      "text/plain": [
       "                                 feature        VIF\n",
       "0                           no_of_adults  18.216279\n",
       "1                         no_of_children   1.301258\n",
       "2                   no_of_weekend_nights   2.162324\n",
       "3                      no_of_week_nights   3.703983\n",
       "4             required_car_parking_space   1.062375\n",
       "5                              lead_time   2.214606\n",
       "6                           arrival_year  27.499693\n",
       "7                          arrival_month   5.473227\n",
       "8                           arrival_date   4.176621\n",
       "9                         repeated_guest   1.637942\n",
       "10          no_of_previous_cancellations   1.542279\n",
       "11  no_of_previous_bookings_not_canceled   1.891992\n",
       "12                    avg_price_per_room  11.916591\n",
       "13                no_of_special_requests   1.908055"
      ]
     },
     "execution_count": 43,
     "metadata": {},
     "output_type": "execute_result"
    }
   ],
   "source": [
    "checking_vif(data.drop([\"type_of_meal_plan\", \"room_type_reserved\", \"market_segment_type\", \"booking_status\"], 1))"
   ]
  },
  {
   "cell_type": "code",
   "execution_count": 44,
   "metadata": {
    "execution": {
     "iopub.execute_input": "2021-09-17T21:20:28.764976Z",
     "iopub.status.busy": "2021-09-17T21:20:28.762192Z",
     "iopub.status.idle": "2021-09-17T21:20:29.312737Z",
     "shell.execute_reply": "2021-09-17T21:20:29.311835Z",
     "shell.execute_reply.started": "2021-09-17T21:20:28.764909Z"
    }
   },
   "outputs": [
    {
     "data": {
      "text/html": [
       "<div>\n",
       "<style scoped>\n",
       "    .dataframe tbody tr th:only-of-type {\n",
       "        vertical-align: middle;\n",
       "    }\n",
       "\n",
       "    .dataframe tbody tr th {\n",
       "        vertical-align: top;\n",
       "    }\n",
       "\n",
       "    .dataframe thead th {\n",
       "        text-align: right;\n",
       "    }\n",
       "</style>\n",
       "<table border=\"1\" class=\"dataframe\">\n",
       "  <thead>\n",
       "    <tr style=\"text-align: right;\">\n",
       "      <th></th>\n",
       "      <th>feature</th>\n",
       "      <th>VIF</th>\n",
       "    </tr>\n",
       "  </thead>\n",
       "  <tbody>\n",
       "    <tr>\n",
       "      <th>0</th>\n",
       "      <td>no_of_adults</td>\n",
       "      <td>13.171615</td>\n",
       "    </tr>\n",
       "    <tr>\n",
       "      <th>1</th>\n",
       "      <td>no_of_children</td>\n",
       "      <td>1.299578</td>\n",
       "    </tr>\n",
       "    <tr>\n",
       "      <th>2</th>\n",
       "      <td>no_of_weekend_nights</td>\n",
       "      <td>2.136909</td>\n",
       "    </tr>\n",
       "    <tr>\n",
       "      <th>3</th>\n",
       "      <td>no_of_week_nights</td>\n",
       "      <td>3.537155</td>\n",
       "    </tr>\n",
       "    <tr>\n",
       "      <th>4</th>\n",
       "      <td>required_car_parking_space</td>\n",
       "      <td>1.062153</td>\n",
       "    </tr>\n",
       "    <tr>\n",
       "      <th>5</th>\n",
       "      <td>lead_time</td>\n",
       "      <td>2.212776</td>\n",
       "    </tr>\n",
       "    <tr>\n",
       "      <th>6</th>\n",
       "      <td>arrival_month</td>\n",
       "      <td>4.731016</td>\n",
       "    </tr>\n",
       "    <tr>\n",
       "      <th>7</th>\n",
       "      <td>arrival_date</td>\n",
       "      <td>3.703243</td>\n",
       "    </tr>\n",
       "    <tr>\n",
       "      <th>8</th>\n",
       "      <td>repeated_guest</td>\n",
       "      <td>1.551020</td>\n",
       "    </tr>\n",
       "    <tr>\n",
       "      <th>9</th>\n",
       "      <td>no_of_previous_cancellations</td>\n",
       "      <td>1.542245</td>\n",
       "    </tr>\n",
       "    <tr>\n",
       "      <th>10</th>\n",
       "      <td>no_of_previous_bookings_not_canceled</td>\n",
       "      <td>1.891741</td>\n",
       "    </tr>\n",
       "    <tr>\n",
       "      <th>11</th>\n",
       "      <td>avg_price_per_room</td>\n",
       "      <td>10.885511</td>\n",
       "    </tr>\n",
       "    <tr>\n",
       "      <th>12</th>\n",
       "      <td>no_of_special_requests</td>\n",
       "      <td>1.906331</td>\n",
       "    </tr>\n",
       "  </tbody>\n",
       "</table>\n",
       "</div>"
      ],
      "text/plain": [
       "                                 feature        VIF\n",
       "0                           no_of_adults  13.171615\n",
       "1                         no_of_children   1.299578\n",
       "2                   no_of_weekend_nights   2.136909\n",
       "3                      no_of_week_nights   3.537155\n",
       "4             required_car_parking_space   1.062153\n",
       "5                              lead_time   2.212776\n",
       "6                          arrival_month   4.731016\n",
       "7                           arrival_date   3.703243\n",
       "8                         repeated_guest   1.551020\n",
       "9           no_of_previous_cancellations   1.542245\n",
       "10  no_of_previous_bookings_not_canceled   1.891741\n",
       "11                    avg_price_per_room  10.885511\n",
       "12                no_of_special_requests   1.906331"
      ]
     },
     "execution_count": 44,
     "metadata": {},
     "output_type": "execute_result"
    }
   ],
   "source": [
    "checking_vif(data.drop([\"type_of_meal_plan\", \"room_type_reserved\", \"arrival_year\", \"market_segment_type\", \"booking_status\"], 1))"
   ]
  },
  {
   "cell_type": "code",
   "execution_count": 45,
   "metadata": {
    "execution": {
     "iopub.execute_input": "2021-09-17T21:20:29.320021Z",
     "iopub.status.busy": "2021-09-17T21:20:29.317616Z",
     "iopub.status.idle": "2021-09-17T21:20:29.780169Z",
     "shell.execute_reply": "2021-09-17T21:20:29.77927Z",
     "shell.execute_reply.started": "2021-09-17T21:20:29.319951Z"
    }
   },
   "outputs": [
    {
     "data": {
      "text/html": [
       "<div>\n",
       "<style scoped>\n",
       "    .dataframe tbody tr th:only-of-type {\n",
       "        vertical-align: middle;\n",
       "    }\n",
       "\n",
       "    .dataframe tbody tr th {\n",
       "        vertical-align: top;\n",
       "    }\n",
       "\n",
       "    .dataframe thead th {\n",
       "        text-align: right;\n",
       "    }\n",
       "</style>\n",
       "<table border=\"1\" class=\"dataframe\">\n",
       "  <thead>\n",
       "    <tr style=\"text-align: right;\">\n",
       "      <th></th>\n",
       "      <th>feature</th>\n",
       "      <th>VIF</th>\n",
       "    </tr>\n",
       "  </thead>\n",
       "  <tbody>\n",
       "    <tr>\n",
       "      <th>0</th>\n",
       "      <td>no_of_children</td>\n",
       "      <td>1.210452</td>\n",
       "    </tr>\n",
       "    <tr>\n",
       "      <th>1</th>\n",
       "      <td>no_of_weekend_nights</td>\n",
       "      <td>2.100078</td>\n",
       "    </tr>\n",
       "    <tr>\n",
       "      <th>2</th>\n",
       "      <td>no_of_week_nights</td>\n",
       "      <td>3.393645</td>\n",
       "    </tr>\n",
       "    <tr>\n",
       "      <th>3</th>\n",
       "      <td>required_car_parking_space</td>\n",
       "      <td>1.061891</td>\n",
       "    </tr>\n",
       "    <tr>\n",
       "      <th>4</th>\n",
       "      <td>lead_time</td>\n",
       "      <td>2.145140</td>\n",
       "    </tr>\n",
       "    <tr>\n",
       "      <th>5</th>\n",
       "      <td>arrival_month</td>\n",
       "      <td>4.560774</td>\n",
       "    </tr>\n",
       "    <tr>\n",
       "      <th>6</th>\n",
       "      <td>arrival_date</td>\n",
       "      <td>3.524287</td>\n",
       "    </tr>\n",
       "    <tr>\n",
       "      <th>7</th>\n",
       "      <td>repeated_guest</td>\n",
       "      <td>1.550767</td>\n",
       "    </tr>\n",
       "    <tr>\n",
       "      <th>8</th>\n",
       "      <td>no_of_previous_cancellations</td>\n",
       "      <td>1.540620</td>\n",
       "    </tr>\n",
       "    <tr>\n",
       "      <th>9</th>\n",
       "      <td>no_of_previous_bookings_not_canceled</td>\n",
       "      <td>1.890452</td>\n",
       "    </tr>\n",
       "    <tr>\n",
       "      <th>10</th>\n",
       "      <td>avg_price_per_room</td>\n",
       "      <td>6.438037</td>\n",
       "    </tr>\n",
       "    <tr>\n",
       "      <th>11</th>\n",
       "      <td>no_of_special_requests</td>\n",
       "      <td>1.879924</td>\n",
       "    </tr>\n",
       "  </tbody>\n",
       "</table>\n",
       "</div>"
      ],
      "text/plain": [
       "                                 feature       VIF\n",
       "0                         no_of_children  1.210452\n",
       "1                   no_of_weekend_nights  2.100078\n",
       "2                      no_of_week_nights  3.393645\n",
       "3             required_car_parking_space  1.061891\n",
       "4                              lead_time  2.145140\n",
       "5                          arrival_month  4.560774\n",
       "6                           arrival_date  3.524287\n",
       "7                         repeated_guest  1.550767\n",
       "8           no_of_previous_cancellations  1.540620\n",
       "9   no_of_previous_bookings_not_canceled  1.890452\n",
       "10                    avg_price_per_room  6.438037\n",
       "11                no_of_special_requests  1.879924"
      ]
     },
     "execution_count": 45,
     "metadata": {},
     "output_type": "execute_result"
    }
   ],
   "source": [
    "checking_vif(data.drop([\"type_of_meal_plan\", \"room_type_reserved\", \"arrival_year\", \"market_segment_type\", \"no_of_adults\",  \"booking_status\"], 1))"
   ]
  },
  {
   "cell_type": "code",
   "execution_count": null,
   "metadata": {},
   "outputs": [],
   "source": []
  },
  {
   "cell_type": "code",
   "execution_count": 46,
   "metadata": {
    "execution": {
     "iopub.execute_input": "2021-09-17T21:20:29.787294Z",
     "iopub.status.busy": "2021-09-17T21:20:29.784881Z",
     "iopub.status.idle": "2021-09-17T21:20:29.892292Z",
     "shell.execute_reply": "2021-09-17T21:20:29.891092Z",
     "shell.execute_reply.started": "2021-09-17T21:20:29.787232Z"
    }
   },
   "outputs": [
    {
     "data": {
      "text/html": [
       "<div>\n",
       "<style scoped>\n",
       "    .dataframe tbody tr th:only-of-type {\n",
       "        vertical-align: middle;\n",
       "    }\n",
       "\n",
       "    .dataframe tbody tr th {\n",
       "        vertical-align: top;\n",
       "    }\n",
       "\n",
       "    .dataframe thead th {\n",
       "        text-align: right;\n",
       "    }\n",
       "</style>\n",
       "<table border=\"1\" class=\"dataframe\">\n",
       "  <thead>\n",
       "    <tr style=\"text-align: right;\">\n",
       "      <th></th>\n",
       "      <th>count</th>\n",
       "      <th>unique</th>\n",
       "      <th>top</th>\n",
       "      <th>freq</th>\n",
       "      <th>mean</th>\n",
       "      <th>std</th>\n",
       "      <th>min</th>\n",
       "      <th>25%</th>\n",
       "      <th>50%</th>\n",
       "      <th>75%</th>\n",
       "      <th>max</th>\n",
       "    </tr>\n",
       "  </thead>\n",
       "  <tbody>\n",
       "    <tr>\n",
       "      <th>no_of_adults</th>\n",
       "      <td>42576</td>\n",
       "      <td>NaN</td>\n",
       "      <td>NaN</td>\n",
       "      <td>NaN</td>\n",
       "      <td>1.91674</td>\n",
       "      <td>0.527524</td>\n",
       "      <td>0</td>\n",
       "      <td>2</td>\n",
       "      <td>2</td>\n",
       "      <td>2</td>\n",
       "      <td>4</td>\n",
       "    </tr>\n",
       "    <tr>\n",
       "      <th>no_of_children</th>\n",
       "      <td>42576</td>\n",
       "      <td>NaN</td>\n",
       "      <td>NaN</td>\n",
       "      <td>NaN</td>\n",
       "      <td>0.142146</td>\n",
       "      <td>0.45992</td>\n",
       "      <td>0</td>\n",
       "      <td>0</td>\n",
       "      <td>0</td>\n",
       "      <td>0</td>\n",
       "      <td>10</td>\n",
       "    </tr>\n",
       "    <tr>\n",
       "      <th>no_of_weekend_nights</th>\n",
       "      <td>42576</td>\n",
       "      <td>NaN</td>\n",
       "      <td>NaN</td>\n",
       "      <td>NaN</td>\n",
       "      <td>0.89527</td>\n",
       "      <td>0.887864</td>\n",
       "      <td>0</td>\n",
       "      <td>0</td>\n",
       "      <td>1</td>\n",
       "      <td>2</td>\n",
       "      <td>8</td>\n",
       "    </tr>\n",
       "    <tr>\n",
       "      <th>no_of_week_nights</th>\n",
       "      <td>42576</td>\n",
       "      <td>NaN</td>\n",
       "      <td>NaN</td>\n",
       "      <td>NaN</td>\n",
       "      <td>2.32117</td>\n",
       "      <td>1.51933</td>\n",
       "      <td>0</td>\n",
       "      <td>1</td>\n",
       "      <td>2</td>\n",
       "      <td>3</td>\n",
       "      <td>17</td>\n",
       "    </tr>\n",
       "    <tr>\n",
       "      <th>type_of_meal_plan</th>\n",
       "      <td>42576</td>\n",
       "      <td>4</td>\n",
       "      <td>Meal Plan 1</td>\n",
       "      <td>31863</td>\n",
       "      <td>NaN</td>\n",
       "      <td>NaN</td>\n",
       "      <td>NaN</td>\n",
       "      <td>NaN</td>\n",
       "      <td>NaN</td>\n",
       "      <td>NaN</td>\n",
       "      <td>NaN</td>\n",
       "    </tr>\n",
       "    <tr>\n",
       "      <th>required_car_parking_space</th>\n",
       "      <td>42576</td>\n",
       "      <td>NaN</td>\n",
       "      <td>NaN</td>\n",
       "      <td>NaN</td>\n",
       "      <td>0.0343621</td>\n",
       "      <td>0.18216</td>\n",
       "      <td>0</td>\n",
       "      <td>0</td>\n",
       "      <td>0</td>\n",
       "      <td>0</td>\n",
       "      <td>1</td>\n",
       "    </tr>\n",
       "    <tr>\n",
       "      <th>room_type_reserved</th>\n",
       "      <td>42576</td>\n",
       "      <td>7</td>\n",
       "      <td>Room_Type 1</td>\n",
       "      <td>29730</td>\n",
       "      <td>NaN</td>\n",
       "      <td>NaN</td>\n",
       "      <td>NaN</td>\n",
       "      <td>NaN</td>\n",
       "      <td>NaN</td>\n",
       "      <td>NaN</td>\n",
       "      <td>NaN</td>\n",
       "    </tr>\n",
       "    <tr>\n",
       "      <th>lead_time</th>\n",
       "      <td>42576</td>\n",
       "      <td>NaN</td>\n",
       "      <td>NaN</td>\n",
       "      <td>NaN</td>\n",
       "      <td>77.316</td>\n",
       "      <td>77.2796</td>\n",
       "      <td>0</td>\n",
       "      <td>16</td>\n",
       "      <td>53</td>\n",
       "      <td>118</td>\n",
       "      <td>521</td>\n",
       "    </tr>\n",
       "    <tr>\n",
       "      <th>arrival_year</th>\n",
       "      <td>42576</td>\n",
       "      <td>NaN</td>\n",
       "      <td>NaN</td>\n",
       "      <td>NaN</td>\n",
       "      <td>2018.3</td>\n",
       "      <td>0.626126</td>\n",
       "      <td>2017</td>\n",
       "      <td>2018</td>\n",
       "      <td>2018</td>\n",
       "      <td>2019</td>\n",
       "      <td>2019</td>\n",
       "    </tr>\n",
       "    <tr>\n",
       "      <th>arrival_month</th>\n",
       "      <td>42576</td>\n",
       "      <td>NaN</td>\n",
       "      <td>NaN</td>\n",
       "      <td>NaN</td>\n",
       "      <td>6.36549</td>\n",
       "      <td>3.05192</td>\n",
       "      <td>1</td>\n",
       "      <td>4</td>\n",
       "      <td>6</td>\n",
       "      <td>9</td>\n",
       "      <td>12</td>\n",
       "    </tr>\n",
       "    <tr>\n",
       "      <th>arrival_date</th>\n",
       "      <td>42576</td>\n",
       "      <td>NaN</td>\n",
       "      <td>NaN</td>\n",
       "      <td>NaN</td>\n",
       "      <td>15.6829</td>\n",
       "      <td>8.81399</td>\n",
       "      <td>1</td>\n",
       "      <td>8</td>\n",
       "      <td>16</td>\n",
       "      <td>23</td>\n",
       "      <td>31</td>\n",
       "    </tr>\n",
       "    <tr>\n",
       "      <th>market_segment_type</th>\n",
       "      <td>42576</td>\n",
       "      <td>5</td>\n",
       "      <td>Online</td>\n",
       "      <td>34169</td>\n",
       "      <td>NaN</td>\n",
       "      <td>NaN</td>\n",
       "      <td>NaN</td>\n",
       "      <td>NaN</td>\n",
       "      <td>NaN</td>\n",
       "      <td>NaN</td>\n",
       "      <td>NaN</td>\n",
       "    </tr>\n",
       "    <tr>\n",
       "      <th>repeated_guest</th>\n",
       "      <td>42576</td>\n",
       "      <td>NaN</td>\n",
       "      <td>NaN</td>\n",
       "      <td>NaN</td>\n",
       "      <td>0.0308859</td>\n",
       "      <td>0.173011</td>\n",
       "      <td>0</td>\n",
       "      <td>0</td>\n",
       "      <td>0</td>\n",
       "      <td>0</td>\n",
       "      <td>1</td>\n",
       "    </tr>\n",
       "    <tr>\n",
       "      <th>no_of_previous_cancellations</th>\n",
       "      <td>42576</td>\n",
       "      <td>NaN</td>\n",
       "      <td>NaN</td>\n",
       "      <td>NaN</td>\n",
       "      <td>0.0254134</td>\n",
       "      <td>0.358194</td>\n",
       "      <td>0</td>\n",
       "      <td>0</td>\n",
       "      <td>0</td>\n",
       "      <td>0</td>\n",
       "      <td>13</td>\n",
       "    </tr>\n",
       "    <tr>\n",
       "      <th>no_of_previous_bookings_not_canceled</th>\n",
       "      <td>42576</td>\n",
       "      <td>NaN</td>\n",
       "      <td>NaN</td>\n",
       "      <td>NaN</td>\n",
       "      <td>0.222731</td>\n",
       "      <td>2.24231</td>\n",
       "      <td>0</td>\n",
       "      <td>0</td>\n",
       "      <td>0</td>\n",
       "      <td>0</td>\n",
       "      <td>72</td>\n",
       "    </tr>\n",
       "    <tr>\n",
       "      <th>avg_price_per_room</th>\n",
       "      <td>42576</td>\n",
       "      <td>NaN</td>\n",
       "      <td>NaN</td>\n",
       "      <td>NaN</td>\n",
       "      <td>112.376</td>\n",
       "      <td>40.8659</td>\n",
       "      <td>0</td>\n",
       "      <td>85.5</td>\n",
       "      <td>107</td>\n",
       "      <td>135</td>\n",
       "      <td>540</td>\n",
       "    </tr>\n",
       "    <tr>\n",
       "      <th>no_of_special_requests</th>\n",
       "      <td>42576</td>\n",
       "      <td>NaN</td>\n",
       "      <td>NaN</td>\n",
       "      <td>NaN</td>\n",
       "      <td>0.768109</td>\n",
       "      <td>0.837264</td>\n",
       "      <td>0</td>\n",
       "      <td>0</td>\n",
       "      <td>1</td>\n",
       "      <td>1</td>\n",
       "      <td>5</td>\n",
       "    </tr>\n",
       "    <tr>\n",
       "      <th>booking_status</th>\n",
       "      <td>42576</td>\n",
       "      <td>2</td>\n",
       "      <td>Not_Canceled</td>\n",
       "      <td>28089</td>\n",
       "      <td>NaN</td>\n",
       "      <td>NaN</td>\n",
       "      <td>NaN</td>\n",
       "      <td>NaN</td>\n",
       "      <td>NaN</td>\n",
       "      <td>NaN</td>\n",
       "      <td>NaN</td>\n",
       "    </tr>\n",
       "  </tbody>\n",
       "</table>\n",
       "</div>"
      ],
      "text/plain": [
       "                                      count unique           top   freq  \\\n",
       "no_of_adults                          42576    NaN           NaN    NaN   \n",
       "no_of_children                        42576    NaN           NaN    NaN   \n",
       "no_of_weekend_nights                  42576    NaN           NaN    NaN   \n",
       "no_of_week_nights                     42576    NaN           NaN    NaN   \n",
       "type_of_meal_plan                     42576      4   Meal Plan 1  31863   \n",
       "required_car_parking_space            42576    NaN           NaN    NaN   \n",
       "room_type_reserved                    42576      7   Room_Type 1  29730   \n",
       "lead_time                             42576    NaN           NaN    NaN   \n",
       "arrival_year                          42576    NaN           NaN    NaN   \n",
       "arrival_month                         42576    NaN           NaN    NaN   \n",
       "arrival_date                          42576    NaN           NaN    NaN   \n",
       "market_segment_type                   42576      5        Online  34169   \n",
       "repeated_guest                        42576    NaN           NaN    NaN   \n",
       "no_of_previous_cancellations          42576    NaN           NaN    NaN   \n",
       "no_of_previous_bookings_not_canceled  42576    NaN           NaN    NaN   \n",
       "avg_price_per_room                    42576    NaN           NaN    NaN   \n",
       "no_of_special_requests                42576    NaN           NaN    NaN   \n",
       "booking_status                        42576      2  Not_Canceled  28089   \n",
       "\n",
       "                                           mean       std   min   25%   50%  \\\n",
       "no_of_adults                            1.91674  0.527524     0     2     2   \n",
       "no_of_children                         0.142146   0.45992     0     0     0   \n",
       "no_of_weekend_nights                    0.89527  0.887864     0     0     1   \n",
       "no_of_week_nights                       2.32117   1.51933     0     1     2   \n",
       "type_of_meal_plan                           NaN       NaN   NaN   NaN   NaN   \n",
       "required_car_parking_space            0.0343621   0.18216     0     0     0   \n",
       "room_type_reserved                          NaN       NaN   NaN   NaN   NaN   \n",
       "lead_time                                77.316   77.2796     0    16    53   \n",
       "arrival_year                             2018.3  0.626126  2017  2018  2018   \n",
       "arrival_month                           6.36549   3.05192     1     4     6   \n",
       "arrival_date                            15.6829   8.81399     1     8    16   \n",
       "market_segment_type                         NaN       NaN   NaN   NaN   NaN   \n",
       "repeated_guest                        0.0308859  0.173011     0     0     0   \n",
       "no_of_previous_cancellations          0.0254134  0.358194     0     0     0   \n",
       "no_of_previous_bookings_not_canceled   0.222731   2.24231     0     0     0   \n",
       "avg_price_per_room                      112.376   40.8659     0  85.5   107   \n",
       "no_of_special_requests                 0.768109  0.837264     0     0     1   \n",
       "booking_status                              NaN       NaN   NaN   NaN   NaN   \n",
       "\n",
       "                                       75%   max  \n",
       "no_of_adults                             2     4  \n",
       "no_of_children                           0    10  \n",
       "no_of_weekend_nights                     2     8  \n",
       "no_of_week_nights                        3    17  \n",
       "type_of_meal_plan                      NaN   NaN  \n",
       "required_car_parking_space               0     1  \n",
       "room_type_reserved                     NaN   NaN  \n",
       "lead_time                              118   521  \n",
       "arrival_year                          2019  2019  \n",
       "arrival_month                            9    12  \n",
       "arrival_date                            23    31  \n",
       "market_segment_type                    NaN   NaN  \n",
       "repeated_guest                           0     1  \n",
       "no_of_previous_cancellations             0    13  \n",
       "no_of_previous_bookings_not_canceled     0    72  \n",
       "avg_price_per_room                     135   540  \n",
       "no_of_special_requests                   1     5  \n",
       "booking_status                         NaN   NaN  "
      ]
     },
     "execution_count": 46,
     "metadata": {},
     "output_type": "execute_result"
    }
   ],
   "source": [
    "data.describe(include=\"all\").T"
   ]
  },
  {
   "cell_type": "code",
   "execution_count": 50,
   "metadata": {
    "execution": {
     "iopub.execute_input": "2021-09-17T21:20:29.893868Z",
     "iopub.status.busy": "2021-09-17T21:20:29.893668Z",
     "iopub.status.idle": "2021-09-17T21:20:29.897971Z",
     "shell.execute_reply": "2021-09-17T21:20:29.897313Z",
     "shell.execute_reply.started": "2021-09-17T21:20:29.893845Z"
    }
   },
   "outputs": [],
   "source": [
    "#X = data.drop([\"avg_price_per_room\",\"type_of_meal_plan\", \"room_type_reserved\", \"arrival_year\", \"market_segment_type\", \"no_of_adults\",  \"booking_status\" ], axis=1)\n",
    "#y = data[\"avg_price_per_room\"]"
   ]
  },
  {
   "cell_type": "code",
   "execution_count": 51,
   "metadata": {
    "execution": {
     "iopub.execute_input": "2021-09-17T21:20:29.899732Z",
     "iopub.status.busy": "2021-09-17T21:20:29.898914Z",
     "iopub.status.idle": "2021-09-17T21:20:30.012185Z",
     "shell.execute_reply": "2021-09-17T21:20:30.011263Z",
     "shell.execute_reply.started": "2021-09-17T21:20:29.899697Z"
    }
   },
   "outputs": [
    {
     "ename": "NameError",
     "evalue": "name 'X' is not defined",
     "output_type": "error",
     "traceback": [
      "\u001b[0;31m---------------------------------------------------------------------------\u001b[0m",
      "\u001b[0;31mNameError\u001b[0m                                 Traceback (most recent call last)",
      "\u001b[0;32m<ipython-input-51-93e90cd68f82>\u001b[0m in \u001b[0;36m<module>\u001b[0;34m\u001b[0m\n\u001b[1;32m      1\u001b[0m \u001b[0;31m# encoding the categorical variables\u001b[0m\u001b[0;34m\u001b[0m\u001b[0;34m\u001b[0m\u001b[0;34m\u001b[0m\u001b[0m\n\u001b[0;32m----> 2\u001b[0;31m \u001b[0mX\u001b[0m \u001b[0;34m=\u001b[0m \u001b[0mpd\u001b[0m\u001b[0;34m.\u001b[0m\u001b[0mget_dummies\u001b[0m\u001b[0;34m(\u001b[0m\u001b[0mX\u001b[0m\u001b[0;34m,\u001b[0m \u001b[0mdrop_first\u001b[0m\u001b[0;34m=\u001b[0m\u001b[0;32mTrue\u001b[0m\u001b[0;34m)\u001b[0m\u001b[0;34m\u001b[0m\u001b[0;34m\u001b[0m\u001b[0m\n\u001b[0m\u001b[1;32m      3\u001b[0m \u001b[0mX\u001b[0m\u001b[0;34m.\u001b[0m\u001b[0mhead\u001b[0m\u001b[0;34m(\u001b[0m\u001b[0;34m)\u001b[0m\u001b[0;34m\u001b[0m\u001b[0;34m\u001b[0m\u001b[0m\n",
      "\u001b[0;31mNameError\u001b[0m: name 'X' is not defined"
     ]
    }
   ],
   "source": [
    "# encoding the categorical variables\n",
    "X = pd.get_dummies(X, drop_first=True)\n",
    "X.head()"
   ]
  },
  {
   "cell_type": "code",
   "execution_count": 52,
   "metadata": {
    "execution": {
     "iopub.status.busy": "2021-09-17T21:20:30.013048Z",
     "iopub.status.idle": "2021-09-17T21:20:30.013982Z",
     "shell.execute_reply": "2021-09-17T21:20:30.013794Z",
     "shell.execute_reply.started": "2021-09-17T21:20:30.01377Z"
    }
   },
   "outputs": [
    {
     "ename": "NameError",
     "evalue": "name 'x' is not defined",
     "output_type": "error",
     "traceback": [
      "\u001b[0;31m---------------------------------------------------------------------------\u001b[0m",
      "\u001b[0;31mNameError\u001b[0m                                 Traceback (most recent call last)",
      "\u001b[0;32m<ipython-input-52-83b8caeef9c2>\u001b[0m in \u001b[0;36m<module>\u001b[0;34m\u001b[0m\n\u001b[0;32m----> 1\u001b[0;31m \u001b[0mx_train\u001b[0m\u001b[0;34m,\u001b[0m \u001b[0mx_test\u001b[0m\u001b[0;34m,\u001b[0m \u001b[0my_train\u001b[0m\u001b[0;34m,\u001b[0m \u001b[0my_test\u001b[0m \u001b[0;34m=\u001b[0m \u001b[0mtrain_test_split\u001b[0m\u001b[0;34m(\u001b[0m\u001b[0mx\u001b[0m\u001b[0;34m,\u001b[0m \u001b[0my\u001b[0m\u001b[0;34m,\u001b[0m \u001b[0mtest_size\u001b[0m\u001b[0;34m=\u001b[0m\u001b[0;36m0.4\u001b[0m\u001b[0;34m,\u001b[0m \u001b[0mrandom_state\u001b[0m\u001b[0;34m=\u001b[0m\u001b[0;36m1\u001b[0m\u001b[0;34m)\u001b[0m\u001b[0;34m\u001b[0m\u001b[0;34m\u001b[0m\u001b[0m\n\u001b[0m",
      "\u001b[0;31mNameError\u001b[0m: name 'x' is not defined"
     ]
    }
   ],
   "source": [
    "x_train, x_test, y_train, y_test = train_test_split(x, y, test_size=0.4, random_state=1)"
   ]
  },
  {
   "cell_type": "code",
   "execution_count": 53,
   "metadata": {
    "execution": {
     "iopub.status.busy": "2021-09-17T21:20:30.015122Z",
     "iopub.status.idle": "2021-09-17T21:20:30.015882Z",
     "shell.execute_reply": "2021-09-17T21:20:30.0157Z",
     "shell.execute_reply.started": "2021-09-17T21:20:30.015673Z"
    }
   },
   "outputs": [],
   "source": [
    "from statsmodels.stats.outliers_influence import variance_inflation_factor\n",
    "\n",
    "# we will define a function to check VIF\n",
    "def checking_vif(predictors):\n",
    "    vif = pd.DataFrame()\n",
    "    vif[\"feature\"] = predictors.columns\n",
    "\n",
    "    # calculating VIF for each feature\n",
    "    vif[\"VIF\"] = [\n",
    "        variance_inflation_factor(predictors.values, i)\n",
    "        for i in range(len(predictors.columns))\n",
    "    ]\n",
    "    return vif"
   ]
  },
  {
   "cell_type": "code",
   "execution_count": 54,
   "metadata": {
    "execution": {
     "iopub.status.busy": "2021-09-17T21:20:30.016748Z",
     "iopub.status.idle": "2021-09-17T21:20:30.017027Z",
     "shell.execute_reply": "2021-09-17T21:20:30.016897Z",
     "shell.execute_reply.started": "2021-09-17T21:20:30.016882Z"
    }
   },
   "outputs": [
    {
     "name": "stdout",
     "output_type": "stream",
     "text": [
      "<class 'pandas.core.frame.DataFrame'>\n",
      "Int64Index: 42576 entries, 0 to 56924\n",
      "Data columns (total 18 columns):\n",
      " #   Column                                Non-Null Count  Dtype   \n",
      "---  ------                                --------------  -----   \n",
      " 0   no_of_adults                          42576 non-null  int64   \n",
      " 1   no_of_children                        42576 non-null  int64   \n",
      " 2   no_of_weekend_nights                  42576 non-null  int64   \n",
      " 3   no_of_week_nights                     42576 non-null  int64   \n",
      " 4   type_of_meal_plan                     42576 non-null  category\n",
      " 5   required_car_parking_space            42576 non-null  int64   \n",
      " 6   room_type_reserved                    42576 non-null  category\n",
      " 7   lead_time                             42576 non-null  int64   \n",
      " 8   arrival_year                          42576 non-null  int64   \n",
      " 9   arrival_month                         42576 non-null  int64   \n",
      " 10  arrival_date                          42576 non-null  int64   \n",
      " 11  market_segment_type                   42576 non-null  category\n",
      " 12  repeated_guest                        42576 non-null  int64   \n",
      " 13  no_of_previous_cancellations          42576 non-null  int64   \n",
      " 14  no_of_previous_bookings_not_canceled  42576 non-null  int64   \n",
      " 15  avg_price_per_room                    42576 non-null  float64 \n",
      " 16  no_of_special_requests                42576 non-null  int64   \n",
      " 17  booking_status                        42576 non-null  category\n",
      "dtypes: category(4), float64(1), int64(13)\n",
      "memory usage: 6.3 MB\n"
     ]
    }
   ],
   "source": [
    "data.info()"
   ]
  },
  {
   "cell_type": "code",
   "execution_count": null,
   "metadata": {},
   "outputs": [],
   "source": []
  },
  {
   "cell_type": "code",
   "execution_count": 55,
   "metadata": {
    "execution": {
     "iopub.status.busy": "2021-09-17T21:20:30.017644Z",
     "iopub.status.idle": "2021-09-17T21:20:30.017911Z",
     "shell.execute_reply": "2021-09-17T21:20:30.017787Z",
     "shell.execute_reply.started": "2021-09-17T21:20:30.017773Z"
    }
   },
   "outputs": [
    {
     "data": {
      "image/png": "[encoded data removed]",
      "text/plain": [
       "<Figure size 1080x504 with 2 Axes>"
      ]
     },
     "metadata": {
      "needs_background": "light"
     },
     "output_type": "display_data"
    }
   ],
   "source": [
    "plt.figure(figsize=(15, 7))\n",
    "sns.heatmap(data.corr(), annot=True, vmin=-1, vmax=1, cmap=\"Spectral\")\n",
    "plt.show()"
   ]
  },
  {
   "cell_type": "code",
   "execution_count": 56,
   "metadata": {},
   "outputs": [],
   "source": [
    "### function to plot distributions wrt target\n",
    "\n",
    "\n",
    "def distribution_plot_wrt_target(data, predictor, target):\n",
    "\n",
    "    fig, axs = plt.subplots(2, 2, figsize=(12, 10))\n",
    "\n",
    "    target_uniq = data[target].unique()\n",
    "\n",
    "    axs[0, 0].set_title(\"Distribution of target for target=\" + str(target_uniq[0]))\n",
    "    sns.histplot(\n",
    "        data=data[data[target] == target_uniq[0]],\n",
    "        x=predictor,\n",
    "        kde=True,\n",
    "        ax=axs[0, 0],\n",
    "        color=\"teal\",\n",
    "        stat=\"density\",\n",
    "    )\n",
    "\n",
    "    axs[0, 1].set_title(\"Distribution of target for target=\" + str(target_uniq[1]))\n",
    "    sns.histplot(\n",
    "        data=data[data[target] == target_uniq[1]],\n",
    "        x=predictor,\n",
    "        kde=True,\n",
    "        ax=axs[0, 1],\n",
    "        color=\"orange\",\n",
    "        stat=\"density\",\n",
    "    )\n",
    "\n",
    "    axs[1, 0].set_title(\"Boxplot w.r.t target\")\n",
    "    sns.boxplot(data=data, x=target, y=predictor, ax=axs[1, 0], palette=\"gist_rainbow\")\n",
    "\n",
    "    axs[1, 1].set_title(\"Boxplot (without outliers) w.r.t target\")\n",
    "    sns.boxplot(\n",
    "        data=data,\n",
    "        x=target,\n",
    "        y=predictor,\n",
    "        ax=axs[1, 1],\n",
    "        showfliers=False,\n",
    "        palette=\"gist_rainbow\",\n",
    "    )\n",
    "\n",
    "    plt.tight_layout()\n",
    "    plt.show()"
   ]
  },
  {
   "cell_type": "code",
   "execution_count": 57,
   "metadata": {},
   "outputs": [
    {
     "data": {
      "text/html": [
       "<div>\n",
       "<style scoped>\n",
       "    .dataframe tbody tr th:only-of-type {\n",
       "        vertical-align: middle;\n",
       "    }\n",
       "\n",
       "    .dataframe tbody tr th {\n",
       "        vertical-align: top;\n",
       "    }\n",
       "\n",
       "    .dataframe thead th {\n",
       "        text-align: right;\n",
       "    }\n",
       "</style>\n",
       "<table border=\"1\" class=\"dataframe\">\n",
       "  <thead>\n",
       "    <tr style=\"text-align: right;\">\n",
       "      <th></th>\n",
       "      <th>no_of_adults</th>\n",
       "      <th>no_of_children</th>\n",
       "      <th>no_of_weekend_nights</th>\n",
       "      <th>no_of_week_nights</th>\n",
       "      <th>type_of_meal_plan</th>\n",
       "      <th>required_car_parking_space</th>\n",
       "      <th>room_type_reserved</th>\n",
       "      <th>lead_time</th>\n",
       "      <th>arrival_year</th>\n",
       "      <th>arrival_month</th>\n",
       "      <th>arrival_date</th>\n",
       "      <th>market_segment_type</th>\n",
       "      <th>repeated_guest</th>\n",
       "      <th>no_of_previous_cancellations</th>\n",
       "      <th>no_of_previous_bookings_not_canceled</th>\n",
       "      <th>avg_price_per_room</th>\n",
       "      <th>no_of_special_requests</th>\n",
       "      <th>booking_status</th>\n",
       "    </tr>\n",
       "  </thead>\n",
       "  <tbody>\n",
       "    <tr>\n",
       "      <th>0</th>\n",
       "      <td>2</td>\n",
       "      <td>0</td>\n",
       "      <td>1</td>\n",
       "      <td>2</td>\n",
       "      <td>Meal Plan 1</td>\n",
       "      <td>0</td>\n",
       "      <td>Room_Type 1</td>\n",
       "      <td>224</td>\n",
       "      <td>2017</td>\n",
       "      <td>10</td>\n",
       "      <td>2</td>\n",
       "      <td>Offline</td>\n",
       "      <td>0</td>\n",
       "      <td>0</td>\n",
       "      <td>0</td>\n",
       "      <td>65.00</td>\n",
       "      <td>0</td>\n",
       "      <td>Not_Canceled</td>\n",
       "    </tr>\n",
       "    <tr>\n",
       "      <th>1</th>\n",
       "      <td>2</td>\n",
       "      <td>0</td>\n",
       "      <td>2</td>\n",
       "      <td>3</td>\n",
       "      <td>Not Selected</td>\n",
       "      <td>0</td>\n",
       "      <td>Room_Type 1</td>\n",
       "      <td>5</td>\n",
       "      <td>2018</td>\n",
       "      <td>11</td>\n",
       "      <td>6</td>\n",
       "      <td>Online</td>\n",
       "      <td>0</td>\n",
       "      <td>0</td>\n",
       "      <td>0</td>\n",
       "      <td>106.68</td>\n",
       "      <td>1</td>\n",
       "      <td>Not_Canceled</td>\n",
       "    </tr>\n",
       "    <tr>\n",
       "      <th>2</th>\n",
       "      <td>1</td>\n",
       "      <td>0</td>\n",
       "      <td>2</td>\n",
       "      <td>1</td>\n",
       "      <td>Meal Plan 1</td>\n",
       "      <td>0</td>\n",
       "      <td>Room_Type 1</td>\n",
       "      <td>1</td>\n",
       "      <td>2018</td>\n",
       "      <td>2</td>\n",
       "      <td>28</td>\n",
       "      <td>Online</td>\n",
       "      <td>0</td>\n",
       "      <td>0</td>\n",
       "      <td>0</td>\n",
       "      <td>60.00</td>\n",
       "      <td>0</td>\n",
       "      <td>Canceled</td>\n",
       "    </tr>\n",
       "    <tr>\n",
       "      <th>3</th>\n",
       "      <td>2</td>\n",
       "      <td>0</td>\n",
       "      <td>0</td>\n",
       "      <td>2</td>\n",
       "      <td>Meal Plan 1</td>\n",
       "      <td>0</td>\n",
       "      <td>Room_Type 1</td>\n",
       "      <td>211</td>\n",
       "      <td>2018</td>\n",
       "      <td>5</td>\n",
       "      <td>20</td>\n",
       "      <td>Online</td>\n",
       "      <td>0</td>\n",
       "      <td>0</td>\n",
       "      <td>0</td>\n",
       "      <td>100.00</td>\n",
       "      <td>0</td>\n",
       "      <td>Canceled</td>\n",
       "    </tr>\n",
       "    <tr>\n",
       "      <th>4</th>\n",
       "      <td>3</td>\n",
       "      <td>0</td>\n",
       "      <td>0</td>\n",
       "      <td>3</td>\n",
       "      <td>Not Selected</td>\n",
       "      <td>0</td>\n",
       "      <td>Room_Type 1</td>\n",
       "      <td>277</td>\n",
       "      <td>2019</td>\n",
       "      <td>7</td>\n",
       "      <td>13</td>\n",
       "      <td>Online</td>\n",
       "      <td>0</td>\n",
       "      <td>0</td>\n",
       "      <td>0</td>\n",
       "      <td>89.10</td>\n",
       "      <td>2</td>\n",
       "      <td>Canceled</td>\n",
       "    </tr>\n",
       "  </tbody>\n",
       "</table>\n",
       "</div>"
      ],
      "text/plain": [
       "   no_of_adults  no_of_children  no_of_weekend_nights  no_of_week_nights  \\\n",
       "0             2               0                     1                  2   \n",
       "1             2               0                     2                  3   \n",
       "2             1               0                     2                  1   \n",
       "3             2               0                     0                  2   \n",
       "4             3               0                     0                  3   \n",
       "\n",
       "  type_of_meal_plan  required_car_parking_space room_type_reserved  lead_time  \\\n",
       "0       Meal Plan 1                           0        Room_Type 1        224   \n",
       "1      Not Selected                           0        Room_Type 1          5   \n",
       "2       Meal Plan 1                           0        Room_Type 1          1   \n",
       "3       Meal Plan 1                           0        Room_Type 1        211   \n",
       "4      Not Selected                           0        Room_Type 1        277   \n",
       "\n",
       "   arrival_year  arrival_month  arrival_date market_segment_type  \\\n",
       "0          2017             10             2             Offline   \n",
       "1          2018             11             6              Online   \n",
       "2          2018              2            28              Online   \n",
       "3          2018              5            20              Online   \n",
       "4          2019              7            13              Online   \n",
       "\n",
       "   repeated_guest  no_of_previous_cancellations  \\\n",
       "0               0                             0   \n",
       "1               0                             0   \n",
       "2               0                             0   \n",
       "3               0                             0   \n",
       "4               0                             0   \n",
       "\n",
       "   no_of_previous_bookings_not_canceled  avg_price_per_room  \\\n",
       "0                                     0               65.00   \n",
       "1                                     0              106.68   \n",
       "2                                     0               60.00   \n",
       "3                                     0              100.00   \n",
       "4                                     0               89.10   \n",
       "\n",
       "   no_of_special_requests booking_status  \n",
       "0                       0   Not_Canceled  \n",
       "1                       1   Not_Canceled  \n",
       "2                       0       Canceled  \n",
       "3                       0       Canceled  \n",
       "4                       2       Canceled  "
      ]
     },
     "execution_count": 57,
     "metadata": {},
     "output_type": "execute_result"
    }
   ],
   "source": [
    "data.head()"
   ]
  },
  {
   "cell_type": "code",
   "execution_count": 122,
   "metadata": {},
   "outputs": [],
   "source": [
    "### Function to plot stacked bar charts for categorical columns\n",
    "def stacked_plot(x):\n",
    "    sns.set()\n",
    "    ## crosstab\n",
    "    tab1 = pd.crosstab(x, data[\"booking_status\"], margins=True).sort_values(\n",
    "        by=\"1\", ascending=False\n",
    "    )\n",
    "    print(tab1)\n",
    "    print(\"-\" * 120)\n",
    "    ## visualising the cross tab\n",
    "    tab = pd.crosstab(x, data[\"booking_status\"], normalize=\"index\").sort_values(\n",
    "        by=\" 0\", ascending=False\n",
    "    )\n",
    "    tab.plot(kind=\"bar\", stacked=True, figsize=(17, 7))\n",
    "    plt.legend(\n",
    "        loc=\"lower left\", frameon=False,\n",
    "    )\n",
    "    plt.legend(loc=\"upper left\", bbox_to_anchor=(1, 1))\n",
    "    plt.show()\n"
   ]
  },
  {
   "cell_type": "code",
   "execution_count": 123,
   "metadata": {},
   "outputs": [],
   "source": [
    "def stacked_barplot(data, predictor, target):\n",
    "    \"\"\"\n",
    "    Print the category counts and plot a stacked bar chart\n",
    "\n",
    "    data: dataframe\n",
    "    predictor: independent variable\n",
    "    target: target variable\n",
    "    \"\"\"\n",
    "    count = data[predictor].nunique()\n",
    "    sorter = data[target].value_counts().index[-1]\n",
    "    tab1 = pd.crosstab(data[predictor], data[target], margins=True).sort_values(\n",
    "        by=sorter, ascending=False\n",
    "    )\n",
    "    print(tab1)\n",
    "    print(\"-\" * 120)\n",
    "    tab = pd.crosstab(data[predictor], data[target], normalize=\"index\").sort_values(\n",
    "        by=sorter, ascending=False\n",
    "    )\n",
    "    tab.plot(kind=\"bar\", stacked=True, figsize=(count + 5, 5))\n",
    "    plt.legend(\n",
    "        loc=\"lower left\", frameon=False,\n",
    "    )\n",
    "    plt.legend(loc=\"upper left\", bbox_to_anchor=(1, 1))\n",
    "    plt.show()"
   ]
  },
  {
   "cell_type": "code",
   "execution_count": 124,
   "metadata": {},
   "outputs": [
    {
     "name": "stdout",
     "output_type": "stream",
     "text": [
      "booking_status           0    All\n",
      "market_segment_type              \n",
      "All                  42576  42576\n",
      "Online               34169  34169\n",
      "Offline               5777   5777\n",
      "Corporate             1939   1939\n",
      "Complementary          496    496\n",
      "Aviation               195    195\n",
      "------------------------------------------------------------------------------------------------------------------------\n"
     ]
    },
    {
     "data": {
      "image/png": "[encoded data removed]",
      "text/plain": [
       "<Figure size 720x360 with 1 Axes>"
      ]
     },
     "metadata": {
      "needs_background": "light"
     },
     "output_type": "display_data"
    }
   ],
   "source": [
    "stacked_barplot(data, \"market_segment_type\", \"booking_status\")"
   ]
  },
  {
   "cell_type": "markdown",
   "metadata": {
    "id": "domestic-iceland"
   },
   "source": [
    "## Building a Logistic Regression model"
   ]
  },
  {
   "cell_type": "code",
   "execution_count": 59,
   "metadata": {
    "execution": {
     "iopub.status.busy": "2021-09-17T21:20:30.019054Z",
     "iopub.status.idle": "2021-09-17T21:20:30.019337Z",
     "shell.execute_reply": "2021-09-17T21:20:30.019207Z",
     "shell.execute_reply.started": "2021-09-17T21:20:30.019192Z"
    },
    "id": "unknown-institution"
   },
   "outputs": [],
   "source": [
    "# Library to suppress warnings or deprecation notes\n",
    "import warnings\n",
    "\n",
    "warnings.filterwarnings(\"ignore\")\n",
    "\n",
    "# Libraries to help with reading and manipulating data\n",
    "\n",
    "import pandas as pd\n",
    "import numpy as np\n",
    "\n",
    "# Library to split data\n",
    "from sklearn.model_selection import train_test_split\n",
    "\n",
    "# libaries to help with data visualization\n",
    "import matplotlib.pyplot as plt\n",
    "import seaborn as sns\n",
    "\n",
    "# Removes the limit for the number of displayed columns\n",
    "pd.set_option(\"display.max_columns\", None)\n",
    "# Sets the limit for the number of displayed rows\n",
    "pd.set_option(\"display.max_rows\", 200)\n",
    "\n",
    "# Libraries to build decision tree classifier\n",
    "from sklearn.tree import DecisionTreeClassifier\n",
    "from sklearn import tree\n",
    "\n",
    "# To tune different models\n",
    "from sklearn.model_selection import GridSearchCV\n",
    "\n",
    "# To perform statistical analysis\n",
    "import scipy.stats as stats\n",
    "\n",
    "# To get diferent metric scores\n",
    "from sklearn.metrics import (\n",
    "    f1_score,\n",
    "    accuracy_score,\n",
    "    recall_score,\n",
    "    precision_score,\n",
    "    confusion_matrix,\n",
    "    plot_confusion_matrix,\n",
    "    make_scorer,\n",
    ")"
   ]
  },
  {
   "cell_type": "code",
   "execution_count": 60,
   "metadata": {
    "execution": {
     "iopub.status.busy": "2021-09-17T21:20:30.019924Z",
     "iopub.status.idle": "2021-09-17T21:20:30.020194Z",
     "shell.execute_reply": "2021-09-17T21:20:30.020065Z",
     "shell.execute_reply.started": "2021-09-17T21:20:30.020051Z"
    }
   },
   "outputs": [],
   "source": [
    "# defining a function to compute different metrics to check performance of a classification model built using statsmodels\n",
    "def model_performance_classification_statsmodels(\n",
    "    model, predictors, target, threshold=0.5\n",
    "):\n",
    "    \"\"\"\n",
    "    Function to compute different metrics to check classification model performance\n",
    "\n",
    "    model: classifier\n",
    "    predictors: independent variables\n",
    "    target: dependent variable\n",
    "    threshold: threshold for classifying the observation as class 1\n",
    "    \"\"\"\n",
    "\n",
    "    # checking which probabilities are greater than threshold\n",
    "    pred_temp = model.predict(predictors) > threshold\n",
    "    # rounding off the above values to get classes\n",
    "    pred = np.round(pred_temp)\n",
    "\n",
    "    acc = accuracy_score(target, pred)  # to compute Accuracy\n",
    "    recall = recall_score(target, pred)  # to compute Recall\n",
    "    precision = precision_score(target, pred)  # to compute Precision\n",
    "    f1 = f1_score(target, pred)  # to compute F1-score\n",
    "\n",
    "    # creating a dataframe of metrics\n",
    "    df_perf = pd.DataFrame(\n",
    "        {\"Accuracy\": acc, \"Recall\": recall, \"Precision\": precision, \"F1\": f1,},\n",
    "        index=[0],\n",
    "    )\n",
    "\n",
    "    return df_perf"
   ]
  },
  {
   "cell_type": "code",
   "execution_count": 61,
   "metadata": {
    "execution": {
     "iopub.status.busy": "2021-09-17T21:20:30.021162Z",
     "iopub.status.idle": "2021-09-17T21:20:30.021465Z",
     "shell.execute_reply": "2021-09-17T21:20:30.02133Z",
     "shell.execute_reply.started": "2021-09-17T21:20:30.021314Z"
    }
   },
   "outputs": [],
   "source": [
    "# defining a function to plot the confusion_matrix of a classification model\n",
    "\n",
    "\n",
    "def confusion_matrix_statsmodels(model, predictors, target, threshold=0.5):\n",
    "    \"\"\"\n",
    "    To plot the confusion_matrix with percentages\n",
    "\n",
    "    model: classifier\n",
    "    predictors: independent variables\n",
    "    target: dependent variable\n",
    "    threshold: threshold for classifying the observation as class 1\n",
    "    \"\"\"\n",
    "    y_pred = model.predict(predictors) > threshold\n",
    "    cm = confusion_matrix(target, y_pred)\n",
    "    labels = np.asarray(\n",
    "        [\n",
    "            [\"{0:0.0f}\".format(item) + \"\\n{0:.2%}\".format(item / cm.flatten().sum())]\n",
    "            for item in cm.flatten()\n",
    "        ]\n",
    "    ).reshape(2, 2)\n",
    "\n",
    "    plt.figure(figsize=(6, 4))\n",
    "    sns.heatmap(cm, annot=labels, fmt=\"\")\n",
    "    plt.ylabel(\"True label\")\n",
    "    plt.xlabel(\"Predicted label\")\n"
   ]
  },
  {
   "cell_type": "code",
   "execution_count": 62,
   "metadata": {
    "execution": {
     "iopub.status.busy": "2021-09-17T21:20:30.022412Z",
     "iopub.status.idle": "2021-09-17T21:20:30.022729Z",
     "shell.execute_reply": "2021-09-17T21:20:30.022566Z",
     "shell.execute_reply.started": "2021-09-17T21:20:30.022553Z"
    }
   },
   "outputs": [],
   "source": [
    "#X = data.drop(\"booking_status\", axis=1)\n",
    "#Y = data[\"booking_status\"]\n",
    "\n",
    "# creating dummy variables\n",
    "#X = pd.get_dummies(X, drop_first=True)\n",
    "\n",
    "# splitting in training and test set\n",
    "#X_train, X_test, y_train, y_test = train_test_split(X, Y, test_size=0.3, random_state=1)"
   ]
  },
  {
   "cell_type": "code",
   "execution_count": 63,
   "metadata": {},
   "outputs": [
    {
     "name": "stdout",
     "output_type": "stream",
     "text": [
      "<class 'pandas.core.frame.DataFrame'>\n",
      "Int64Index: 42576 entries, 0 to 56924\n",
      "Data columns (total 18 columns):\n",
      " #   Column                                Non-Null Count  Dtype   \n",
      "---  ------                                --------------  -----   \n",
      " 0   no_of_adults                          42576 non-null  int64   \n",
      " 1   no_of_children                        42576 non-null  int64   \n",
      " 2   no_of_weekend_nights                  42576 non-null  int64   \n",
      " 3   no_of_week_nights                     42576 non-null  int64   \n",
      " 4   type_of_meal_plan                     42576 non-null  category\n",
      " 5   required_car_parking_space            42576 non-null  int64   \n",
      " 6   room_type_reserved                    42576 non-null  category\n",
      " 7   lead_time                             42576 non-null  int64   \n",
      " 8   arrival_year                          42576 non-null  int64   \n",
      " 9   arrival_month                         42576 non-null  int64   \n",
      " 10  arrival_date                          42576 non-null  int64   \n",
      " 11  market_segment_type                   42576 non-null  category\n",
      " 12  repeated_guest                        42576 non-null  int64   \n",
      " 13  no_of_previous_cancellations          42576 non-null  int64   \n",
      " 14  no_of_previous_bookings_not_canceled  42576 non-null  int64   \n",
      " 15  avg_price_per_room                    42576 non-null  float64 \n",
      " 16  no_of_special_requests                42576 non-null  int64   \n",
      " 17  booking_status                        42576 non-null  category\n",
      "dtypes: category(4), float64(1), int64(13)\n",
      "memory usage: 6.3 MB\n"
     ]
    }
   ],
   "source": [
    "data.info()"
   ]
  },
  {
   "cell_type": "code",
   "execution_count": null,
   "metadata": {},
   "outputs": [],
   "source": []
  },
  {
   "cell_type": "code",
   "execution_count": 105,
   "metadata": {},
   "outputs": [],
   "source": [
    "data[\"booking_status\"] = data[\"booking_status\"].apply(lambda x: 1 if x == \"Canceled\" else 0)"
   ]
  },
  {
   "cell_type": "code",
   "execution_count": 106,
   "metadata": {},
   "outputs": [],
   "source": [
    "X = data.drop([\"booking_status\"], axis=1)\n",
    "Y = data[\"booking_status\"]\n",
    "\n",
    "X = pd.get_dummies(X, drop_first=True)\n",
    "\n",
    "# Splitting data in train and test sets\n",
    "X_train, X_test, y_train, y_test = train_test_split(\n",
    "    X, Y, test_size=0.30, random_state=1\n",
    ")"
   ]
  },
  {
   "cell_type": "code",
   "execution_count": 66,
   "metadata": {},
   "outputs": [
    {
     "name": "stdout",
     "output_type": "stream",
     "text": [
      "Shape of Training set :  (29803, 27)\n",
      "Shape of test set :  (12773, 27)\n",
      "Percentage of classes in training set:\n",
      "0    0.661074\n",
      "1    0.338926\n",
      "Name: booking_status, dtype: float64\n",
      "Percentage of classes in test set:\n",
      "0    0.656619\n",
      "1    0.343381\n",
      "Name: booking_status, dtype: float64\n"
     ]
    }
   ],
   "source": [
    "print(\"Shape of Training set : \", X_train.shape)\n",
    "print(\"Shape of test set : \", X_test.shape)\n",
    "print(\"Percentage of classes in training set:\")\n",
    "print(y_train.value_counts(normalize=True))\n",
    "print(\"Percentage of classes in test set:\")\n",
    "print(y_test.value_counts(normalize=True))"
   ]
  },
  {
   "cell_type": "code",
   "execution_count": 67,
   "metadata": {
    "execution": {
     "iopub.status.busy": "2021-09-17T21:20:30.0244Z",
     "iopub.status.idle": "2021-09-17T21:20:30.024877Z",
     "shell.execute_reply": "2021-09-17T21:20:30.02472Z",
     "shell.execute_reply.started": "2021-09-17T21:20:30.024702Z"
    }
   },
   "outputs": [],
   "source": [
    "# import warnings\n",
    "\n",
    "# warnings.filterwarnings(\"ignore\")\n",
    "\n",
    "# Libraries to help with reading and manipulating data\n",
    "\n",
    "import pandas as pd\n",
    "import numpy as np\n",
    "\n",
    "# Library to split data\n",
    "from sklearn.model_selection import train_test_split\n",
    "\n",
    "# libaries to help with data visualization\n",
    "import matplotlib.pyplot as plt\n",
    "import seaborn as sns\n",
    "\n",
    "# Removes the limit for the number of displayed columns\n",
    "pd.set_option(\"display.max_columns\", None)\n",
    "# Sets the limit for the number of displayed rows\n",
    "pd.set_option(\"display.max_rows\", 200)\n",
    "\n",
    "\n",
    "# To build model for prediction\n",
    "import statsmodels.stats.api as sms\n",
    "from statsmodels.stats.outliers_influence import variance_inflation_factor\n",
    "import statsmodels.api as sm\n",
    "from statsmodels.tools.tools import add_constant\n",
    "from sklearn.linear_model import LogisticRegression\n",
    "\n",
    "# To get diferent metric scores\n",
    "from sklearn.metrics import (\n",
    "    f1_score,\n",
    "    accuracy_score,\n",
    "    recall_score,\n",
    "    precision_score,\n",
    "    confusion_matrix,\n",
    "    roc_auc_score,\n",
    "    plot_confusion_matrix,\n",
    "    precision_recall_curve,\n",
    "    roc_curve,\n",
    ")"
   ]
  },
  {
   "cell_type": "code",
   "execution_count": 102,
   "metadata": {
    "execution": {
     "iopub.status.busy": "2021-09-17T21:20:30.025579Z",
     "iopub.status.idle": "2021-09-17T21:20:30.025894Z",
     "shell.execute_reply": "2021-09-17T21:20:30.025757Z",
     "shell.execute_reply.started": "2021-09-17T21:20:30.025743Z"
    }
   },
   "outputs": [],
   "source": [
    "# Simple example for beginers how to adress \"\"\n",
    "import numpy as np\n",
    "from sklearn                        import metrics, svm\n",
    "from sklearn.linear_model           import LinearRegression\n",
    "from sklearn import preprocessing\n",
    "from sklearn import utils"
   ]
  },
  {
   "cell_type": "code",
   "execution_count": 103,
   "metadata": {
    "execution": {
     "iopub.status.busy": "2021-09-17T21:20:30.026486Z",
     "iopub.status.idle": "2021-09-17T21:20:30.026775Z",
     "shell.execute_reply": "2021-09-17T21:20:30.026639Z",
     "shell.execute_reply.started": "2021-09-17T21:20:30.026625Z"
    }
   },
   "outputs": [
    {
     "name": "stdout",
     "output_type": "stream",
     "text": [
      "52247    0\n",
      "8414     0\n",
      "44196    1\n",
      "28535    0\n",
      "18280    0\n",
      "        ..\n",
      "9003     0\n",
      "42111    1\n",
      "5815     1\n",
      "14360    1\n",
      "42831    0\n",
      "Name: booking_status, Length: 29803, dtype: category\n",
      "Categories (2, int64): [1, 0]\n"
     ]
    }
   ],
   "source": [
    "print(y_train)"
   ]
  },
  {
   "cell_type": "code",
   "execution_count": 104,
   "metadata": {
    "execution": {
     "iopub.status.busy": "2021-09-17T21:20:30.027504Z",
     "iopub.status.idle": "2021-09-17T21:20:30.027804Z",
     "shell.execute_reply": "2021-09-17T21:20:30.027677Z",
     "shell.execute_reply.started": "2021-09-17T21:20:30.027663Z"
    }
   },
   "outputs": [
    {
     "name": "stdout",
     "output_type": "stream",
     "text": [
      "       1  0\n",
      "0      0  1\n",
      "1      0  1\n",
      "2      1  0\n",
      "3      1  0\n",
      "4      1  0\n",
      "...   .. ..\n",
      "56920  0  1\n",
      "56921  0  1\n",
      "56922  1  0\n",
      "56923  1  0\n",
      "56924  0  1\n",
      "\n",
      "[42576 rows x 2 columns]\n"
     ]
    }
   ],
   "source": [
    "data_one = pd.get_dummies(data[\"booking_status\"])\n",
    "print(data_one)"
   ]
  },
  {
   "cell_type": "code",
   "execution_count": 71,
   "metadata": {
    "execution": {
     "iopub.status.busy": "2021-09-17T21:20:30.029493Z",
     "iopub.status.idle": "2021-09-17T21:20:30.030016Z",
     "shell.execute_reply": "2021-09-17T21:20:30.02986Z",
     "shell.execute_reply.started": "2021-09-17T21:20:30.029842Z"
    }
   },
   "outputs": [
    {
     "name": "stdout",
     "output_type": "stream",
     "text": [
      "52247    0\n",
      "8414     0\n",
      "44196    1\n",
      "28535    0\n",
      "18280    0\n",
      "        ..\n",
      "9003     0\n",
      "42111    1\n",
      "5815     1\n",
      "14360    1\n",
      "42831    0\n",
      "Name: booking_status, Length: 29803, dtype: category\n",
      "Categories (2, int64): [1, 0]\n"
     ]
    }
   ],
   "source": [
    "print(y_train)"
   ]
  },
  {
   "cell_type": "code",
   "execution_count": 72,
   "metadata": {
    "execution": {
     "iopub.status.busy": "2021-09-17T21:20:30.030863Z",
     "iopub.status.idle": "2021-09-17T21:20:30.03142Z",
     "shell.execute_reply": "2021-09-17T21:20:30.031262Z",
     "shell.execute_reply.started": "2021-09-17T21:20:30.031243Z"
    }
   },
   "outputs": [],
   "source": [
    "#** Note: If is binary data you can use this type of regression.** There are different solvers available in Sklearn logistic regression\n",
    "# The newton-cg solver is faster for high-dimensional data\n",
    "\n",
    "model = LinearRegression()\n",
    "lg = model.fit(X_train, y_train)"
   ]
  },
  {
   "cell_type": "code",
   "execution_count": 73,
   "metadata": {
    "execution": {
     "iopub.status.busy": "2021-09-17T21:20:30.032257Z",
     "iopub.status.idle": "2021-09-17T21:20:30.032692Z",
     "shell.execute_reply": "2021-09-17T21:20:30.032535Z",
     "shell.execute_reply.started": "2021-09-17T21:20:30.03252Z"
    }
   },
   "outputs": [],
   "source": [
    "# predicting on training set\n",
    "y_pred_train = lg.predict(X_train)"
   ]
  },
  {
   "cell_type": "code",
   "execution_count": 74,
   "metadata": {
    "execution": {
     "iopub.status.busy": "2021-09-17T21:20:30.03354Z",
     "iopub.status.idle": "2021-09-17T21:20:30.034248Z",
     "shell.execute_reply": "2021-09-17T21:20:30.034105Z",
     "shell.execute_reply.started": "2021-09-17T21:20:30.034087Z"
    }
   },
   "outputs": [
    {
     "name": "stdout",
     "output_type": "stream",
     "text": [
      "[0.18278694 0.08825435 0.71171396 ... 0.33758351 0.60612551 0.33473882]\n"
     ]
    }
   ],
   "source": [
    "print(y_pred_train)"
   ]
  },
  {
   "cell_type": "code",
   "execution_count": 75,
   "metadata": {
    "execution": {
     "iopub.status.busy": "2021-09-17T21:20:30.035187Z",
     "iopub.status.idle": "2021-09-17T21:20:30.035471Z",
     "shell.execute_reply": "2021-09-17T21:20:30.035346Z",
     "shell.execute_reply.started": "2021-09-17T21:20:30.035332Z"
    }
   },
   "outputs": [
    {
     "data": {
      "text/plain": [
       "<bound method LinearRegression.fit of LinearRegression()>"
      ]
     },
     "execution_count": 75,
     "metadata": {},
     "output_type": "execute_result"
    }
   ],
   "source": [
    "model.fit"
   ]
  },
  {
   "cell_type": "markdown",
   "metadata": {
    "id": "historic-season"
   },
   "source": [
    "## Model performance evaluation"
   ]
  },
  {
   "cell_type": "code",
   "execution_count": 90,
   "metadata": {
    "execution": {
     "iopub.status.busy": "2021-09-17T21:20:30.036076Z",
     "iopub.status.idle": "2021-09-17T21:20:30.036341Z",
     "shell.execute_reply": "2021-09-17T21:20:30.036216Z",
     "shell.execute_reply.started": "2021-09-17T21:20:30.036203Z"
    },
    "id": "integral-conservation"
   },
   "outputs": [],
   "source": [
    "from sklearn.metrics import mean_squared_error, r2_score\n",
    "import math"
   ]
  },
  {
   "cell_type": "code",
   "execution_count": 91,
   "metadata": {
    "execution": {
     "iopub.status.busy": "2021-09-17T21:20:30.037295Z",
     "iopub.status.idle": "2021-09-17T21:20:30.037617Z",
     "shell.execute_reply": "2021-09-17T21:20:30.037453Z",
     "shell.execute_reply.started": "2021-09-17T21:20:30.037439Z"
    }
   },
   "outputs": [
    {
     "data": {
      "text/plain": [
       "0.1465065879005713"
      ]
     },
     "execution_count": 91,
     "metadata": {},
     "output_type": "execute_result"
    }
   ],
   "source": [
    "mean_squared_error(y_pred_train, y_train)\n"
   ]
  },
  {
   "cell_type": "code",
   "execution_count": 92,
   "metadata": {
    "execution": {
     "iopub.status.busy": "2021-09-17T21:20:30.038312Z",
     "iopub.status.idle": "2021-09-17T21:20:30.03861Z",
     "shell.execute_reply": "2021-09-17T21:20:30.038458Z",
     "shell.execute_reply.started": "2021-09-17T21:20:30.038443Z"
    }
   },
   "outputs": [
    {
     "data": {
      "text/plain": [
       "0.3827617900216417"
      ]
     },
     "execution_count": 92,
     "metadata": {},
     "output_type": "execute_result"
    }
   ],
   "source": [
    "math.sqrt(mean_squared_error(y_pred_train, y_train))"
   ]
  },
  {
   "cell_type": "code",
   "execution_count": 93,
   "metadata": {
    "execution": {
     "iopub.execute_input": "2021-09-17T21:20:47.992306Z",
     "iopub.status.busy": "2021-09-17T21:20:47.992023Z",
     "iopub.status.idle": "2021-09-17T21:20:48.008807Z",
     "shell.execute_reply": "2021-09-17T21:20:48.00772Z",
     "shell.execute_reply.started": "2021-09-17T21:20:47.992279Z"
    }
   },
   "outputs": [
    {
     "data": {
      "text/plain": [
       "-0.8892264298996881"
      ]
     },
     "execution_count": 93,
     "metadata": {},
     "output_type": "execute_result"
    }
   ],
   "source": [
    "r2_score(y_pred_train, y_train)\n",
    "#proportion of variability of your target "
   ]
  },
  {
   "cell_type": "code",
   "execution_count": 94,
   "metadata": {
    "execution": {
     "iopub.execute_input": "2021-09-17T21:20:45.164242Z",
     "iopub.status.busy": "2021-09-17T21:20:45.163562Z",
     "iopub.status.idle": "2021-09-17T21:20:45.883742Z",
     "shell.execute_reply": "2021-09-17T21:20:45.88274Z",
     "shell.execute_reply.started": "2021-09-17T21:20:45.164197Z"
    }
   },
   "outputs": [
    {
     "name": "stdout",
     "output_type": "stream",
     "text": [
      "                            OLS Regression Results                            \n",
      "==============================================================================\n",
      "Dep. Variable:         booking_status   R-squared:                       0.346\n",
      "Model:                            OLS   Adj. R-squared:                  0.346\n",
      "Method:                 Least Squares   F-statistic:                     583.7\n",
      "Date:                Sat, 18 Sep 2021   Prob (F-statistic):               0.00\n",
      "Time:                        00:13:11   Log-Likelihood:                -13668.\n",
      "No. Observations:               29803   AIC:                         2.739e+04\n",
      "Df Residuals:                   29775   BIC:                         2.762e+04\n",
      "Df Model:                          27                                         \n",
      "Covariance Type:            nonrobust                                         \n",
      "========================================================================================================\n",
      "                                           coef    std err          t      P>|t|      [0.025      0.975]\n",
      "--------------------------------------------------------------------------------------------------------\n",
      "const                                   -7.1923      9.565     -0.752      0.452     -25.940      11.555\n",
      "no_of_adults                             0.0022      0.005      0.439      0.661      -0.008       0.012\n",
      "no_of_children                           0.0231      0.007      3.366      0.001       0.010       0.037\n",
      "no_of_weekend_nights                     0.0048      0.003      1.857      0.063      -0.000       0.010\n",
      "no_of_week_nights                        0.0129      0.002      8.346      0.000       0.010       0.016\n",
      "required_car_parking_space              -0.1449      0.012    -11.663      0.000      -0.169      -0.121\n",
      "lead_time                                0.0026   3.31e-05     78.902      0.000       0.003       0.003\n",
      "arrival_year                             0.0035      0.005      0.744      0.457      -0.006       0.013\n",
      "arrival_month                           -0.0037      0.001     -4.093      0.000      -0.005      -0.002\n",
      "arrival_date                            -0.0004      0.000     -1.429      0.153      -0.001       0.000\n",
      "repeated_guest                          -0.0139      0.018     -0.769      0.442      -0.049       0.022\n",
      "no_of_previous_cancellations            -0.0106      0.007     -1.444      0.149      -0.025       0.004\n",
      "no_of_previous_bookings_not_canceled     0.0051      0.001      3.761      0.000       0.002       0.008\n",
      "avg_price_per_room                       0.0023   8.78e-05     26.478      0.000       0.002       0.002\n",
      "no_of_special_requests                  -0.1810      0.003    -65.067      0.000      -0.186      -0.176\n",
      "type_of_meal_plan_Meal Plan 2           -0.0198      0.011     -1.787      0.074      -0.042       0.002\n",
      "type_of_meal_plan_Meal Plan 3            0.1078      0.174      0.621      0.535      -0.233       0.448\n",
      "type_of_meal_plan_Not Selected           0.0497      0.006      7.844      0.000       0.037       0.062\n",
      "room_type_reserved_Room_Type 2          -0.0168      0.018     -0.932      0.352      -0.052       0.019\n",
      "room_type_reserved_Room_Type 3           0.0161      0.171      0.094      0.925      -0.320       0.352\n",
      "room_type_reserved_Room_Type 4          -0.0081      0.006     -1.255      0.209      -0.021       0.005\n",
      "room_type_reserved_Room_Type 5          -0.0163      0.016     -0.994      0.320      -0.048       0.016\n",
      "room_type_reserved_Room_Type 6          -0.0488      0.017     -2.866      0.004      -0.082      -0.015\n",
      "room_type_reserved_Room_Type 7          -0.0535      0.028     -1.895      0.058      -0.109       0.002\n",
      "market_segment_type_Complementary        0.2458      0.040      6.129      0.000       0.167       0.324\n",
      "market_segment_type_Corporate            0.0223      0.035      0.640      0.522      -0.046       0.090\n",
      "market_segment_type_Offline             -0.1690      0.034     -4.951      0.000      -0.236      -0.102\n",
      "market_segment_type_Online               0.1239      0.034      3.673      0.000       0.058       0.190\n",
      "==============================================================================\n",
      "Omnibus:                     1838.018   Durbin-Watson:                   1.988\n",
      "Prob(Omnibus):                  0.000   Jarque-Bera (JB):             1272.504\n",
      "Skew:                           0.397   Prob(JB):                    4.78e-277\n",
      "Kurtosis:                       2.372   Cond. No.                     8.72e+06\n",
      "==============================================================================\n",
      "\n",
      "Notes:\n",
      "[1] Standard Errors assume that the covariance matrix of the errors is correctly specified.\n",
      "[2] The condition number is large, 8.72e+06. This might indicate that there are\n",
      "strong multicollinearity or other numerical problems.\n"
     ]
    }
   ],
   "source": [
    "import pandas as pd\n",
    "import numpy as np\n",
    "from sklearn import datasets, linear_model\n",
    "from sklearn.linear_model import LinearRegression\n",
    "import statsmodels.api as sm\n",
    "from scipy import stats\n",
    "\n",
    "datanew = sm.add_constant(X_train)\n",
    "est = sm.OLS(y_train, datanew)\n",
    "est2 = est.fit()\n",
    "print(est2.summary())"
   ]
  },
  {
   "cell_type": "code",
   "execution_count": 95,
   "metadata": {
    "execution": {
     "iopub.status.busy": "2021-09-17T21:20:30.042582Z",
     "iopub.status.idle": "2021-09-17T21:20:30.043428Z",
     "shell.execute_reply": "2021-09-17T21:20:30.043263Z",
     "shell.execute_reply.started": "2021-09-17T21:20:30.043244Z"
    }
   },
   "outputs": [],
   "source": [
    "x_train2 = X_train.copy()"
   ]
  },
  {
   "cell_type": "code",
   "execution_count": 96,
   "metadata": {
    "execution": {
     "iopub.status.busy": "2021-09-17T21:20:30.044106Z",
     "iopub.status.idle": "2021-09-17T21:20:30.044755Z",
     "shell.execute_reply": "2021-09-17T21:20:30.044573Z",
     "shell.execute_reply.started": "2021-09-17T21:20:30.044556Z"
    }
   },
   "outputs": [],
   "source": [
    "x_train2 = x_train2.drop([\"no_of_previous_cancellations\"], axis=1)"
   ]
  },
  {
   "cell_type": "code",
   "execution_count": 97,
   "metadata": {
    "execution": {
     "iopub.status.busy": "2021-09-17T21:20:30.045401Z",
     "iopub.status.idle": "2021-09-17T21:20:30.04585Z",
     "shell.execute_reply": "2021-09-17T21:20:30.045708Z",
     "shell.execute_reply.started": "2021-09-17T21:20:30.045691Z"
    }
   },
   "outputs": [
    {
     "name": "stdout",
     "output_type": "stream",
     "text": [
      "                            OLS Regression Results                            \n",
      "==============================================================================\n",
      "Dep. Variable:         booking_status   R-squared:                       0.346\n",
      "Model:                            OLS   Adj. R-squared:                  0.345\n",
      "Method:                 Least Squares   F-statistic:                     606.1\n",
      "Date:                Sat, 18 Sep 2021   Prob (F-statistic):               0.00\n",
      "Time:                        00:13:12   Log-Likelihood:                -13669.\n",
      "No. Observations:               29803   AIC:                         2.739e+04\n",
      "Df Residuals:                   29776   BIC:                         2.762e+04\n",
      "Df Model:                          26                                         \n",
      "Covariance Type:            nonrobust                                         \n",
      "========================================================================================================\n",
      "                                           coef    std err          t      P>|t|      [0.025      0.975]\n",
      "--------------------------------------------------------------------------------------------------------\n",
      "const                                   -7.7454      9.557     -0.810      0.418     -26.478      10.987\n",
      "no_of_adults                             0.0022      0.005      0.431      0.666      -0.008       0.012\n",
      "no_of_children                           0.0232      0.007      3.373      0.001       0.010       0.037\n",
      "no_of_weekend_nights                     0.0049      0.003      1.872      0.061      -0.000       0.010\n",
      "no_of_week_nights                        0.0129      0.002      8.351      0.000       0.010       0.016\n",
      "required_car_parking_space              -0.1447      0.012    -11.647      0.000      -0.169      -0.120\n",
      "lead_time                                0.0026   3.31e-05     78.893      0.000       0.003       0.003\n",
      "arrival_year                             0.0038      0.005      0.802      0.422      -0.005       0.013\n",
      "arrival_month                           -0.0036      0.001     -4.035      0.000      -0.005      -0.002\n",
      "arrival_date                            -0.0004      0.000     -1.419      0.156      -0.001       0.000\n",
      "repeated_guest                          -0.0180      0.018     -1.008      0.313      -0.053       0.017\n",
      "no_of_previous_bookings_not_canceled     0.0042      0.001      3.488      0.000       0.002       0.007\n",
      "avg_price_per_room                       0.0023   8.78e-05     26.481      0.000       0.002       0.002\n",
      "no_of_special_requests                  -0.1809      0.003    -65.050      0.000      -0.186      -0.175\n",
      "type_of_meal_plan_Meal Plan 2           -0.0198      0.011     -1.783      0.075      -0.042       0.002\n",
      "type_of_meal_plan_Meal Plan 3            0.1100      0.174      0.633      0.527      -0.230       0.450\n",
      "type_of_meal_plan_Not Selected           0.0497      0.006      7.844      0.000       0.037       0.062\n",
      "room_type_reserved_Room_Type 2          -0.0166      0.018     -0.920      0.358      -0.052       0.019\n",
      "room_type_reserved_Room_Type 3           0.0161      0.171      0.094      0.925      -0.320       0.352\n",
      "room_type_reserved_Room_Type 4          -0.0081      0.006     -1.258      0.208      -0.021       0.005\n",
      "room_type_reserved_Room_Type 5          -0.0164      0.016     -1.002      0.316      -0.048       0.016\n",
      "room_type_reserved_Room_Type 6          -0.0489      0.017     -2.871      0.004      -0.082      -0.016\n",
      "room_type_reserved_Room_Type 7          -0.0539      0.028     -1.909      0.056      -0.109       0.001\n",
      "market_segment_type_Complementary        0.2459      0.040      6.132      0.000       0.167       0.324\n",
      "market_segment_type_Corporate            0.0236      0.035      0.678      0.498      -0.045       0.092\n",
      "market_segment_type_Offline             -0.1699      0.034     -4.978      0.000      -0.237      -0.103\n",
      "market_segment_type_Online               0.1228      0.034      3.643      0.000       0.057       0.189\n",
      "==============================================================================\n",
      "Omnibus:                     1842.141   Durbin-Watson:                   1.988\n",
      "Prob(Omnibus):                  0.000   Jarque-Bera (JB):             1273.966\n",
      "Skew:                           0.397   Prob(JB):                    2.30e-277\n",
      "Kurtosis:                       2.371   Cond. No.                     8.72e+06\n",
      "==============================================================================\n",
      "\n",
      "Notes:\n",
      "[1] Standard Errors assume that the covariance matrix of the errors is correctly specified.\n",
      "[2] The condition number is large, 8.72e+06. This might indicate that there are\n",
      "strong multicollinearity or other numerical problems.\n"
     ]
    }
   ],
   "source": [
    "datanew = sm.add_constant(x_train2)\n",
    "est = sm.OLS(y_train, datanew)\n",
    "est2 = est.fit()\n",
    "print(est2.summary())"
   ]
  },
  {
   "cell_type": "code",
   "execution_count": 98,
   "metadata": {
    "execution": {
     "iopub.status.busy": "2021-09-17T21:20:30.046721Z",
     "iopub.status.idle": "2021-09-17T21:20:30.047477Z",
     "shell.execute_reply": "2021-09-17T21:20:30.047316Z",
     "shell.execute_reply.started": "2021-09-17T21:20:30.047296Z"
    }
   },
   "outputs": [
    {
     "data": {
      "text/plain": [
       "-0.8892264298996881"
      ]
     },
     "execution_count": 98,
     "metadata": {},
     "output_type": "execute_result"
    }
   ],
   "source": [
    "r2_score(y_pred_train, y_train)\n",
    "#proportion of variability of your target "
   ]
  },
  {
   "cell_type": "code",
   "execution_count": 99,
   "metadata": {
    "execution": {
     "iopub.status.busy": "2021-09-17T21:20:30.04825Z",
     "iopub.status.idle": "2021-09-17T21:20:30.048966Z",
     "shell.execute_reply": "2021-09-17T21:20:30.0488Z",
     "shell.execute_reply.started": "2021-09-17T21:20:30.048781Z"
    }
   },
   "outputs": [],
   "source": [
    "\n",
    "model = LinearRegression()\n",
    "lg = model.fit(x_train2, y_train)"
   ]
  },
  {
   "cell_type": "code",
   "execution_count": 100,
   "metadata": {
    "execution": {
     "iopub.status.busy": "2021-09-17T21:20:30.050025Z",
     "iopub.status.idle": "2021-09-17T21:20:30.050775Z",
     "shell.execute_reply": "2021-09-17T21:20:30.050614Z",
     "shell.execute_reply.started": "2021-09-17T21:20:30.050586Z"
    }
   },
   "outputs": [],
   "source": [
    "y_pred_train2 = lg.predict(x_train2)"
   ]
  },
  {
   "cell_type": "code",
   "execution_count": 101,
   "metadata": {
    "execution": {
     "iopub.status.busy": "2021-09-17T21:20:30.051636Z",
     "iopub.status.idle": "2021-09-17T21:20:30.052401Z",
     "shell.execute_reply": "2021-09-17T21:20:30.052228Z",
     "shell.execute_reply.started": "2021-09-17T21:20:30.052207Z"
    }
   },
   "outputs": [
    {
     "data": {
      "text/plain": [
       "-0.8896087163202382"
      ]
     },
     "execution_count": 101,
     "metadata": {},
     "output_type": "execute_result"
    }
   ],
   "source": [
    "r2_score(y_pred_train2, y_train)\n",
    "#proportion of variability of your target "
   ]
  },
  {
   "cell_type": "code",
   "execution_count": 111,
   "metadata": {},
   "outputs": [],
   "source": [
    "data[\"booking_status\"] = data[\"booking_status\"].apply(lambda x: 1 if x == \"Canceled\" else 0)"
   ]
  },
  {
   "cell_type": "code",
   "execution_count": 113,
   "metadata": {},
   "outputs": [],
   "source": [
    "X = data.drop([\"booking_status\"], axis=1)\n",
    "Y = data[\"booking_status\"]\n",
    "\n",
    "X = pd.get_dummies(X, drop_first=True)\n",
    "\n",
    "# Splitting data in train and test sets\n",
    "X_train, X_test, y_train, y_test = train_test_split(\n",
    "    X, Y, test_size=0.30, random_state=1\n",
    ")"
   ]
  },
  {
   "cell_type": "code",
   "execution_count": 114,
   "metadata": {},
   "outputs": [
    {
     "name": "stdout",
     "output_type": "stream",
     "text": [
      "Shape of Training set :  (29803, 27)\n",
      "Shape of test set :  (12773, 27)\n",
      "Percentage of classes in training set:\n",
      "0    1.0\n",
      "Name: booking_status, dtype: float64\n",
      "Percentage of classes in test set:\n",
      "0    1.0\n",
      "Name: booking_status, dtype: float64\n"
     ]
    }
   ],
   "source": [
    "print(\"Shape of Training set : \", X_train.shape)\n",
    "print(\"Shape of test set : \", X_test.shape)\n",
    "print(\"Percentage of classes in training set:\")\n",
    "print(y_train.value_counts(normalize=True))\n",
    "print(\"Percentage of classes in test set:\")\n",
    "print(y_test.value_counts(normalize=True))"
   ]
  },
  {
   "cell_type": "markdown",
   "metadata": {
    "id": "stylish-collaboration"
   },
   "source": [
    "## Final Model Summary"
   ]
  },
  {
   "cell_type": "code",
   "execution_count": null,
   "metadata": {
    "id": "related-breathing"
   },
   "outputs": [],
   "source": []
  },
  {
   "cell_type": "markdown",
   "metadata": {
    "id": "amazing-fluid"
   },
   "source": [
    "## Building a Decision Tree model"
   ]
  },
  {
   "cell_type": "code",
   "execution_count": null,
   "metadata": {
    "id": "neither-hydrogen"
   },
   "outputs": [],
   "source": []
  },
  {
   "cell_type": "markdown",
   "metadata": {
    "id": "limited-strengthening"
   },
   "source": [
    "## Do we need to prune the tree?"
   ]
  },
  {
   "cell_type": "code",
   "execution_count": null,
   "metadata": {
    "id": "ambient-elements"
   },
   "outputs": [],
   "source": []
  },
  {
   "cell_type": "markdown",
   "metadata": {
    "id": "obvious-maine"
   },
   "source": [
    "## Model Performance Comparison and Conclusions"
   ]
  },
  {
   "cell_type": "code",
   "execution_count": null,
   "metadata": {
    "id": "everyday-kinase"
   },
   "outputs": [],
   "source": []
  },
  {
   "cell_type": "markdown",
   "metadata": {
    "id": "nasty-retailer"
   },
   "source": [
    "## Actionable Insights and Recommendations\n",
    "\n",
    "- What profitable policies for cancellations and refunds can the hotel adopt?\n",
    "- What other recommedations would you suggest to the hotel?"
   ]
  },
  {
   "cell_type": "code",
   "execution_count": null,
   "metadata": {
    "id": "amino-prediction"
   },
   "outputs": [],
   "source": []
  },
  {
   "cell_type": "code",
   "execution_count": null,
   "metadata": {},
   "outputs": [],
   "source": []
  }
 ],
 "metadata": {
  "kernelspec": {
   "display_name": "Python 3",
   "language": "python",
   "name": "python3"
  },
  "language_info": {
   "codemirror_mode": {
    "name": "ipython",
    "version": 3
   },
   "file_extension": ".py",
   "mimetype": "text/x-python",
   "name": "python",
   "nbconvert_exporter": "python",
   "pygments_lexer": "ipython3",
   "version": "3.8.5"
  }
 },
 "nbformat": 4,
 "nbformat_minor": 4
}
